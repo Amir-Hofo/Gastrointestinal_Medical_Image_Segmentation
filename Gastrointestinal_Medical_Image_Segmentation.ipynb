{
  "nbformat": 4,
  "nbformat_minor": 0,
  "metadata": {
    "colab": {
      "provenance": [],
      "collapsed_sections": [
        "-bxFr6lwOLjd",
        "OHtHolGIPbef",
        "zPap2nnEPewg",
        "1n8COqkTPk_U",
        "G7jzMUZvPwWr",
        "ls2RGUE5QD_S",
        "NZaMPk6DQZlw",
        "e0mXIcwQQmwD",
        "HdP2j7etQxa4",
        "c-N697hcQ82f",
        "-w-H0GUg3lRB",
        "Sv7dVnB8GECa",
        "5dpaCQIfxBuq",
        "UYsWA39i3D69",
        "ULLRTGt83ug_",
        "FzpPREW_4xEL",
        "m01CFHJa5bU2",
        "HCx4oj5A6Jbw",
        "k61opERnDJ48",
        "y0_KOLXmFUIi",
        "KvPDYNzbGEj5",
        "PVuJnmBkGjcG",
        "5NtsOq6IhELU",
        "-iutWC_6hY4m",
        "yyAM5-Jqh0F6",
        "jMaSAIf4iOvl",
        "LgJ1BvMFMb55",
        "wI0s6R16O0K_",
        "YtfMohQ5P5ad",
        "LUhgpr9MQI4Z",
        "TDa2IhEmRAhk",
        "-IJjd56WSMl7",
        "z0GEUEkHVnJG",
        "rs6Ku_QTVh4a",
        "Hf3EPyhFVd_l",
        "9ttQR1erU5rY",
        "K2X5H9BcWo6M"
      ],
      "gpuType": "T4"
    },
    "kernelspec": {
      "name": "python3",
      "display_name": "Python 3"
    },
    "language_info": {
      "name": "python"
    },
    "accelerator": "GPU"
  },
  "cells": [
    {
      "cell_type": "markdown",
      "source": [
        "https://github.com/Amir-Hofo"
      ],
      "metadata": {
        "id": "XHuBUyv2ON_5"
      }
    },
    {
      "cell_type": "markdown",
      "source": [
        "--------"
      ],
      "metadata": {
        "id": "njTeklk6OLy8"
      }
    },
    {
      "cell_type": "markdown",
      "source": [
        "# 00_Arguments"
      ],
      "metadata": {
        "id": "-bxFr6lwOLjd"
      }
    },
    {
      "cell_type": "code",
      "execution_count": 4,
      "metadata": {
        "id": "OuqnqALZNf0i"
      },
      "outputs": [],
      "source": [
        "system= \"colab\"\n",
        "seed= False\n",
        "\n",
        "wandb_enable= True\n",
        "if wandb_enable:\n",
        "  wandb_arg_name= 'Medical_Image_Segmentation'\n",
        "\n",
        "batch_size= 32\n",
        "image_channels= 3\n",
        "classes= ['large_bowel', 'small_bowel', 'stomach']\n",
        "\n",
        "backbone= 'efficientnet-b1'\n",
        "pretrain_weights= 'imagenet'\n",
        "\n",
        "lr= 0.1\n",
        "momentum= 0.9\n",
        "wd= 1e-4\n",
        "num_epochs= 20"
      ]
    },
    {
      "cell_type": "markdown",
      "source": [
        "-----------"
      ],
      "metadata": {
        "id": "Pmr9P_5xPaXi"
      }
    },
    {
      "cell_type": "markdown",
      "source": [
        "# 01_Library"
      ],
      "metadata": {
        "id": "OHtHolGIPbef"
      }
    },
    {
      "cell_type": "markdown",
      "source": [
        "## insatll"
      ],
      "metadata": {
        "id": "zPap2nnEPewg"
      }
    },
    {
      "cell_type": "code",
      "source": [
        "! pip install -q segmentation-models-pytorch\n",
        "! pip install -q tqdm wandb\n",
        "! pip install -q torchmetrics==1.2.0"
      ],
      "metadata": {
        "id": "ggsQdz1CPa_2",
        "colab": {
          "base_uri": "https://localhost:8080/"
        },
        "outputId": "8fbae7ad-9df0-4b7d-89fe-91c163b1b0ee"
      },
      "execution_count": 2,
      "outputs": [
        {
          "output_type": "stream",
          "name": "stdout",
          "text": [
            "\u001b[?25l   \u001b[90m━━━━━━━━━━━━━━━━━━━━━━━━━━━━━━━━━━━━━━━━\u001b[0m \u001b[32m0.0/805.2 kB\u001b[0m \u001b[31m?\u001b[0m eta \u001b[36m-:--:--\u001b[0m\r\u001b[2K   \u001b[91m━━━━━━━━━━━━━━━━━━━━━━━━━━━━━━━━━━━━━━━\u001b[0m\u001b[91m╸\u001b[0m \u001b[32m798.7/805.2 kB\u001b[0m \u001b[31m30.7 MB/s\u001b[0m eta \u001b[36m0:00:01\u001b[0m\r\u001b[2K   \u001b[90m━━━━━━━━━━━━━━━━━━━━━━━━━━━━━━━━━━━━━━━━\u001b[0m \u001b[32m805.2/805.2 kB\u001b[0m \u001b[31m20.8 MB/s\u001b[0m eta \u001b[36m0:00:00\u001b[0m\n",
            "\u001b[?25h"
          ]
        }
      ]
    },
    {
      "cell_type": "markdown",
      "source": [
        "## import"
      ],
      "metadata": {
        "id": "1n8COqkTPk_U"
      }
    },
    {
      "cell_type": "code",
      "source": [
        "import os\n",
        "from glob import glob\n",
        "import urllib.request\n",
        "import zipfile\n",
        "from collections import Counter\n",
        "import random\n",
        "from typing import Any, Callable, Dict, List, Optional, Tuple\n",
        "\n",
        "import wandb\n",
        "import tqdm\n",
        "\n",
        "import numpy as np\n",
        "import pandas as pd\n",
        "import matplotlib.pyplot as plt\n",
        "\n",
        "import torchmetrics as tm\n",
        "from torchmetrics.aggregation import MeanMetric\n",
        "from torchmetrics import Dice\n",
        "\n",
        "import torch\n",
        "import torch.nn as nn\n",
        "from torch import optim\n",
        "from torch.utils.data import DataLoader, Dataset, random_split\n",
        "\n",
        "import torchvision\n",
        "from torchvision import transforms\n",
        "from torchvision.datasets import VisionDataset\n",
        "from torchvision.transforms import v2\n",
        "from torchvision import tv_tensors\n",
        "\n",
        "import cv2\n",
        "from PIL import Image\n",
        "import segmentation_models_pytorch as smp"
      ],
      "metadata": {
        "id": "9MKSoa5xPmB4"
      },
      "execution_count": 1,
      "outputs": []
    },
    {
      "cell_type": "code",
      "source": [
        "! python --version\n",
        "for lib in [torch, torchvision, smp]:\n",
        "  print(lib.__name__, '-->', lib.__version__)"
      ],
      "metadata": {
        "id": "--qhV8d6dw5q",
        "colab": {
          "base_uri": "https://localhost:8080/"
        },
        "outputId": "2c706570-6f38-490c-9d0d-077eafce0104"
      },
      "execution_count": 2,
      "outputs": [
        {
          "output_type": "stream",
          "name": "stdout",
          "text": [
            "Python 3.11.11\n",
            "torch --> 2.6.0+cu124\n",
            "torchvision --> 0.21.0+cu124\n",
            "segmentation_models_pytorch --> 0.4.0\n"
          ]
        }
      ]
    },
    {
      "cell_type": "markdown",
      "source": [
        "-------"
      ],
      "metadata": {
        "id": "pc5B9M0_Pvcp"
      }
    },
    {
      "cell_type": "markdown",
      "source": [
        "# 02_Utils"
      ],
      "metadata": {
        "id": "G7jzMUZvPwWr"
      }
    },
    {
      "cell_type": "markdown",
      "source": [
        "## system"
      ],
      "metadata": {
        "id": "ls2RGUE5QD_S"
      }
    },
    {
      "cell_type": "code",
      "source": [
        "if system== \"local\":\n",
        "    project_path= r\"./\"\n",
        "    dataset_path= './dataset/'\n",
        "\n",
        "elif system== \"colab\":\n",
        "    root_path= '/content/'\n",
        "    project_path= r\"/content/drive/MyDrive/Catalist/3_medical image segmentation/\"\n",
        "    dataset_path= os.path.join(project_path, r'dataset/')\n",
        "\n",
        "else:\n",
        "  raise ValueError(\"Invalid system\")"
      ],
      "metadata": {
        "id": "Aergrhk4Pv6W"
      },
      "execution_count": 5,
      "outputs": []
    },
    {
      "cell_type": "markdown",
      "source": [
        "## device"
      ],
      "metadata": {
        "id": "NZaMPk6DQZlw"
      }
    },
    {
      "cell_type": "code",
      "source": [
        "device= 'cuda' if torch.cuda.is_available() else 'cpu'\n",
        "device"
      ],
      "metadata": {
        "id": "Np3fZxbWQc_G",
        "colab": {
          "base_uri": "https://localhost:8080/",
          "height": 130
        },
        "outputId": "2925ab23-cf8a-44d9-9d6e-38bae0381d16"
      },
      "execution_count": 6,
      "outputs": [
        {
          "output_type": "execute_result",
          "data": {
            "text/plain": [
              "'cuda'"
            ],
            "application/vnd.google.colaboratory.intrinsic+json": {
              "type": "string"
            }
          },
          "metadata": {},
          "execution_count": 6
        }
      ]
    },
    {
      "cell_type": "markdown",
      "source": [
        "## drive mount"
      ],
      "metadata": {
        "id": "cf1ZtDFgQdy7"
      }
    },
    {
      "cell_type": "code",
      "source": [
        "if system== \"colab\":\n",
        "    from google.colab import drive\n",
        "    drive.mount('/content/drive')"
      ],
      "metadata": {
        "id": "crV_FdPoQhOv",
        "colab": {
          "base_uri": "https://localhost:8080/"
        },
        "outputId": "cd273acc-779c-4afa-9418-7516a4134615"
      },
      "execution_count": 7,
      "outputs": [
        {
          "output_type": "stream",
          "name": "stdout",
          "text": [
            "Mounted at /content/drive\n"
          ]
        }
      ]
    },
    {
      "cell_type": "markdown",
      "source": [
        "## number of params fn"
      ],
      "metadata": {
        "id": "e0mXIcwQQmwD"
      }
    },
    {
      "cell_type": "code",
      "source": [
        "def num_trainable_params(model):\n",
        "  nums= sum(p.numel() for p in model.parameters() if p.requires_grad)/1e6\n",
        "  return nums"
      ],
      "metadata": {
        "id": "bNg45ZseQnH-"
      },
      "execution_count": 8,
      "outputs": []
    },
    {
      "cell_type": "markdown",
      "source": [
        "## set seed"
      ],
      "metadata": {
        "id": "HdP2j7etQxa4"
      }
    },
    {
      "cell_type": "code",
      "source": [
        "def set_seed(seed):\n",
        "  np.random.seed(seed)\n",
        "  torch.manual_seed(seed)\n",
        "  if torch.cuda.is_available():\n",
        "      torch.cuda.manual_seed(seed)"
      ],
      "metadata": {
        "id": "SCLHipXWQxMj"
      },
      "execution_count": 9,
      "outputs": []
    },
    {
      "cell_type": "markdown",
      "source": [
        "--------------"
      ],
      "metadata": {
        "id": "aFYm-HmbQ7lu"
      }
    },
    {
      "cell_type": "markdown",
      "source": [
        "# 03_Data"
      ],
      "metadata": {
        "id": "c-N697hcQ82f"
      }
    },
    {
      "cell_type": "markdown",
      "source": [
        "## 3_1. download dataset"
      ],
      "metadata": {
        "id": "-w-H0GUg3lRB"
      }
    },
    {
      "cell_type": "code",
      "source": [
        "data_link= \"https://storage.googleapis.com/kaggle-competitions-data/kaggle-v2/27923/3495119/bundle/archive.zip?GoogleAccessId=web-data@kaggle-161607.iam.gserviceaccount.com&Expires=1742638734&Signature=Jftz4DZ5iMb7ThmX3iIemrInJhU7HaMXGD4MuoAEzJ3H12MJcq3EBWwHqKP7zJH8%2FQJWcsIcJXdqu2nBOd37Kik4RvSwZenZiyroXI5oT0gTBhk5adhkYL4HSWsAV0fA0vP6QFfF%2B8LeamDNzVid%2FE4PE6hOyCvnZF3lOT60KeXZJ6BHvC5onKKagD4St8en2RAcIArb7RMaQGk%2FFkAhkZ2LcRH2I8T8C3NyoLKTmnAMDQqvLtLhJzHGNxtmt%2BzoaeOjO%2BJxPLpdCRCORa22ZFkDj6cdSRWviD4QnF8eVqzHkXN5XmrcTPpt2mDrbv96Dm%2B4GdrYcOh4Jjesl7pc4g%3D%3D&response-content-disposition=attachment%3B+filename%3Duw-madison-gi-tract-image-segmentation.zip\"\n",
        "\n",
        "files = {\"dataset.zip\": data_link}\n",
        "\n",
        "for filename, url in files.items():\n",
        "  if not os.path.exists(os.path.join(dataset_path, filename)):\n",
        "    urllib.request.urlretrieve(url, os.path.join(dataset_path, filename))\n",
        "    print(f\"{filename} has been downloaded.\")\n",
        "  else:\n",
        "    print(f\"{filename} already exists.\")"
      ],
      "metadata": {
        "id": "nWONWtmBQ8QO",
        "colab": {
          "base_uri": "https://localhost:8080/"
        },
        "outputId": "6a7e89ba-4fdb-42fb-be14-09f3e8a10499"
      },
      "execution_count": 10,
      "outputs": [
        {
          "output_type": "stream",
          "name": "stdout",
          "text": [
            "dataset.zip already exists.\n"
          ]
        }
      ]
    },
    {
      "cell_type": "code",
      "source": [
        "data_path= os.path.join(root_path, \"dataset/\")\n",
        "os.makedirs(data_path, exist_ok= True)\n",
        "for file in files:\n",
        "    with zipfile.ZipFile(os.path.join(dataset_path, file), 'r') as zip_ref:\n",
        "        zip_ref.extractall(data_path)\n",
        "    print(f\"{file} extraction is complete.\")"
      ],
      "metadata": {
        "id": "4F0K_lUD-T3s",
        "colab": {
          "base_uri": "https://localhost:8080/"
        },
        "outputId": "ef2e68b0-5ffe-40b1-c0af-d75ed9651c8d"
      },
      "execution_count": 11,
      "outputs": [
        {
          "output_type": "stream",
          "name": "stdout",
          "text": [
            "dataset.zip extraction is complete.\n"
          ]
        }
      ]
    },
    {
      "cell_type": "markdown",
      "source": [
        "----------"
      ],
      "metadata": {
        "id": "x4aVv-lE6O8x"
      }
    },
    {
      "cell_type": "markdown",
      "source": [
        "## 3_2. preprocess"
      ],
      "metadata": {
        "id": "Sv7dVnB8GECa"
      }
    },
    {
      "cell_type": "markdown",
      "source": [
        "### load csv file"
      ],
      "metadata": {
        "id": "5dpaCQIfxBuq"
      }
    },
    {
      "cell_type": "code",
      "source": [
        "df= pd.read_csv(os.path.join(data_path, 'train.csv'))\n",
        "df.dropna(inplace= True)\n",
        "display(df.head())\n",
        "df.shape"
      ],
      "metadata": {
        "id": "AKjtY0TQGK8a",
        "colab": {
          "base_uri": "https://localhost:8080/",
          "height": 523
        },
        "outputId": "959d765d-4b7d-46df-abdf-2982b6bfd0fe"
      },
      "execution_count": 12,
      "outputs": [
        {
          "output_type": "display_data",
          "data": {
            "text/plain": [
              "                           id    class  \\\n",
              "194  case123_day20_slice_0065  stomach   \n",
              "197  case123_day20_slice_0066  stomach   \n",
              "200  case123_day20_slice_0067  stomach   \n",
              "203  case123_day20_slice_0068  stomach   \n",
              "206  case123_day20_slice_0069  stomach   \n",
              "\n",
              "                                          segmentation  \n",
              "194  28094 3 28358 7 28623 9 28889 9 29155 9 29421 ...  \n",
              "197  27561 8 27825 11 28090 13 28355 14 28620 15 28...  \n",
              "200  15323 4 15587 8 15852 10 16117 11 16383 12 166...  \n",
              "203  14792 5 15056 9 15321 11 15587 11 15852 13 161...  \n",
              "206  14526 6 14789 12 15054 14 15319 16 15584 17 15...  "
            ],
            "text/html": [
              "\n",
              "  <div id=\"df-b775a671-81a0-4e8d-a0d1-f35e1c0b9fd3\" class=\"colab-df-container\">\n",
              "    <div>\n",
              "<style scoped>\n",
              "    .dataframe tbody tr th:only-of-type {\n",
              "        vertical-align: middle;\n",
              "    }\n",
              "\n",
              "    .dataframe tbody tr th {\n",
              "        vertical-align: top;\n",
              "    }\n",
              "\n",
              "    .dataframe thead th {\n",
              "        text-align: right;\n",
              "    }\n",
              "</style>\n",
              "<table border=\"1\" class=\"dataframe\">\n",
              "  <thead>\n",
              "    <tr style=\"text-align: right;\">\n",
              "      <th></th>\n",
              "      <th>id</th>\n",
              "      <th>class</th>\n",
              "      <th>segmentation</th>\n",
              "    </tr>\n",
              "  </thead>\n",
              "  <tbody>\n",
              "    <tr>\n",
              "      <th>194</th>\n",
              "      <td>case123_day20_slice_0065</td>\n",
              "      <td>stomach</td>\n",
              "      <td>28094 3 28358 7 28623 9 28889 9 29155 9 29421 ...</td>\n",
              "    </tr>\n",
              "    <tr>\n",
              "      <th>197</th>\n",
              "      <td>case123_day20_slice_0066</td>\n",
              "      <td>stomach</td>\n",
              "      <td>27561 8 27825 11 28090 13 28355 14 28620 15 28...</td>\n",
              "    </tr>\n",
              "    <tr>\n",
              "      <th>200</th>\n",
              "      <td>case123_day20_slice_0067</td>\n",
              "      <td>stomach</td>\n",
              "      <td>15323 4 15587 8 15852 10 16117 11 16383 12 166...</td>\n",
              "    </tr>\n",
              "    <tr>\n",
              "      <th>203</th>\n",
              "      <td>case123_day20_slice_0068</td>\n",
              "      <td>stomach</td>\n",
              "      <td>14792 5 15056 9 15321 11 15587 11 15852 13 161...</td>\n",
              "    </tr>\n",
              "    <tr>\n",
              "      <th>206</th>\n",
              "      <td>case123_day20_slice_0069</td>\n",
              "      <td>stomach</td>\n",
              "      <td>14526 6 14789 12 15054 14 15319 16 15584 17 15...</td>\n",
              "    </tr>\n",
              "  </tbody>\n",
              "</table>\n",
              "</div>\n",
              "    <div class=\"colab-df-buttons\">\n",
              "\n",
              "  <div class=\"colab-df-container\">\n",
              "    <button class=\"colab-df-convert\" onclick=\"convertToInteractive('df-b775a671-81a0-4e8d-a0d1-f35e1c0b9fd3')\"\n",
              "            title=\"Convert this dataframe to an interactive table.\"\n",
              "            style=\"display:none;\">\n",
              "\n",
              "  <svg xmlns=\"http://www.w3.org/2000/svg\" height=\"24px\" viewBox=\"0 -960 960 960\">\n",
              "    <path d=\"M120-120v-720h720v720H120Zm60-500h600v-160H180v160Zm220 220h160v-160H400v160Zm0 220h160v-160H400v160ZM180-400h160v-160H180v160Zm440 0h160v-160H620v160ZM180-180h160v-160H180v160Zm440 0h160v-160H620v160Z\"/>\n",
              "  </svg>\n",
              "    </button>\n",
              "\n",
              "  <style>\n",
              "    .colab-df-container {\n",
              "      display:flex;\n",
              "      gap: 12px;\n",
              "    }\n",
              "\n",
              "    .colab-df-convert {\n",
              "      background-color: #E8F0FE;\n",
              "      border: none;\n",
              "      border-radius: 50%;\n",
              "      cursor: pointer;\n",
              "      display: none;\n",
              "      fill: #1967D2;\n",
              "      height: 32px;\n",
              "      padding: 0 0 0 0;\n",
              "      width: 32px;\n",
              "    }\n",
              "\n",
              "    .colab-df-convert:hover {\n",
              "      background-color: #E2EBFA;\n",
              "      box-shadow: 0px 1px 2px rgba(60, 64, 67, 0.3), 0px 1px 3px 1px rgba(60, 64, 67, 0.15);\n",
              "      fill: #174EA6;\n",
              "    }\n",
              "\n",
              "    .colab-df-buttons div {\n",
              "      margin-bottom: 4px;\n",
              "    }\n",
              "\n",
              "    [theme=dark] .colab-df-convert {\n",
              "      background-color: #3B4455;\n",
              "      fill: #D2E3FC;\n",
              "    }\n",
              "\n",
              "    [theme=dark] .colab-df-convert:hover {\n",
              "      background-color: #434B5C;\n",
              "      box-shadow: 0px 1px 3px 1px rgba(0, 0, 0, 0.15);\n",
              "      filter: drop-shadow(0px 1px 2px rgba(0, 0, 0, 0.3));\n",
              "      fill: #FFFFFF;\n",
              "    }\n",
              "  </style>\n",
              "\n",
              "    <script>\n",
              "      const buttonEl =\n",
              "        document.querySelector('#df-b775a671-81a0-4e8d-a0d1-f35e1c0b9fd3 button.colab-df-convert');\n",
              "      buttonEl.style.display =\n",
              "        google.colab.kernel.accessAllowed ? 'block' : 'none';\n",
              "\n",
              "      async function convertToInteractive(key) {\n",
              "        const element = document.querySelector('#df-b775a671-81a0-4e8d-a0d1-f35e1c0b9fd3');\n",
              "        const dataTable =\n",
              "          await google.colab.kernel.invokeFunction('convertToInteractive',\n",
              "                                                    [key], {});\n",
              "        if (!dataTable) return;\n",
              "\n",
              "        const docLinkHtml = 'Like what you see? Visit the ' +\n",
              "          '<a target=\"_blank\" href=https://colab.research.google.com/notebooks/data_table.ipynb>data table notebook</a>'\n",
              "          + ' to learn more about interactive tables.';\n",
              "        element.innerHTML = '';\n",
              "        dataTable['output_type'] = 'display_data';\n",
              "        await google.colab.output.renderOutput(dataTable, element);\n",
              "        const docLink = document.createElement('div');\n",
              "        docLink.innerHTML = docLinkHtml;\n",
              "        element.appendChild(docLink);\n",
              "      }\n",
              "    </script>\n",
              "  </div>\n",
              "\n",
              "\n",
              "<div id=\"df-a06a82f0-aa33-4e8f-9d3a-7d5f5254395c\">\n",
              "  <button class=\"colab-df-quickchart\" onclick=\"quickchart('df-a06a82f0-aa33-4e8f-9d3a-7d5f5254395c')\"\n",
              "            title=\"Suggest charts\"\n",
              "            style=\"display:none;\">\n",
              "\n",
              "<svg xmlns=\"http://www.w3.org/2000/svg\" height=\"24px\"viewBox=\"0 0 24 24\"\n",
              "     width=\"24px\">\n",
              "    <g>\n",
              "        <path d=\"M19 3H5c-1.1 0-2 .9-2 2v14c0 1.1.9 2 2 2h14c1.1 0 2-.9 2-2V5c0-1.1-.9-2-2-2zM9 17H7v-7h2v7zm4 0h-2V7h2v10zm4 0h-2v-4h2v4z\"/>\n",
              "    </g>\n",
              "</svg>\n",
              "  </button>\n",
              "\n",
              "<style>\n",
              "  .colab-df-quickchart {\n",
              "      --bg-color: #E8F0FE;\n",
              "      --fill-color: #1967D2;\n",
              "      --hover-bg-color: #E2EBFA;\n",
              "      --hover-fill-color: #174EA6;\n",
              "      --disabled-fill-color: #AAA;\n",
              "      --disabled-bg-color: #DDD;\n",
              "  }\n",
              "\n",
              "  [theme=dark] .colab-df-quickchart {\n",
              "      --bg-color: #3B4455;\n",
              "      --fill-color: #D2E3FC;\n",
              "      --hover-bg-color: #434B5C;\n",
              "      --hover-fill-color: #FFFFFF;\n",
              "      --disabled-bg-color: #3B4455;\n",
              "      --disabled-fill-color: #666;\n",
              "  }\n",
              "\n",
              "  .colab-df-quickchart {\n",
              "    background-color: var(--bg-color);\n",
              "    border: none;\n",
              "    border-radius: 50%;\n",
              "    cursor: pointer;\n",
              "    display: none;\n",
              "    fill: var(--fill-color);\n",
              "    height: 32px;\n",
              "    padding: 0;\n",
              "    width: 32px;\n",
              "  }\n",
              "\n",
              "  .colab-df-quickchart:hover {\n",
              "    background-color: var(--hover-bg-color);\n",
              "    box-shadow: 0 1px 2px rgba(60, 64, 67, 0.3), 0 1px 3px 1px rgba(60, 64, 67, 0.15);\n",
              "    fill: var(--button-hover-fill-color);\n",
              "  }\n",
              "\n",
              "  .colab-df-quickchart-complete:disabled,\n",
              "  .colab-df-quickchart-complete:disabled:hover {\n",
              "    background-color: var(--disabled-bg-color);\n",
              "    fill: var(--disabled-fill-color);\n",
              "    box-shadow: none;\n",
              "  }\n",
              "\n",
              "  .colab-df-spinner {\n",
              "    border: 2px solid var(--fill-color);\n",
              "    border-color: transparent;\n",
              "    border-bottom-color: var(--fill-color);\n",
              "    animation:\n",
              "      spin 1s steps(1) infinite;\n",
              "  }\n",
              "\n",
              "  @keyframes spin {\n",
              "    0% {\n",
              "      border-color: transparent;\n",
              "      border-bottom-color: var(--fill-color);\n",
              "      border-left-color: var(--fill-color);\n",
              "    }\n",
              "    20% {\n",
              "      border-color: transparent;\n",
              "      border-left-color: var(--fill-color);\n",
              "      border-top-color: var(--fill-color);\n",
              "    }\n",
              "    30% {\n",
              "      border-color: transparent;\n",
              "      border-left-color: var(--fill-color);\n",
              "      border-top-color: var(--fill-color);\n",
              "      border-right-color: var(--fill-color);\n",
              "    }\n",
              "    40% {\n",
              "      border-color: transparent;\n",
              "      border-right-color: var(--fill-color);\n",
              "      border-top-color: var(--fill-color);\n",
              "    }\n",
              "    60% {\n",
              "      border-color: transparent;\n",
              "      border-right-color: var(--fill-color);\n",
              "    }\n",
              "    80% {\n",
              "      border-color: transparent;\n",
              "      border-right-color: var(--fill-color);\n",
              "      border-bottom-color: var(--fill-color);\n",
              "    }\n",
              "    90% {\n",
              "      border-color: transparent;\n",
              "      border-bottom-color: var(--fill-color);\n",
              "    }\n",
              "  }\n",
              "</style>\n",
              "\n",
              "  <script>\n",
              "    async function quickchart(key) {\n",
              "      const quickchartButtonEl =\n",
              "        document.querySelector('#' + key + ' button');\n",
              "      quickchartButtonEl.disabled = true;  // To prevent multiple clicks.\n",
              "      quickchartButtonEl.classList.add('colab-df-spinner');\n",
              "      try {\n",
              "        const charts = await google.colab.kernel.invokeFunction(\n",
              "            'suggestCharts', [key], {});\n",
              "      } catch (error) {\n",
              "        console.error('Error during call to suggestCharts:', error);\n",
              "      }\n",
              "      quickchartButtonEl.classList.remove('colab-df-spinner');\n",
              "      quickchartButtonEl.classList.add('colab-df-quickchart-complete');\n",
              "    }\n",
              "    (() => {\n",
              "      let quickchartButtonEl =\n",
              "        document.querySelector('#df-a06a82f0-aa33-4e8f-9d3a-7d5f5254395c button');\n",
              "      quickchartButtonEl.style.display =\n",
              "        google.colab.kernel.accessAllowed ? 'block' : 'none';\n",
              "    })();\n",
              "  </script>\n",
              "</div>\n",
              "    </div>\n",
              "  </div>\n"
            ],
            "application/vnd.google.colaboratory.intrinsic+json": {
              "type": "dataframe",
              "summary": "{\n  \"name\": \"df\",\n  \"rows\": 5,\n  \"fields\": [\n    {\n      \"column\": \"id\",\n      \"properties\": {\n        \"dtype\": \"string\",\n        \"num_unique_values\": 5,\n        \"samples\": [\n          \"case123_day20_slice_0066\",\n          \"case123_day20_slice_0069\",\n          \"case123_day20_slice_0067\"\n        ],\n        \"semantic_type\": \"\",\n        \"description\": \"\"\n      }\n    },\n    {\n      \"column\": \"class\",\n      \"properties\": {\n        \"dtype\": \"category\",\n        \"num_unique_values\": 1,\n        \"samples\": [\n          \"stomach\"\n        ],\n        \"semantic_type\": \"\",\n        \"description\": \"\"\n      }\n    },\n    {\n      \"column\": \"segmentation\",\n      \"properties\": {\n        \"dtype\": \"string\",\n        \"num_unique_values\": 5,\n        \"samples\": [\n          \"27561 8 27825 11 28090 13 28355 14 28620 15 28886 15 29151 17 29417 17 29682 18 29948 18 30214 18 30480 18 30746 18 31012 18 31278 18 31544 18 31811 17 32077 17 32344 15 32610 15 32877 13 33144 11 33411 8\"\n        ],\n        \"semantic_type\": \"\",\n        \"description\": \"\"\n      }\n    }\n  ]\n}"
            }
          },
          "metadata": {}
        },
        {
          "output_type": "execute_result",
          "data": {
            "text/plain": [
              "(33913, 3)"
            ]
          },
          "metadata": {},
          "execution_count": 12
        }
      ]
    },
    {
      "cell_type": "markdown",
      "source": [
        "### pivot table"
      ],
      "metadata": {
        "id": "UYsWA39i3D69"
      }
    },
    {
      "cell_type": "code",
      "source": [
        "df= df.pivot_table(index= 'id', columns= 'class', values= 'segmentation', aggfunc= 'first')\n",
        "df.reset_index(inplace= True)\n",
        "df.fillna('', inplace= True)\n",
        "display(df.head())\n",
        "df.shape"
      ],
      "metadata": {
        "id": "2SzOR8js3IPE",
        "colab": {
          "base_uri": "https://localhost:8080/",
          "height": 697
        },
        "outputId": "01743c19-e538-4492-8bec-dc81a0bc8cd2"
      },
      "execution_count": 13,
      "outputs": [
        {
          "output_type": "display_data",
          "data": {
            "text/plain": [
              "class                        id large_bowel small_bowel  \\\n",
              "0      case101_day20_slice_0066                           \n",
              "1      case101_day20_slice_0067                           \n",
              "2      case101_day20_slice_0068                           \n",
              "3      case101_day20_slice_0069                           \n",
              "4      case101_day20_slice_0070                           \n",
              "\n",
              "class                                            stomach  \n",
              "0      32107 5 32371 10 32635 13 32900 15 33165 17 33...  \n",
              "1      31313 2 31577 7 31841 10 32105 14 32369 17 326...  \n",
              "2      30517 2 30781 6 31046 9 31311 11 31575 15 3184...  \n",
              "3      29981 10 30246 13 30511 16 30776 19 31041 21 3...  \n",
              "4      28918 9 29182 14 29446 18 29711 21 29976 23 30...  "
            ],
            "text/html": [
              "\n",
              "  <div id=\"df-ed5c574a-5baf-4fc0-96d0-f7a7fdd2942c\" class=\"colab-df-container\">\n",
              "    <div>\n",
              "<style scoped>\n",
              "    .dataframe tbody tr th:only-of-type {\n",
              "        vertical-align: middle;\n",
              "    }\n",
              "\n",
              "    .dataframe tbody tr th {\n",
              "        vertical-align: top;\n",
              "    }\n",
              "\n",
              "    .dataframe thead th {\n",
              "        text-align: right;\n",
              "    }\n",
              "</style>\n",
              "<table border=\"1\" class=\"dataframe\">\n",
              "  <thead>\n",
              "    <tr style=\"text-align: right;\">\n",
              "      <th>class</th>\n",
              "      <th>id</th>\n",
              "      <th>large_bowel</th>\n",
              "      <th>small_bowel</th>\n",
              "      <th>stomach</th>\n",
              "    </tr>\n",
              "  </thead>\n",
              "  <tbody>\n",
              "    <tr>\n",
              "      <th>0</th>\n",
              "      <td>case101_day20_slice_0066</td>\n",
              "      <td></td>\n",
              "      <td></td>\n",
              "      <td>32107 5 32371 10 32635 13 32900 15 33165 17 33...</td>\n",
              "    </tr>\n",
              "    <tr>\n",
              "      <th>1</th>\n",
              "      <td>case101_day20_slice_0067</td>\n",
              "      <td></td>\n",
              "      <td></td>\n",
              "      <td>31313 2 31577 7 31841 10 32105 14 32369 17 326...</td>\n",
              "    </tr>\n",
              "    <tr>\n",
              "      <th>2</th>\n",
              "      <td>case101_day20_slice_0068</td>\n",
              "      <td></td>\n",
              "      <td></td>\n",
              "      <td>30517 2 30781 6 31046 9 31311 11 31575 15 3184...</td>\n",
              "    </tr>\n",
              "    <tr>\n",
              "      <th>3</th>\n",
              "      <td>case101_day20_slice_0069</td>\n",
              "      <td></td>\n",
              "      <td></td>\n",
              "      <td>29981 10 30246 13 30511 16 30776 19 31041 21 3...</td>\n",
              "    </tr>\n",
              "    <tr>\n",
              "      <th>4</th>\n",
              "      <td>case101_day20_slice_0070</td>\n",
              "      <td></td>\n",
              "      <td></td>\n",
              "      <td>28918 9 29182 14 29446 18 29711 21 29976 23 30...</td>\n",
              "    </tr>\n",
              "  </tbody>\n",
              "</table>\n",
              "</div>\n",
              "    <div class=\"colab-df-buttons\">\n",
              "\n",
              "  <div class=\"colab-df-container\">\n",
              "    <button class=\"colab-df-convert\" onclick=\"convertToInteractive('df-ed5c574a-5baf-4fc0-96d0-f7a7fdd2942c')\"\n",
              "            title=\"Convert this dataframe to an interactive table.\"\n",
              "            style=\"display:none;\">\n",
              "\n",
              "  <svg xmlns=\"http://www.w3.org/2000/svg\" height=\"24px\" viewBox=\"0 -960 960 960\">\n",
              "    <path d=\"M120-120v-720h720v720H120Zm60-500h600v-160H180v160Zm220 220h160v-160H400v160Zm0 220h160v-160H400v160ZM180-400h160v-160H180v160Zm440 0h160v-160H620v160ZM180-180h160v-160H180v160Zm440 0h160v-160H620v160Z\"/>\n",
              "  </svg>\n",
              "    </button>\n",
              "\n",
              "  <style>\n",
              "    .colab-df-container {\n",
              "      display:flex;\n",
              "      gap: 12px;\n",
              "    }\n",
              "\n",
              "    .colab-df-convert {\n",
              "      background-color: #E8F0FE;\n",
              "      border: none;\n",
              "      border-radius: 50%;\n",
              "      cursor: pointer;\n",
              "      display: none;\n",
              "      fill: #1967D2;\n",
              "      height: 32px;\n",
              "      padding: 0 0 0 0;\n",
              "      width: 32px;\n",
              "    }\n",
              "\n",
              "    .colab-df-convert:hover {\n",
              "      background-color: #E2EBFA;\n",
              "      box-shadow: 0px 1px 2px rgba(60, 64, 67, 0.3), 0px 1px 3px 1px rgba(60, 64, 67, 0.15);\n",
              "      fill: #174EA6;\n",
              "    }\n",
              "\n",
              "    .colab-df-buttons div {\n",
              "      margin-bottom: 4px;\n",
              "    }\n",
              "\n",
              "    [theme=dark] .colab-df-convert {\n",
              "      background-color: #3B4455;\n",
              "      fill: #D2E3FC;\n",
              "    }\n",
              "\n",
              "    [theme=dark] .colab-df-convert:hover {\n",
              "      background-color: #434B5C;\n",
              "      box-shadow: 0px 1px 3px 1px rgba(0, 0, 0, 0.15);\n",
              "      filter: drop-shadow(0px 1px 2px rgba(0, 0, 0, 0.3));\n",
              "      fill: #FFFFFF;\n",
              "    }\n",
              "  </style>\n",
              "\n",
              "    <script>\n",
              "      const buttonEl =\n",
              "        document.querySelector('#df-ed5c574a-5baf-4fc0-96d0-f7a7fdd2942c button.colab-df-convert');\n",
              "      buttonEl.style.display =\n",
              "        google.colab.kernel.accessAllowed ? 'block' : 'none';\n",
              "\n",
              "      async function convertToInteractive(key) {\n",
              "        const element = document.querySelector('#df-ed5c574a-5baf-4fc0-96d0-f7a7fdd2942c');\n",
              "        const dataTable =\n",
              "          await google.colab.kernel.invokeFunction('convertToInteractive',\n",
              "                                                    [key], {});\n",
              "        if (!dataTable) return;\n",
              "\n",
              "        const docLinkHtml = 'Like what you see? Visit the ' +\n",
              "          '<a target=\"_blank\" href=https://colab.research.google.com/notebooks/data_table.ipynb>data table notebook</a>'\n",
              "          + ' to learn more about interactive tables.';\n",
              "        element.innerHTML = '';\n",
              "        dataTable['output_type'] = 'display_data';\n",
              "        await google.colab.output.renderOutput(dataTable, element);\n",
              "        const docLink = document.createElement('div');\n",
              "        docLink.innerHTML = docLinkHtml;\n",
              "        element.appendChild(docLink);\n",
              "      }\n",
              "    </script>\n",
              "  </div>\n",
              "\n",
              "\n",
              "<div id=\"df-459d3901-b98d-4822-b46f-4a4b75f5ccc1\">\n",
              "  <button class=\"colab-df-quickchart\" onclick=\"quickchart('df-459d3901-b98d-4822-b46f-4a4b75f5ccc1')\"\n",
              "            title=\"Suggest charts\"\n",
              "            style=\"display:none;\">\n",
              "\n",
              "<svg xmlns=\"http://www.w3.org/2000/svg\" height=\"24px\"viewBox=\"0 0 24 24\"\n",
              "     width=\"24px\">\n",
              "    <g>\n",
              "        <path d=\"M19 3H5c-1.1 0-2 .9-2 2v14c0 1.1.9 2 2 2h14c1.1 0 2-.9 2-2V5c0-1.1-.9-2-2-2zM9 17H7v-7h2v7zm4 0h-2V7h2v10zm4 0h-2v-4h2v4z\"/>\n",
              "    </g>\n",
              "</svg>\n",
              "  </button>\n",
              "\n",
              "<style>\n",
              "  .colab-df-quickchart {\n",
              "      --bg-color: #E8F0FE;\n",
              "      --fill-color: #1967D2;\n",
              "      --hover-bg-color: #E2EBFA;\n",
              "      --hover-fill-color: #174EA6;\n",
              "      --disabled-fill-color: #AAA;\n",
              "      --disabled-bg-color: #DDD;\n",
              "  }\n",
              "\n",
              "  [theme=dark] .colab-df-quickchart {\n",
              "      --bg-color: #3B4455;\n",
              "      --fill-color: #D2E3FC;\n",
              "      --hover-bg-color: #434B5C;\n",
              "      --hover-fill-color: #FFFFFF;\n",
              "      --disabled-bg-color: #3B4455;\n",
              "      --disabled-fill-color: #666;\n",
              "  }\n",
              "\n",
              "  .colab-df-quickchart {\n",
              "    background-color: var(--bg-color);\n",
              "    border: none;\n",
              "    border-radius: 50%;\n",
              "    cursor: pointer;\n",
              "    display: none;\n",
              "    fill: var(--fill-color);\n",
              "    height: 32px;\n",
              "    padding: 0;\n",
              "    width: 32px;\n",
              "  }\n",
              "\n",
              "  .colab-df-quickchart:hover {\n",
              "    background-color: var(--hover-bg-color);\n",
              "    box-shadow: 0 1px 2px rgba(60, 64, 67, 0.3), 0 1px 3px 1px rgba(60, 64, 67, 0.15);\n",
              "    fill: var(--button-hover-fill-color);\n",
              "  }\n",
              "\n",
              "  .colab-df-quickchart-complete:disabled,\n",
              "  .colab-df-quickchart-complete:disabled:hover {\n",
              "    background-color: var(--disabled-bg-color);\n",
              "    fill: var(--disabled-fill-color);\n",
              "    box-shadow: none;\n",
              "  }\n",
              "\n",
              "  .colab-df-spinner {\n",
              "    border: 2px solid var(--fill-color);\n",
              "    border-color: transparent;\n",
              "    border-bottom-color: var(--fill-color);\n",
              "    animation:\n",
              "      spin 1s steps(1) infinite;\n",
              "  }\n",
              "\n",
              "  @keyframes spin {\n",
              "    0% {\n",
              "      border-color: transparent;\n",
              "      border-bottom-color: var(--fill-color);\n",
              "      border-left-color: var(--fill-color);\n",
              "    }\n",
              "    20% {\n",
              "      border-color: transparent;\n",
              "      border-left-color: var(--fill-color);\n",
              "      border-top-color: var(--fill-color);\n",
              "    }\n",
              "    30% {\n",
              "      border-color: transparent;\n",
              "      border-left-color: var(--fill-color);\n",
              "      border-top-color: var(--fill-color);\n",
              "      border-right-color: var(--fill-color);\n",
              "    }\n",
              "    40% {\n",
              "      border-color: transparent;\n",
              "      border-right-color: var(--fill-color);\n",
              "      border-top-color: var(--fill-color);\n",
              "    }\n",
              "    60% {\n",
              "      border-color: transparent;\n",
              "      border-right-color: var(--fill-color);\n",
              "    }\n",
              "    80% {\n",
              "      border-color: transparent;\n",
              "      border-right-color: var(--fill-color);\n",
              "      border-bottom-color: var(--fill-color);\n",
              "    }\n",
              "    90% {\n",
              "      border-color: transparent;\n",
              "      border-bottom-color: var(--fill-color);\n",
              "    }\n",
              "  }\n",
              "</style>\n",
              "\n",
              "  <script>\n",
              "    async function quickchart(key) {\n",
              "      const quickchartButtonEl =\n",
              "        document.querySelector('#' + key + ' button');\n",
              "      quickchartButtonEl.disabled = true;  // To prevent multiple clicks.\n",
              "      quickchartButtonEl.classList.add('colab-df-spinner');\n",
              "      try {\n",
              "        const charts = await google.colab.kernel.invokeFunction(\n",
              "            'suggestCharts', [key], {});\n",
              "      } catch (error) {\n",
              "        console.error('Error during call to suggestCharts:', error);\n",
              "      }\n",
              "      quickchartButtonEl.classList.remove('colab-df-spinner');\n",
              "      quickchartButtonEl.classList.add('colab-df-quickchart-complete');\n",
              "    }\n",
              "    (() => {\n",
              "      let quickchartButtonEl =\n",
              "        document.querySelector('#df-459d3901-b98d-4822-b46f-4a4b75f5ccc1 button');\n",
              "      quickchartButtonEl.style.display =\n",
              "        google.colab.kernel.accessAllowed ? 'block' : 'none';\n",
              "    })();\n",
              "  </script>\n",
              "</div>\n",
              "    </div>\n",
              "  </div>\n"
            ],
            "application/vnd.google.colaboratory.intrinsic+json": {
              "type": "dataframe",
              "summary": "{\n  \"name\": \"df\",\n  \"rows\": 5,\n  \"fields\": [\n    {\n      \"column\": \"id\",\n      \"properties\": {\n        \"dtype\": \"string\",\n        \"num_unique_values\": 5,\n        \"samples\": [\n          \"case101_day20_slice_0067\",\n          \"case101_day20_slice_0070\",\n          \"case101_day20_slice_0068\"\n        ],\n        \"semantic_type\": \"\",\n        \"description\": \"\"\n      }\n    },\n    {\n      \"column\": \"large_bowel\",\n      \"properties\": {\n        \"dtype\": \"object\",\n        \"num_unique_values\": 1,\n        \"samples\": [\n          \"\"\n        ],\n        \"semantic_type\": \"\",\n        \"description\": \"\"\n      }\n    },\n    {\n      \"column\": \"small_bowel\",\n      \"properties\": {\n        \"dtype\": \"object\",\n        \"num_unique_values\": 1,\n        \"samples\": [\n          \"\"\n        ],\n        \"semantic_type\": \"\",\n        \"description\": \"\"\n      }\n    },\n    {\n      \"column\": \"stomach\",\n      \"properties\": {\n        \"dtype\": \"string\",\n        \"num_unique_values\": 5,\n        \"samples\": [\n          \"31313 2 31577 7 31841 10 32105 14 32369 17 32633 20 32898 23 33164 24 33429 26 33695 26 33961 27 34227 27 34493 27 34759 27 35026 26 35292 26 35559 25 35825 25 36092 24 36358 23 36625 22 36891 21 37157 21 37424 19 37690 19 37956 18 38223 16 38490 14 38757 12 39024 10 39293 4\"\n        ],\n        \"semantic_type\": \"\",\n        \"description\": \"\"\n      }\n    }\n  ]\n}"
            }
          },
          "metadata": {}
        },
        {
          "output_type": "execute_result",
          "data": {
            "text/plain": [
              "(16590, 4)"
            ]
          },
          "metadata": {},
          "execution_count": 13
        }
      ]
    },
    {
      "cell_type": "markdown",
      "source": [
        "### image pathes"
      ],
      "metadata": {
        "id": "ULLRTGt83ug_"
      }
    },
    {
      "cell_type": "code",
      "source": [
        "image_path_list= glob(os.path.join(data_path, 'train', '**', '*.png'), recursive= True)\n",
        "\n",
        "id_list= []\n",
        "for i in range(0, len(image_path_list)):\n",
        "  components= image_path_list[i].split(os.path.sep)[-3::2]\n",
        "  id_list.append('_'.join([components[0], components[1]]).rsplit('_', 4)[0])\n",
        "\n",
        "df_path= pd.DataFrame()\n",
        "df_path['id'], df_path['path']= id_list, image_path_list\n",
        "display(df_path.head())\n",
        "df_path.shape"
      ],
      "metadata": {
        "id": "NSpFJpKA3wfa",
        "colab": {
          "base_uri": "https://localhost:8080/",
          "height": 610
        },
        "outputId": "32b4e97e-f57f-46d8-83ee-4f6bae90137d"
      },
      "execution_count": 14,
      "outputs": [
        {
          "output_type": "display_data",
          "data": {
            "text/plain": [
              "                         id                                               path\n",
              "0  case121_day14_slice_0104  /content/dataset/train/case121/case121_day14/s...\n",
              "1  case121_day14_slice_0083  /content/dataset/train/case121/case121_day14/s...\n",
              "2  case121_day14_slice_0057  /content/dataset/train/case121/case121_day14/s...\n",
              "3  case121_day14_slice_0097  /content/dataset/train/case121/case121_day14/s...\n",
              "4  case121_day14_slice_0129  /content/dataset/train/case121/case121_day14/s..."
            ],
            "text/html": [
              "\n",
              "  <div id=\"df-8a6ff877-592a-413f-8e94-0ff8f8d2f5bb\" class=\"colab-df-container\">\n",
              "    <div>\n",
              "<style scoped>\n",
              "    .dataframe tbody tr th:only-of-type {\n",
              "        vertical-align: middle;\n",
              "    }\n",
              "\n",
              "    .dataframe tbody tr th {\n",
              "        vertical-align: top;\n",
              "    }\n",
              "\n",
              "    .dataframe thead th {\n",
              "        text-align: right;\n",
              "    }\n",
              "</style>\n",
              "<table border=\"1\" class=\"dataframe\">\n",
              "  <thead>\n",
              "    <tr style=\"text-align: right;\">\n",
              "      <th></th>\n",
              "      <th>id</th>\n",
              "      <th>path</th>\n",
              "    </tr>\n",
              "  </thead>\n",
              "  <tbody>\n",
              "    <tr>\n",
              "      <th>0</th>\n",
              "      <td>case121_day14_slice_0104</td>\n",
              "      <td>/content/dataset/train/case121/case121_day14/s...</td>\n",
              "    </tr>\n",
              "    <tr>\n",
              "      <th>1</th>\n",
              "      <td>case121_day14_slice_0083</td>\n",
              "      <td>/content/dataset/train/case121/case121_day14/s...</td>\n",
              "    </tr>\n",
              "    <tr>\n",
              "      <th>2</th>\n",
              "      <td>case121_day14_slice_0057</td>\n",
              "      <td>/content/dataset/train/case121/case121_day14/s...</td>\n",
              "    </tr>\n",
              "    <tr>\n",
              "      <th>3</th>\n",
              "      <td>case121_day14_slice_0097</td>\n",
              "      <td>/content/dataset/train/case121/case121_day14/s...</td>\n",
              "    </tr>\n",
              "    <tr>\n",
              "      <th>4</th>\n",
              "      <td>case121_day14_slice_0129</td>\n",
              "      <td>/content/dataset/train/case121/case121_day14/s...</td>\n",
              "    </tr>\n",
              "  </tbody>\n",
              "</table>\n",
              "</div>\n",
              "    <div class=\"colab-df-buttons\">\n",
              "\n",
              "  <div class=\"colab-df-container\">\n",
              "    <button class=\"colab-df-convert\" onclick=\"convertToInteractive('df-8a6ff877-592a-413f-8e94-0ff8f8d2f5bb')\"\n",
              "            title=\"Convert this dataframe to an interactive table.\"\n",
              "            style=\"display:none;\">\n",
              "\n",
              "  <svg xmlns=\"http://www.w3.org/2000/svg\" height=\"24px\" viewBox=\"0 -960 960 960\">\n",
              "    <path d=\"M120-120v-720h720v720H120Zm60-500h600v-160H180v160Zm220 220h160v-160H400v160Zm0 220h160v-160H400v160ZM180-400h160v-160H180v160Zm440 0h160v-160H620v160ZM180-180h160v-160H180v160Zm440 0h160v-160H620v160Z\"/>\n",
              "  </svg>\n",
              "    </button>\n",
              "\n",
              "  <style>\n",
              "    .colab-df-container {\n",
              "      display:flex;\n",
              "      gap: 12px;\n",
              "    }\n",
              "\n",
              "    .colab-df-convert {\n",
              "      background-color: #E8F0FE;\n",
              "      border: none;\n",
              "      border-radius: 50%;\n",
              "      cursor: pointer;\n",
              "      display: none;\n",
              "      fill: #1967D2;\n",
              "      height: 32px;\n",
              "      padding: 0 0 0 0;\n",
              "      width: 32px;\n",
              "    }\n",
              "\n",
              "    .colab-df-convert:hover {\n",
              "      background-color: #E2EBFA;\n",
              "      box-shadow: 0px 1px 2px rgba(60, 64, 67, 0.3), 0px 1px 3px 1px rgba(60, 64, 67, 0.15);\n",
              "      fill: #174EA6;\n",
              "    }\n",
              "\n",
              "    .colab-df-buttons div {\n",
              "      margin-bottom: 4px;\n",
              "    }\n",
              "\n",
              "    [theme=dark] .colab-df-convert {\n",
              "      background-color: #3B4455;\n",
              "      fill: #D2E3FC;\n",
              "    }\n",
              "\n",
              "    [theme=dark] .colab-df-convert:hover {\n",
              "      background-color: #434B5C;\n",
              "      box-shadow: 0px 1px 3px 1px rgba(0, 0, 0, 0.15);\n",
              "      filter: drop-shadow(0px 1px 2px rgba(0, 0, 0, 0.3));\n",
              "      fill: #FFFFFF;\n",
              "    }\n",
              "  </style>\n",
              "\n",
              "    <script>\n",
              "      const buttonEl =\n",
              "        document.querySelector('#df-8a6ff877-592a-413f-8e94-0ff8f8d2f5bb button.colab-df-convert');\n",
              "      buttonEl.style.display =\n",
              "        google.colab.kernel.accessAllowed ? 'block' : 'none';\n",
              "\n",
              "      async function convertToInteractive(key) {\n",
              "        const element = document.querySelector('#df-8a6ff877-592a-413f-8e94-0ff8f8d2f5bb');\n",
              "        const dataTable =\n",
              "          await google.colab.kernel.invokeFunction('convertToInteractive',\n",
              "                                                    [key], {});\n",
              "        if (!dataTable) return;\n",
              "\n",
              "        const docLinkHtml = 'Like what you see? Visit the ' +\n",
              "          '<a target=\"_blank\" href=https://colab.research.google.com/notebooks/data_table.ipynb>data table notebook</a>'\n",
              "          + ' to learn more about interactive tables.';\n",
              "        element.innerHTML = '';\n",
              "        dataTable['output_type'] = 'display_data';\n",
              "        await google.colab.output.renderOutput(dataTable, element);\n",
              "        const docLink = document.createElement('div');\n",
              "        docLink.innerHTML = docLinkHtml;\n",
              "        element.appendChild(docLink);\n",
              "      }\n",
              "    </script>\n",
              "  </div>\n",
              "\n",
              "\n",
              "<div id=\"df-aa9c0527-7f98-4b41-ac19-463bd571e260\">\n",
              "  <button class=\"colab-df-quickchart\" onclick=\"quickchart('df-aa9c0527-7f98-4b41-ac19-463bd571e260')\"\n",
              "            title=\"Suggest charts\"\n",
              "            style=\"display:none;\">\n",
              "\n",
              "<svg xmlns=\"http://www.w3.org/2000/svg\" height=\"24px\"viewBox=\"0 0 24 24\"\n",
              "     width=\"24px\">\n",
              "    <g>\n",
              "        <path d=\"M19 3H5c-1.1 0-2 .9-2 2v14c0 1.1.9 2 2 2h14c1.1 0 2-.9 2-2V5c0-1.1-.9-2-2-2zM9 17H7v-7h2v7zm4 0h-2V7h2v10zm4 0h-2v-4h2v4z\"/>\n",
              "    </g>\n",
              "</svg>\n",
              "  </button>\n",
              "\n",
              "<style>\n",
              "  .colab-df-quickchart {\n",
              "      --bg-color: #E8F0FE;\n",
              "      --fill-color: #1967D2;\n",
              "      --hover-bg-color: #E2EBFA;\n",
              "      --hover-fill-color: #174EA6;\n",
              "      --disabled-fill-color: #AAA;\n",
              "      --disabled-bg-color: #DDD;\n",
              "  }\n",
              "\n",
              "  [theme=dark] .colab-df-quickchart {\n",
              "      --bg-color: #3B4455;\n",
              "      --fill-color: #D2E3FC;\n",
              "      --hover-bg-color: #434B5C;\n",
              "      --hover-fill-color: #FFFFFF;\n",
              "      --disabled-bg-color: #3B4455;\n",
              "      --disabled-fill-color: #666;\n",
              "  }\n",
              "\n",
              "  .colab-df-quickchart {\n",
              "    background-color: var(--bg-color);\n",
              "    border: none;\n",
              "    border-radius: 50%;\n",
              "    cursor: pointer;\n",
              "    display: none;\n",
              "    fill: var(--fill-color);\n",
              "    height: 32px;\n",
              "    padding: 0;\n",
              "    width: 32px;\n",
              "  }\n",
              "\n",
              "  .colab-df-quickchart:hover {\n",
              "    background-color: var(--hover-bg-color);\n",
              "    box-shadow: 0 1px 2px rgba(60, 64, 67, 0.3), 0 1px 3px 1px rgba(60, 64, 67, 0.15);\n",
              "    fill: var(--button-hover-fill-color);\n",
              "  }\n",
              "\n",
              "  .colab-df-quickchart-complete:disabled,\n",
              "  .colab-df-quickchart-complete:disabled:hover {\n",
              "    background-color: var(--disabled-bg-color);\n",
              "    fill: var(--disabled-fill-color);\n",
              "    box-shadow: none;\n",
              "  }\n",
              "\n",
              "  .colab-df-spinner {\n",
              "    border: 2px solid var(--fill-color);\n",
              "    border-color: transparent;\n",
              "    border-bottom-color: var(--fill-color);\n",
              "    animation:\n",
              "      spin 1s steps(1) infinite;\n",
              "  }\n",
              "\n",
              "  @keyframes spin {\n",
              "    0% {\n",
              "      border-color: transparent;\n",
              "      border-bottom-color: var(--fill-color);\n",
              "      border-left-color: var(--fill-color);\n",
              "    }\n",
              "    20% {\n",
              "      border-color: transparent;\n",
              "      border-left-color: var(--fill-color);\n",
              "      border-top-color: var(--fill-color);\n",
              "    }\n",
              "    30% {\n",
              "      border-color: transparent;\n",
              "      border-left-color: var(--fill-color);\n",
              "      border-top-color: var(--fill-color);\n",
              "      border-right-color: var(--fill-color);\n",
              "    }\n",
              "    40% {\n",
              "      border-color: transparent;\n",
              "      border-right-color: var(--fill-color);\n",
              "      border-top-color: var(--fill-color);\n",
              "    }\n",
              "    60% {\n",
              "      border-color: transparent;\n",
              "      border-right-color: var(--fill-color);\n",
              "    }\n",
              "    80% {\n",
              "      border-color: transparent;\n",
              "      border-right-color: var(--fill-color);\n",
              "      border-bottom-color: var(--fill-color);\n",
              "    }\n",
              "    90% {\n",
              "      border-color: transparent;\n",
              "      border-bottom-color: var(--fill-color);\n",
              "    }\n",
              "  }\n",
              "</style>\n",
              "\n",
              "  <script>\n",
              "    async function quickchart(key) {\n",
              "      const quickchartButtonEl =\n",
              "        document.querySelector('#' + key + ' button');\n",
              "      quickchartButtonEl.disabled = true;  // To prevent multiple clicks.\n",
              "      quickchartButtonEl.classList.add('colab-df-spinner');\n",
              "      try {\n",
              "        const charts = await google.colab.kernel.invokeFunction(\n",
              "            'suggestCharts', [key], {});\n",
              "      } catch (error) {\n",
              "        console.error('Error during call to suggestCharts:', error);\n",
              "      }\n",
              "      quickchartButtonEl.classList.remove('colab-df-spinner');\n",
              "      quickchartButtonEl.classList.add('colab-df-quickchart-complete');\n",
              "    }\n",
              "    (() => {\n",
              "      let quickchartButtonEl =\n",
              "        document.querySelector('#df-aa9c0527-7f98-4b41-ac19-463bd571e260 button');\n",
              "      quickchartButtonEl.style.display =\n",
              "        google.colab.kernel.accessAllowed ? 'block' : 'none';\n",
              "    })();\n",
              "  </script>\n",
              "</div>\n",
              "    </div>\n",
              "  </div>\n"
            ],
            "application/vnd.google.colaboratory.intrinsic+json": {
              "type": "dataframe",
              "summary": "{\n  \"name\": \"df_path\",\n  \"rows\": 5,\n  \"fields\": [\n    {\n      \"column\": \"id\",\n      \"properties\": {\n        \"dtype\": \"string\",\n        \"num_unique_values\": 5,\n        \"samples\": [\n          \"case121_day14_slice_0083\",\n          \"case121_day14_slice_0129\",\n          \"case121_day14_slice_0057\"\n        ],\n        \"semantic_type\": \"\",\n        \"description\": \"\"\n      }\n    },\n    {\n      \"column\": \"path\",\n      \"properties\": {\n        \"dtype\": \"string\",\n        \"num_unique_values\": 5,\n        \"samples\": [\n          \"/content/dataset/train/case121/case121_day14/scans/slice_0083_266_266_1.50_1.50.png\",\n          \"/content/dataset/train/case121/case121_day14/scans/slice_0129_266_266_1.50_1.50.png\",\n          \"/content/dataset/train/case121/case121_day14/scans/slice_0057_266_266_1.50_1.50.png\"\n        ],\n        \"semantic_type\": \"\",\n        \"description\": \"\"\n      }\n    }\n  ]\n}"
            }
          },
          "metadata": {}
        },
        {
          "output_type": "execute_result",
          "data": {
            "text/plain": [
              "(38496, 2)"
            ]
          },
          "metadata": {},
          "execution_count": 14
        }
      ]
    },
    {
      "cell_type": "markdown",
      "source": [
        "### merge paths with df"
      ],
      "metadata": {
        "id": "FzpPREW_4xEL"
      }
    },
    {
      "cell_type": "code",
      "source": [
        "df= df.merge(df_path, on= 'id')\n",
        "df.head()"
      ],
      "metadata": {
        "id": "cVqyBqkb42DD",
        "colab": {
          "base_uri": "https://localhost:8080/",
          "height": 660
        },
        "outputId": "a01f0127-2160-4770-ebb0-0b2f628f723c"
      },
      "execution_count": 15,
      "outputs": [
        {
          "output_type": "execute_result",
          "data": {
            "text/plain": [
              "                         id large_bowel small_bowel  \\\n",
              "0  case101_day20_slice_0066                           \n",
              "1  case101_day20_slice_0067                           \n",
              "2  case101_day20_slice_0068                           \n",
              "3  case101_day20_slice_0069                           \n",
              "4  case101_day20_slice_0070                           \n",
              "\n",
              "                                             stomach  \\\n",
              "0  32107 5 32371 10 32635 13 32900 15 33165 17 33...   \n",
              "1  31313 2 31577 7 31841 10 32105 14 32369 17 326...   \n",
              "2  30517 2 30781 6 31046 9 31311 11 31575 15 3184...   \n",
              "3  29981 10 30246 13 30511 16 30776 19 31041 21 3...   \n",
              "4  28918 9 29182 14 29446 18 29711 21 29976 23 30...   \n",
              "\n",
              "                                                path  \n",
              "0  /content/dataset/train/case101/case101_day20/s...  \n",
              "1  /content/dataset/train/case101/case101_day20/s...  \n",
              "2  /content/dataset/train/case101/case101_day20/s...  \n",
              "3  /content/dataset/train/case101/case101_day20/s...  \n",
              "4  /content/dataset/train/case101/case101_day20/s...  "
            ],
            "text/html": [
              "\n",
              "  <div id=\"df-0bb90255-5e36-4ec0-9114-799c701c41e7\" class=\"colab-df-container\">\n",
              "    <div>\n",
              "<style scoped>\n",
              "    .dataframe tbody tr th:only-of-type {\n",
              "        vertical-align: middle;\n",
              "    }\n",
              "\n",
              "    .dataframe tbody tr th {\n",
              "        vertical-align: top;\n",
              "    }\n",
              "\n",
              "    .dataframe thead th {\n",
              "        text-align: right;\n",
              "    }\n",
              "</style>\n",
              "<table border=\"1\" class=\"dataframe\">\n",
              "  <thead>\n",
              "    <tr style=\"text-align: right;\">\n",
              "      <th></th>\n",
              "      <th>id</th>\n",
              "      <th>large_bowel</th>\n",
              "      <th>small_bowel</th>\n",
              "      <th>stomach</th>\n",
              "      <th>path</th>\n",
              "    </tr>\n",
              "  </thead>\n",
              "  <tbody>\n",
              "    <tr>\n",
              "      <th>0</th>\n",
              "      <td>case101_day20_slice_0066</td>\n",
              "      <td></td>\n",
              "      <td></td>\n",
              "      <td>32107 5 32371 10 32635 13 32900 15 33165 17 33...</td>\n",
              "      <td>/content/dataset/train/case101/case101_day20/s...</td>\n",
              "    </tr>\n",
              "    <tr>\n",
              "      <th>1</th>\n",
              "      <td>case101_day20_slice_0067</td>\n",
              "      <td></td>\n",
              "      <td></td>\n",
              "      <td>31313 2 31577 7 31841 10 32105 14 32369 17 326...</td>\n",
              "      <td>/content/dataset/train/case101/case101_day20/s...</td>\n",
              "    </tr>\n",
              "    <tr>\n",
              "      <th>2</th>\n",
              "      <td>case101_day20_slice_0068</td>\n",
              "      <td></td>\n",
              "      <td></td>\n",
              "      <td>30517 2 30781 6 31046 9 31311 11 31575 15 3184...</td>\n",
              "      <td>/content/dataset/train/case101/case101_day20/s...</td>\n",
              "    </tr>\n",
              "    <tr>\n",
              "      <th>3</th>\n",
              "      <td>case101_day20_slice_0069</td>\n",
              "      <td></td>\n",
              "      <td></td>\n",
              "      <td>29981 10 30246 13 30511 16 30776 19 31041 21 3...</td>\n",
              "      <td>/content/dataset/train/case101/case101_day20/s...</td>\n",
              "    </tr>\n",
              "    <tr>\n",
              "      <th>4</th>\n",
              "      <td>case101_day20_slice_0070</td>\n",
              "      <td></td>\n",
              "      <td></td>\n",
              "      <td>28918 9 29182 14 29446 18 29711 21 29976 23 30...</td>\n",
              "      <td>/content/dataset/train/case101/case101_day20/s...</td>\n",
              "    </tr>\n",
              "  </tbody>\n",
              "</table>\n",
              "</div>\n",
              "    <div class=\"colab-df-buttons\">\n",
              "\n",
              "  <div class=\"colab-df-container\">\n",
              "    <button class=\"colab-df-convert\" onclick=\"convertToInteractive('df-0bb90255-5e36-4ec0-9114-799c701c41e7')\"\n",
              "            title=\"Convert this dataframe to an interactive table.\"\n",
              "            style=\"display:none;\">\n",
              "\n",
              "  <svg xmlns=\"http://www.w3.org/2000/svg\" height=\"24px\" viewBox=\"0 -960 960 960\">\n",
              "    <path d=\"M120-120v-720h720v720H120Zm60-500h600v-160H180v160Zm220 220h160v-160H400v160Zm0 220h160v-160H400v160ZM180-400h160v-160H180v160Zm440 0h160v-160H620v160ZM180-180h160v-160H180v160Zm440 0h160v-160H620v160Z\"/>\n",
              "  </svg>\n",
              "    </button>\n",
              "\n",
              "  <style>\n",
              "    .colab-df-container {\n",
              "      display:flex;\n",
              "      gap: 12px;\n",
              "    }\n",
              "\n",
              "    .colab-df-convert {\n",
              "      background-color: #E8F0FE;\n",
              "      border: none;\n",
              "      border-radius: 50%;\n",
              "      cursor: pointer;\n",
              "      display: none;\n",
              "      fill: #1967D2;\n",
              "      height: 32px;\n",
              "      padding: 0 0 0 0;\n",
              "      width: 32px;\n",
              "    }\n",
              "\n",
              "    .colab-df-convert:hover {\n",
              "      background-color: #E2EBFA;\n",
              "      box-shadow: 0px 1px 2px rgba(60, 64, 67, 0.3), 0px 1px 3px 1px rgba(60, 64, 67, 0.15);\n",
              "      fill: #174EA6;\n",
              "    }\n",
              "\n",
              "    .colab-df-buttons div {\n",
              "      margin-bottom: 4px;\n",
              "    }\n",
              "\n",
              "    [theme=dark] .colab-df-convert {\n",
              "      background-color: #3B4455;\n",
              "      fill: #D2E3FC;\n",
              "    }\n",
              "\n",
              "    [theme=dark] .colab-df-convert:hover {\n",
              "      background-color: #434B5C;\n",
              "      box-shadow: 0px 1px 3px 1px rgba(0, 0, 0, 0.15);\n",
              "      filter: drop-shadow(0px 1px 2px rgba(0, 0, 0, 0.3));\n",
              "      fill: #FFFFFF;\n",
              "    }\n",
              "  </style>\n",
              "\n",
              "    <script>\n",
              "      const buttonEl =\n",
              "        document.querySelector('#df-0bb90255-5e36-4ec0-9114-799c701c41e7 button.colab-df-convert');\n",
              "      buttonEl.style.display =\n",
              "        google.colab.kernel.accessAllowed ? 'block' : 'none';\n",
              "\n",
              "      async function convertToInteractive(key) {\n",
              "        const element = document.querySelector('#df-0bb90255-5e36-4ec0-9114-799c701c41e7');\n",
              "        const dataTable =\n",
              "          await google.colab.kernel.invokeFunction('convertToInteractive',\n",
              "                                                    [key], {});\n",
              "        if (!dataTable) return;\n",
              "\n",
              "        const docLinkHtml = 'Like what you see? Visit the ' +\n",
              "          '<a target=\"_blank\" href=https://colab.research.google.com/notebooks/data_table.ipynb>data table notebook</a>'\n",
              "          + ' to learn more about interactive tables.';\n",
              "        element.innerHTML = '';\n",
              "        dataTable['output_type'] = 'display_data';\n",
              "        await google.colab.output.renderOutput(dataTable, element);\n",
              "        const docLink = document.createElement('div');\n",
              "        docLink.innerHTML = docLinkHtml;\n",
              "        element.appendChild(docLink);\n",
              "      }\n",
              "    </script>\n",
              "  </div>\n",
              "\n",
              "\n",
              "<div id=\"df-cc056d38-00ba-4e17-9906-55cb44cdbfe4\">\n",
              "  <button class=\"colab-df-quickchart\" onclick=\"quickchart('df-cc056d38-00ba-4e17-9906-55cb44cdbfe4')\"\n",
              "            title=\"Suggest charts\"\n",
              "            style=\"display:none;\">\n",
              "\n",
              "<svg xmlns=\"http://www.w3.org/2000/svg\" height=\"24px\"viewBox=\"0 0 24 24\"\n",
              "     width=\"24px\">\n",
              "    <g>\n",
              "        <path d=\"M19 3H5c-1.1 0-2 .9-2 2v14c0 1.1.9 2 2 2h14c1.1 0 2-.9 2-2V5c0-1.1-.9-2-2-2zM9 17H7v-7h2v7zm4 0h-2V7h2v10zm4 0h-2v-4h2v4z\"/>\n",
              "    </g>\n",
              "</svg>\n",
              "  </button>\n",
              "\n",
              "<style>\n",
              "  .colab-df-quickchart {\n",
              "      --bg-color: #E8F0FE;\n",
              "      --fill-color: #1967D2;\n",
              "      --hover-bg-color: #E2EBFA;\n",
              "      --hover-fill-color: #174EA6;\n",
              "      --disabled-fill-color: #AAA;\n",
              "      --disabled-bg-color: #DDD;\n",
              "  }\n",
              "\n",
              "  [theme=dark] .colab-df-quickchart {\n",
              "      --bg-color: #3B4455;\n",
              "      --fill-color: #D2E3FC;\n",
              "      --hover-bg-color: #434B5C;\n",
              "      --hover-fill-color: #FFFFFF;\n",
              "      --disabled-bg-color: #3B4455;\n",
              "      --disabled-fill-color: #666;\n",
              "  }\n",
              "\n",
              "  .colab-df-quickchart {\n",
              "    background-color: var(--bg-color);\n",
              "    border: none;\n",
              "    border-radius: 50%;\n",
              "    cursor: pointer;\n",
              "    display: none;\n",
              "    fill: var(--fill-color);\n",
              "    height: 32px;\n",
              "    padding: 0;\n",
              "    width: 32px;\n",
              "  }\n",
              "\n",
              "  .colab-df-quickchart:hover {\n",
              "    background-color: var(--hover-bg-color);\n",
              "    box-shadow: 0 1px 2px rgba(60, 64, 67, 0.3), 0 1px 3px 1px rgba(60, 64, 67, 0.15);\n",
              "    fill: var(--button-hover-fill-color);\n",
              "  }\n",
              "\n",
              "  .colab-df-quickchart-complete:disabled,\n",
              "  .colab-df-quickchart-complete:disabled:hover {\n",
              "    background-color: var(--disabled-bg-color);\n",
              "    fill: var(--disabled-fill-color);\n",
              "    box-shadow: none;\n",
              "  }\n",
              "\n",
              "  .colab-df-spinner {\n",
              "    border: 2px solid var(--fill-color);\n",
              "    border-color: transparent;\n",
              "    border-bottom-color: var(--fill-color);\n",
              "    animation:\n",
              "      spin 1s steps(1) infinite;\n",
              "  }\n",
              "\n",
              "  @keyframes spin {\n",
              "    0% {\n",
              "      border-color: transparent;\n",
              "      border-bottom-color: var(--fill-color);\n",
              "      border-left-color: var(--fill-color);\n",
              "    }\n",
              "    20% {\n",
              "      border-color: transparent;\n",
              "      border-left-color: var(--fill-color);\n",
              "      border-top-color: var(--fill-color);\n",
              "    }\n",
              "    30% {\n",
              "      border-color: transparent;\n",
              "      border-left-color: var(--fill-color);\n",
              "      border-top-color: var(--fill-color);\n",
              "      border-right-color: var(--fill-color);\n",
              "    }\n",
              "    40% {\n",
              "      border-color: transparent;\n",
              "      border-right-color: var(--fill-color);\n",
              "      border-top-color: var(--fill-color);\n",
              "    }\n",
              "    60% {\n",
              "      border-color: transparent;\n",
              "      border-right-color: var(--fill-color);\n",
              "    }\n",
              "    80% {\n",
              "      border-color: transparent;\n",
              "      border-right-color: var(--fill-color);\n",
              "      border-bottom-color: var(--fill-color);\n",
              "    }\n",
              "    90% {\n",
              "      border-color: transparent;\n",
              "      border-bottom-color: var(--fill-color);\n",
              "    }\n",
              "  }\n",
              "</style>\n",
              "\n",
              "  <script>\n",
              "    async function quickchart(key) {\n",
              "      const quickchartButtonEl =\n",
              "        document.querySelector('#' + key + ' button');\n",
              "      quickchartButtonEl.disabled = true;  // To prevent multiple clicks.\n",
              "      quickchartButtonEl.classList.add('colab-df-spinner');\n",
              "      try {\n",
              "        const charts = await google.colab.kernel.invokeFunction(\n",
              "            'suggestCharts', [key], {});\n",
              "      } catch (error) {\n",
              "        console.error('Error during call to suggestCharts:', error);\n",
              "      }\n",
              "      quickchartButtonEl.classList.remove('colab-df-spinner');\n",
              "      quickchartButtonEl.classList.add('colab-df-quickchart-complete');\n",
              "    }\n",
              "    (() => {\n",
              "      let quickchartButtonEl =\n",
              "        document.querySelector('#df-cc056d38-00ba-4e17-9906-55cb44cdbfe4 button');\n",
              "      quickchartButtonEl.style.display =\n",
              "        google.colab.kernel.accessAllowed ? 'block' : 'none';\n",
              "    })();\n",
              "  </script>\n",
              "</div>\n",
              "    </div>\n",
              "  </div>\n"
            ],
            "application/vnd.google.colaboratory.intrinsic+json": {
              "type": "dataframe",
              "variable_name": "df",
              "summary": "{\n  \"name\": \"df\",\n  \"rows\": 16590,\n  \"fields\": [\n    {\n      \"column\": \"id\",\n      \"properties\": {\n        \"dtype\": \"string\",\n        \"num_unique_values\": 16590,\n        \"samples\": [\n          \"case154_day16_slice_0055\",\n          \"case107_day19_slice_0058\",\n          \"case63_day20_slice_0082\"\n        ],\n        \"semantic_type\": \"\",\n        \"description\": \"\"\n      }\n    },\n    {\n      \"column\": \"large_bowel\",\n      \"properties\": {\n        \"dtype\": \"string\",\n        \"num_unique_values\": 14082,\n        \"samples\": [\n          \"20602 4 20864 10 21128 14 21393 15 21445 6 21657 18 21709 10 21922 19 21973 14 22188 20 22238 16 22453 21 22504 17 22719 21 22769 18 22985 21 23035 19 23251 20 23300 21 23517 20 23566 22 23783 20 23831 24 24049 20 24097 24 24315 19 24363 25 24582 18 24629 26 24849 17 24895 26 25116 16 25161 27 25384 13 25427 27 25624 5 25651 11 25694 26 25888 9 25919 8 25960 26 26153 11 26187 4 26227 25 26419 11 26494 24 26684 13 26761 23 26950 13 27029 20 27216 13 27297 18 27482 13 27565 15 27748 13 27832 13 28014 13 28099 11 28280 13 28367 7 28547 11 28814 10 29080 10 29181 6 29347 9 29446 8 29613 10 29711 10 29880 9 29977 11 30146 9 30242 13 30413 8 30508 14 30679 8 30775 13 30946 6 31041 14 31213 4 31308 14 31575 14 31842 14 32109 15 32375 16 32642 16 32907 18 33173 19 33438 20 33704 20 33970 21 34236 21 34502 21 34767 22 35033 22 35299 21 35565 21 35831 21 36097 20 36363 20 36629 19 36896 18 37162 17 37429 15 37696 14 37963 12 38230 9 38499 3\",\n          \"27866 4 28130 8 28396 9 28661 10 28927 11 29193 12 29459 13 29725 13 29990 15 30256 16 30522 16 30788 16 31054 17 31320 17 31586 18 31852 18 32118 19 32384 19 32650 20 32916 21 33183 20 33449 21 33716 20 33983 19 34251 18 34518 17 34785 17 35052 17 35319 16 35586 16 35852 16 36119 16 36386 16 36652 16 36919 16 37185 16 37450 18 37716 18 37982 18 38249 17 38515 17 38782 16 39049 15 39316 14 39584 11 39852 9 40120 6\",\n          \"15522 10 15786 13 16049 16 16313 18 16577 20 16841 22 17106 21 17371 20 17637 17 17903 15 18169 13 18436 10 18703 6 25230 6 25495 9 25760 11 26026 11 26291 13 26556 15 26641 5 26822 15 26906 7 27087 16 27171 9 27353 16 27437 10 27619 16 27703 10 27884 17 27969 10 28150 17 28234 11 28416 17 28500 11 28682 16 28766 11 28948 15 29033 9 29215 13 29299 9 29482 11 29566 7 29749 9 30017 6 30634 7 30898 10 31162 13 31428 14 31693 15 31959 15 32225 15 32491 15 32757 15 33024 14 33290 14 33556 14 33823 13 34089 13 34355 13 34622 11 34888 11 35155 10 35422 9 35689 7 35956 6 36225 1\"\n        ],\n        \"semantic_type\": \"\",\n        \"description\": \"\"\n      }\n    },\n    {\n      \"column\": \"small_bowel\",\n      \"properties\": {\n        \"dtype\": \"string\",\n        \"num_unique_values\": 11198,\n        \"samples\": [\n          \"21145 2 21409 6 21674 7 21940 7 22205 9 22471 9 22737 10 23003 12 23269 14 23535 16 23801 16 23846 4 24067 17 24092 8 24108 12 24333 18 24356 32 24559 5 24600 18 24621 35 24823 8 24866 58 25087 11 25133 60 25352 12 25399 61 25617 13 25664 64 25882 15 25929 66 26146 17 26193 68 26412 17 26457 71 26677 19 26721 74 26942 20 26985 76 27208 20 27250 78 27474 6 27482 11 27515 79 27741 3 27749 10 27780 60 27845 15 28015 9 28046 59 28113 13 28280 9 28311 60 28380 13 28529 2 28547 7 28577 60 28647 12 28793 6 28813 6 28843 60 28913 13 29058 8 29079 5 29110 59 29180 13 29323 9 29346 4 29377 33 29415 20 29446 14 29588 10 29613 1 29646 28 29683 17 29712 14 29853 11 29915 23 29950 16 29977 16 30118 11 30183 19 30226 4 30242 18 30384 10 30450 16 30508 23 30649 9 30717 13 30773 26 30914 9 30986 8 31039 27 31179 10 31255 3 31304 29 31445 9 31570 30 31710 10 31836 30 31976 10 32101 31 32241 11 32367 31 32507 11 32540 2 32634 30 32773 10 32805 3 32900 30 33038 11 33071 4 33166 30 33304 10 33337 4 33433 28 33570 9 33602 5 33699 28 33836 8 33868 5 33966 26 34102 7 34134 5 34232 26 34400 5 34498 25 34667 4 34764 25 34933 3 35030 24 35200 1 35295 25 35561 25 35827 24 36094 23 36347 6 36361 23 36612 9 36628 22 36876 13 36896 22 37141 15 37163 21 37406 17 37429 22 37672 19 37696 21 37938 20 37962 22 38204 20 38229 21 38470 21 38495 21 38736 22 38760 22 39002 47 39268 47 39534 46 39799 47 40065 47 40331 47 40597 46 40863 46 41129 45 41396 13 41420 20 41662 9 41688 17 41930 5 41955 15 42223 11 42491 6\",\n          \"29394 11 29658 14 29922 16 30188 16 30412 5 30454 16 30530 6 30677 7 30720 15 30794 10 30942 9 30986 10 31057 14 31207 10 31253 5 31322 15 31471 12 31586 17 31735 14 31848 21 32000 15 32112 23 32266 15 32377 24 32531 15 32578 5 32642 25 32797 15 32840 10 32907 25 33063 14 33104 12 33173 25 33329 13 33369 14 33412 8 33439 24 33595 12 33635 14 33677 10 33705 23 33861 11 33901 14 33941 12 33971 23 34127 10 34167 14 34206 13 34237 23 34393 9 34434 13 34470 15 34503 23 34659 10 34701 11 34735 15 34770 22 34925 12 34970 8 35000 15 35038 20 35192 13 35238 5 35266 14 35307 17 35458 15 35531 14 35574 17 35725 21 35797 12 35841 15 35991 23 36063 12 36109 13 36258 23 36330 10 36377 10 36524 23 36597 7 36646 6 36790 24 36913 4 37057 23 37323 23 37590 22 37856 21 38123 19 38390 11 38659 5\",\n          \"28108 6 28371 11 28635 14 28900 17 29164 20 29429 23 29695 24 29961 24 30226 25 30496 21 30763 19 31031 3 31040 3 31058 7 31323 9 31589 10 31854 12 32042 3 32120 13 32308 9 32331 6 32344 3 32385 14 32573 41 32651 15 32840 40 32915 18 33106 39 33179 20 33373 37 33442 25 33639 32 33690 6 33706 28 33906 26 33953 10 33968 33 34175 17 34217 52 34442 11 34482 54 34706 12 34747 55 34972 11 35013 56 35236 13 35278 56 35497 21 35544 56 35762 23 35809 56 36028 24 36075 56 36294 25 36341 56 36559 23 36583 2 36608 55 36825 12 36875 54 37091 11 37143 53 37357 10 37411 51 37623 8 37679 50 37889 7 37946 50 38155 6 38212 50 38422 4 38479 49 38746 48 39014 45 39284 40 39559 30 39827 26 40094 24 40363 20 40632 16 40899 14 41166 13 41432 11 41699 6 41966 3\"\n        ],\n        \"semantic_type\": \"\",\n        \"description\": \"\"\n      }\n    },\n    {\n      \"column\": \"stomach\",\n      \"properties\": {\n        \"dtype\": \"string\",\n        \"num_unique_values\": 8622,\n        \"samples\": [\n          \"30526 8 30790 11 31054 15 31319 17 31584 18 31849 20 32115 20 32380 21 32644 23 32909 24 33173 26 33438 27 33701 31 33965 33 34230 34 34487 43 34751 46 35016 47 35282 47 35548 47 35814 48 36080 48 36346 48 36613 47 36880 45 37147 44 37414 43 37683 39 37951 37 38218 35 38485 33 38752 31 39019 29 39286 27 39553 25 39820 24 40088 21 40355 19 40622 16 40889 12 41158 6\",\n          \"25969 9 26234 13 26499 16 26764 19 27030 20 27296 21 27561 23 27828 23 28094 24 28360 25 28627 24 28893 25 29160 24 29426 24 29692 23 29959 22 30225 22 30491 22 30758 21 31025 20 31292 19 31559 17 31826 16 32093 14 32363 9 32631 6 32901 1\",\n          \"24638 12 24899 22 25161 29 25426 32 25691 34 25956 36 26222 36 26488 37 26755 36 27021 37 27288 36 27555 35 27822 34 28090 32 28357 31 28624 30 28892 28 29159 27 29426 26 29693 25 29960 23 30227 22 30495 19 30762 18 31030 16 31297 14 31565 11 31833 8\"\n        ],\n        \"semantic_type\": \"\",\n        \"description\": \"\"\n      }\n    },\n    {\n      \"column\": \"path\",\n      \"properties\": {\n        \"dtype\": \"string\",\n        \"num_unique_values\": 16590,\n        \"samples\": [\n          \"/content/dataset/train/case154/case154_day16/scans/slice_0055_266_266_1.50_1.50.png\",\n          \"/content/dataset/train/case107/case107_day19/scans/slice_0058_266_266_1.50_1.50.png\",\n          \"/content/dataset/train/case63/case63_day20/scans/slice_0082_266_266_1.50_1.50.png\"\n        ],\n        \"semantic_type\": \"\",\n        \"description\": \"\"\n      }\n    }\n  ]\n}"
            }
          },
          "metadata": {},
          "execution_count": 15
        }
      ]
    },
    {
      "cell_type": "code",
      "source": [
        "df['case']= df['id'].apply(lambda x: x.split('_')[0].replace('case', ''))\n",
        "df['day']= df['id'].apply(lambda x: int(x.split('_')[1].replace('day', '')))\n",
        "df['slice']= df['id'].apply(lambda x: x.split('_')[3])\n",
        "df['width']= df['path'].apply(lambda x: int(x[:-4].rsplit(\"_\", 4)[1]))\n",
        "df['height']= df['path'].apply(lambda x: int(x[:-4].rsplit(\"_\", 4)[2]))\n",
        "df['counts']= np.sum(df.iloc[:, 1:4] != '', axis= 1).values\n",
        "\n",
        "display(df.head())\n",
        "df['counts'].unique()"
      ],
      "metadata": {
        "id": "coH_ctEO5JPk",
        "colab": {
          "base_uri": "https://localhost:8080/",
          "height": 716
        },
        "outputId": "48872542-c922-47a3-d421-757146735f9e"
      },
      "execution_count": 16,
      "outputs": [
        {
          "output_type": "display_data",
          "data": {
            "text/plain": [
              "                         id large_bowel small_bowel  \\\n",
              "0  case101_day20_slice_0066                           \n",
              "1  case101_day20_slice_0067                           \n",
              "2  case101_day20_slice_0068                           \n",
              "3  case101_day20_slice_0069                           \n",
              "4  case101_day20_slice_0070                           \n",
              "\n",
              "                                             stomach  \\\n",
              "0  32107 5 32371 10 32635 13 32900 15 33165 17 33...   \n",
              "1  31313 2 31577 7 31841 10 32105 14 32369 17 326...   \n",
              "2  30517 2 30781 6 31046 9 31311 11 31575 15 3184...   \n",
              "3  29981 10 30246 13 30511 16 30776 19 31041 21 3...   \n",
              "4  28918 9 29182 14 29446 18 29711 21 29976 23 30...   \n",
              "\n",
              "                                                path case  day slice  width  \\\n",
              "0  /content/dataset/train/case101/case101_day20/s...  101   20  0066    266   \n",
              "1  /content/dataset/train/case101/case101_day20/s...  101   20  0067    266   \n",
              "2  /content/dataset/train/case101/case101_day20/s...  101   20  0068    266   \n",
              "3  /content/dataset/train/case101/case101_day20/s...  101   20  0069    266   \n",
              "4  /content/dataset/train/case101/case101_day20/s...  101   20  0070    266   \n",
              "\n",
              "   height  counts  \n",
              "0     266       1  \n",
              "1     266       1  \n",
              "2     266       1  \n",
              "3     266       1  \n",
              "4     266       1  "
            ],
            "text/html": [
              "\n",
              "  <div id=\"df-4815c997-c6b2-4944-a699-f56e9f29d130\" class=\"colab-df-container\">\n",
              "    <div>\n",
              "<style scoped>\n",
              "    .dataframe tbody tr th:only-of-type {\n",
              "        vertical-align: middle;\n",
              "    }\n",
              "\n",
              "    .dataframe tbody tr th {\n",
              "        vertical-align: top;\n",
              "    }\n",
              "\n",
              "    .dataframe thead th {\n",
              "        text-align: right;\n",
              "    }\n",
              "</style>\n",
              "<table border=\"1\" class=\"dataframe\">\n",
              "  <thead>\n",
              "    <tr style=\"text-align: right;\">\n",
              "      <th></th>\n",
              "      <th>id</th>\n",
              "      <th>large_bowel</th>\n",
              "      <th>small_bowel</th>\n",
              "      <th>stomach</th>\n",
              "      <th>path</th>\n",
              "      <th>case</th>\n",
              "      <th>day</th>\n",
              "      <th>slice</th>\n",
              "      <th>width</th>\n",
              "      <th>height</th>\n",
              "      <th>counts</th>\n",
              "    </tr>\n",
              "  </thead>\n",
              "  <tbody>\n",
              "    <tr>\n",
              "      <th>0</th>\n",
              "      <td>case101_day20_slice_0066</td>\n",
              "      <td></td>\n",
              "      <td></td>\n",
              "      <td>32107 5 32371 10 32635 13 32900 15 33165 17 33...</td>\n",
              "      <td>/content/dataset/train/case101/case101_day20/s...</td>\n",
              "      <td>101</td>\n",
              "      <td>20</td>\n",
              "      <td>0066</td>\n",
              "      <td>266</td>\n",
              "      <td>266</td>\n",
              "      <td>1</td>\n",
              "    </tr>\n",
              "    <tr>\n",
              "      <th>1</th>\n",
              "      <td>case101_day20_slice_0067</td>\n",
              "      <td></td>\n",
              "      <td></td>\n",
              "      <td>31313 2 31577 7 31841 10 32105 14 32369 17 326...</td>\n",
              "      <td>/content/dataset/train/case101/case101_day20/s...</td>\n",
              "      <td>101</td>\n",
              "      <td>20</td>\n",
              "      <td>0067</td>\n",
              "      <td>266</td>\n",
              "      <td>266</td>\n",
              "      <td>1</td>\n",
              "    </tr>\n",
              "    <tr>\n",
              "      <th>2</th>\n",
              "      <td>case101_day20_slice_0068</td>\n",
              "      <td></td>\n",
              "      <td></td>\n",
              "      <td>30517 2 30781 6 31046 9 31311 11 31575 15 3184...</td>\n",
              "      <td>/content/dataset/train/case101/case101_day20/s...</td>\n",
              "      <td>101</td>\n",
              "      <td>20</td>\n",
              "      <td>0068</td>\n",
              "      <td>266</td>\n",
              "      <td>266</td>\n",
              "      <td>1</td>\n",
              "    </tr>\n",
              "    <tr>\n",
              "      <th>3</th>\n",
              "      <td>case101_day20_slice_0069</td>\n",
              "      <td></td>\n",
              "      <td></td>\n",
              "      <td>29981 10 30246 13 30511 16 30776 19 31041 21 3...</td>\n",
              "      <td>/content/dataset/train/case101/case101_day20/s...</td>\n",
              "      <td>101</td>\n",
              "      <td>20</td>\n",
              "      <td>0069</td>\n",
              "      <td>266</td>\n",
              "      <td>266</td>\n",
              "      <td>1</td>\n",
              "    </tr>\n",
              "    <tr>\n",
              "      <th>4</th>\n",
              "      <td>case101_day20_slice_0070</td>\n",
              "      <td></td>\n",
              "      <td></td>\n",
              "      <td>28918 9 29182 14 29446 18 29711 21 29976 23 30...</td>\n",
              "      <td>/content/dataset/train/case101/case101_day20/s...</td>\n",
              "      <td>101</td>\n",
              "      <td>20</td>\n",
              "      <td>0070</td>\n",
              "      <td>266</td>\n",
              "      <td>266</td>\n",
              "      <td>1</td>\n",
              "    </tr>\n",
              "  </tbody>\n",
              "</table>\n",
              "</div>\n",
              "    <div class=\"colab-df-buttons\">\n",
              "\n",
              "  <div class=\"colab-df-container\">\n",
              "    <button class=\"colab-df-convert\" onclick=\"convertToInteractive('df-4815c997-c6b2-4944-a699-f56e9f29d130')\"\n",
              "            title=\"Convert this dataframe to an interactive table.\"\n",
              "            style=\"display:none;\">\n",
              "\n",
              "  <svg xmlns=\"http://www.w3.org/2000/svg\" height=\"24px\" viewBox=\"0 -960 960 960\">\n",
              "    <path d=\"M120-120v-720h720v720H120Zm60-500h600v-160H180v160Zm220 220h160v-160H400v160Zm0 220h160v-160H400v160ZM180-400h160v-160H180v160Zm440 0h160v-160H620v160ZM180-180h160v-160H180v160Zm440 0h160v-160H620v160Z\"/>\n",
              "  </svg>\n",
              "    </button>\n",
              "\n",
              "  <style>\n",
              "    .colab-df-container {\n",
              "      display:flex;\n",
              "      gap: 12px;\n",
              "    }\n",
              "\n",
              "    .colab-df-convert {\n",
              "      background-color: #E8F0FE;\n",
              "      border: none;\n",
              "      border-radius: 50%;\n",
              "      cursor: pointer;\n",
              "      display: none;\n",
              "      fill: #1967D2;\n",
              "      height: 32px;\n",
              "      padding: 0 0 0 0;\n",
              "      width: 32px;\n",
              "    }\n",
              "\n",
              "    .colab-df-convert:hover {\n",
              "      background-color: #E2EBFA;\n",
              "      box-shadow: 0px 1px 2px rgba(60, 64, 67, 0.3), 0px 1px 3px 1px rgba(60, 64, 67, 0.15);\n",
              "      fill: #174EA6;\n",
              "    }\n",
              "\n",
              "    .colab-df-buttons div {\n",
              "      margin-bottom: 4px;\n",
              "    }\n",
              "\n",
              "    [theme=dark] .colab-df-convert {\n",
              "      background-color: #3B4455;\n",
              "      fill: #D2E3FC;\n",
              "    }\n",
              "\n",
              "    [theme=dark] .colab-df-convert:hover {\n",
              "      background-color: #434B5C;\n",
              "      box-shadow: 0px 1px 3px 1px rgba(0, 0, 0, 0.15);\n",
              "      filter: drop-shadow(0px 1px 2px rgba(0, 0, 0, 0.3));\n",
              "      fill: #FFFFFF;\n",
              "    }\n",
              "  </style>\n",
              "\n",
              "    <script>\n",
              "      const buttonEl =\n",
              "        document.querySelector('#df-4815c997-c6b2-4944-a699-f56e9f29d130 button.colab-df-convert');\n",
              "      buttonEl.style.display =\n",
              "        google.colab.kernel.accessAllowed ? 'block' : 'none';\n",
              "\n",
              "      async function convertToInteractive(key) {\n",
              "        const element = document.querySelector('#df-4815c997-c6b2-4944-a699-f56e9f29d130');\n",
              "        const dataTable =\n",
              "          await google.colab.kernel.invokeFunction('convertToInteractive',\n",
              "                                                    [key], {});\n",
              "        if (!dataTable) return;\n",
              "\n",
              "        const docLinkHtml = 'Like what you see? Visit the ' +\n",
              "          '<a target=\"_blank\" href=https://colab.research.google.com/notebooks/data_table.ipynb>data table notebook</a>'\n",
              "          + ' to learn more about interactive tables.';\n",
              "        element.innerHTML = '';\n",
              "        dataTable['output_type'] = 'display_data';\n",
              "        await google.colab.output.renderOutput(dataTable, element);\n",
              "        const docLink = document.createElement('div');\n",
              "        docLink.innerHTML = docLinkHtml;\n",
              "        element.appendChild(docLink);\n",
              "      }\n",
              "    </script>\n",
              "  </div>\n",
              "\n",
              "\n",
              "<div id=\"df-7b5474db-3c64-49af-acbe-c3b432bfd0ee\">\n",
              "  <button class=\"colab-df-quickchart\" onclick=\"quickchart('df-7b5474db-3c64-49af-acbe-c3b432bfd0ee')\"\n",
              "            title=\"Suggest charts\"\n",
              "            style=\"display:none;\">\n",
              "\n",
              "<svg xmlns=\"http://www.w3.org/2000/svg\" height=\"24px\"viewBox=\"0 0 24 24\"\n",
              "     width=\"24px\">\n",
              "    <g>\n",
              "        <path d=\"M19 3H5c-1.1 0-2 .9-2 2v14c0 1.1.9 2 2 2h14c1.1 0 2-.9 2-2V5c0-1.1-.9-2-2-2zM9 17H7v-7h2v7zm4 0h-2V7h2v10zm4 0h-2v-4h2v4z\"/>\n",
              "    </g>\n",
              "</svg>\n",
              "  </button>\n",
              "\n",
              "<style>\n",
              "  .colab-df-quickchart {\n",
              "      --bg-color: #E8F0FE;\n",
              "      --fill-color: #1967D2;\n",
              "      --hover-bg-color: #E2EBFA;\n",
              "      --hover-fill-color: #174EA6;\n",
              "      --disabled-fill-color: #AAA;\n",
              "      --disabled-bg-color: #DDD;\n",
              "  }\n",
              "\n",
              "  [theme=dark] .colab-df-quickchart {\n",
              "      --bg-color: #3B4455;\n",
              "      --fill-color: #D2E3FC;\n",
              "      --hover-bg-color: #434B5C;\n",
              "      --hover-fill-color: #FFFFFF;\n",
              "      --disabled-bg-color: #3B4455;\n",
              "      --disabled-fill-color: #666;\n",
              "  }\n",
              "\n",
              "  .colab-df-quickchart {\n",
              "    background-color: var(--bg-color);\n",
              "    border: none;\n",
              "    border-radius: 50%;\n",
              "    cursor: pointer;\n",
              "    display: none;\n",
              "    fill: var(--fill-color);\n",
              "    height: 32px;\n",
              "    padding: 0;\n",
              "    width: 32px;\n",
              "  }\n",
              "\n",
              "  .colab-df-quickchart:hover {\n",
              "    background-color: var(--hover-bg-color);\n",
              "    box-shadow: 0 1px 2px rgba(60, 64, 67, 0.3), 0 1px 3px 1px rgba(60, 64, 67, 0.15);\n",
              "    fill: var(--button-hover-fill-color);\n",
              "  }\n",
              "\n",
              "  .colab-df-quickchart-complete:disabled,\n",
              "  .colab-df-quickchart-complete:disabled:hover {\n",
              "    background-color: var(--disabled-bg-color);\n",
              "    fill: var(--disabled-fill-color);\n",
              "    box-shadow: none;\n",
              "  }\n",
              "\n",
              "  .colab-df-spinner {\n",
              "    border: 2px solid var(--fill-color);\n",
              "    border-color: transparent;\n",
              "    border-bottom-color: var(--fill-color);\n",
              "    animation:\n",
              "      spin 1s steps(1) infinite;\n",
              "  }\n",
              "\n",
              "  @keyframes spin {\n",
              "    0% {\n",
              "      border-color: transparent;\n",
              "      border-bottom-color: var(--fill-color);\n",
              "      border-left-color: var(--fill-color);\n",
              "    }\n",
              "    20% {\n",
              "      border-color: transparent;\n",
              "      border-left-color: var(--fill-color);\n",
              "      border-top-color: var(--fill-color);\n",
              "    }\n",
              "    30% {\n",
              "      border-color: transparent;\n",
              "      border-left-color: var(--fill-color);\n",
              "      border-top-color: var(--fill-color);\n",
              "      border-right-color: var(--fill-color);\n",
              "    }\n",
              "    40% {\n",
              "      border-color: transparent;\n",
              "      border-right-color: var(--fill-color);\n",
              "      border-top-color: var(--fill-color);\n",
              "    }\n",
              "    60% {\n",
              "      border-color: transparent;\n",
              "      border-right-color: var(--fill-color);\n",
              "    }\n",
              "    80% {\n",
              "      border-color: transparent;\n",
              "      border-right-color: var(--fill-color);\n",
              "      border-bottom-color: var(--fill-color);\n",
              "    }\n",
              "    90% {\n",
              "      border-color: transparent;\n",
              "      border-bottom-color: var(--fill-color);\n",
              "    }\n",
              "  }\n",
              "</style>\n",
              "\n",
              "  <script>\n",
              "    async function quickchart(key) {\n",
              "      const quickchartButtonEl =\n",
              "        document.querySelector('#' + key + ' button');\n",
              "      quickchartButtonEl.disabled = true;  // To prevent multiple clicks.\n",
              "      quickchartButtonEl.classList.add('colab-df-spinner');\n",
              "      try {\n",
              "        const charts = await google.colab.kernel.invokeFunction(\n",
              "            'suggestCharts', [key], {});\n",
              "      } catch (error) {\n",
              "        console.error('Error during call to suggestCharts:', error);\n",
              "      }\n",
              "      quickchartButtonEl.classList.remove('colab-df-spinner');\n",
              "      quickchartButtonEl.classList.add('colab-df-quickchart-complete');\n",
              "    }\n",
              "    (() => {\n",
              "      let quickchartButtonEl =\n",
              "        document.querySelector('#df-7b5474db-3c64-49af-acbe-c3b432bfd0ee button');\n",
              "      quickchartButtonEl.style.display =\n",
              "        google.colab.kernel.accessAllowed ? 'block' : 'none';\n",
              "    })();\n",
              "  </script>\n",
              "</div>\n",
              "    </div>\n",
              "  </div>\n"
            ],
            "application/vnd.google.colaboratory.intrinsic+json": {
              "type": "dataframe",
              "summary": "{\n  \"name\": \"df['counts']\",\n  \"rows\": 5,\n  \"fields\": [\n    {\n      \"column\": \"id\",\n      \"properties\": {\n        \"dtype\": \"string\",\n        \"num_unique_values\": 5,\n        \"samples\": [\n          \"case101_day20_slice_0067\",\n          \"case101_day20_slice_0070\",\n          \"case101_day20_slice_0068\"\n        ],\n        \"semantic_type\": \"\",\n        \"description\": \"\"\n      }\n    },\n    {\n      \"column\": \"large_bowel\",\n      \"properties\": {\n        \"dtype\": \"object\",\n        \"num_unique_values\": 1,\n        \"samples\": [\n          \"\"\n        ],\n        \"semantic_type\": \"\",\n        \"description\": \"\"\n      }\n    },\n    {\n      \"column\": \"small_bowel\",\n      \"properties\": {\n        \"dtype\": \"object\",\n        \"num_unique_values\": 1,\n        \"samples\": [\n          \"\"\n        ],\n        \"semantic_type\": \"\",\n        \"description\": \"\"\n      }\n    },\n    {\n      \"column\": \"stomach\",\n      \"properties\": {\n        \"dtype\": \"string\",\n        \"num_unique_values\": 5,\n        \"samples\": [\n          \"31313 2 31577 7 31841 10 32105 14 32369 17 32633 20 32898 23 33164 24 33429 26 33695 26 33961 27 34227 27 34493 27 34759 27 35026 26 35292 26 35559 25 35825 25 36092 24 36358 23 36625 22 36891 21 37157 21 37424 19 37690 19 37956 18 38223 16 38490 14 38757 12 39024 10 39293 4\"\n        ],\n        \"semantic_type\": \"\",\n        \"description\": \"\"\n      }\n    },\n    {\n      \"column\": \"path\",\n      \"properties\": {\n        \"dtype\": \"string\",\n        \"num_unique_values\": 5,\n        \"samples\": [\n          \"/content/dataset/train/case101/case101_day20/scans/slice_0067_266_266_1.50_1.50.png\"\n        ],\n        \"semantic_type\": \"\",\n        \"description\": \"\"\n      }\n    },\n    {\n      \"column\": \"case\",\n      \"properties\": {\n        \"dtype\": \"category\",\n        \"num_unique_values\": 1,\n        \"samples\": [\n          \"101\"\n        ],\n        \"semantic_type\": \"\",\n        \"description\": \"\"\n      }\n    },\n    {\n      \"column\": \"day\",\n      \"properties\": {\n        \"dtype\": \"number\",\n        \"std\": 0,\n        \"min\": 20,\n        \"max\": 20,\n        \"num_unique_values\": 1,\n        \"samples\": [\n          20\n        ],\n        \"semantic_type\": \"\",\n        \"description\": \"\"\n      }\n    },\n    {\n      \"column\": \"slice\",\n      \"properties\": {\n        \"dtype\": \"string\",\n        \"num_unique_values\": 5,\n        \"samples\": [\n          \"0067\"\n        ],\n        \"semantic_type\": \"\",\n        \"description\": \"\"\n      }\n    },\n    {\n      \"column\": \"width\",\n      \"properties\": {\n        \"dtype\": \"number\",\n        \"std\": 0,\n        \"min\": 266,\n        \"max\": 266,\n        \"num_unique_values\": 1,\n        \"samples\": [\n          266\n        ],\n        \"semantic_type\": \"\",\n        \"description\": \"\"\n      }\n    },\n    {\n      \"column\": \"height\",\n      \"properties\": {\n        \"dtype\": \"number\",\n        \"std\": 0,\n        \"min\": 266,\n        \"max\": 266,\n        \"num_unique_values\": 1,\n        \"samples\": [\n          266\n        ],\n        \"semantic_type\": \"\",\n        \"description\": \"\"\n      }\n    },\n    {\n      \"column\": \"counts\",\n      \"properties\": {\n        \"dtype\": \"number\",\n        \"std\": 0,\n        \"min\": 1,\n        \"max\": 1,\n        \"num_unique_values\": 1,\n        \"samples\": [\n          1\n        ],\n        \"semantic_type\": \"\",\n        \"description\": \"\"\n      }\n    }\n  ]\n}"
            }
          },
          "metadata": {}
        },
        {
          "output_type": "execute_result",
          "data": {
            "text/plain": [
              "array([1, 2, 3])"
            ]
          },
          "metadata": {},
          "execution_count": 16
        }
      ]
    },
    {
      "cell_type": "markdown",
      "source": [
        "### create train, valid and test subset"
      ],
      "metadata": {
        "id": "m01CFHJa5bU2"
      }
    },
    {
      "cell_type": "code",
      "source": [
        "print(dataset_path)"
      ],
      "metadata": {
        "id": "EI3fJW7B9sEh",
        "colab": {
          "base_uri": "https://localhost:8080/"
        },
        "outputId": "62d17bce-0a20-45b1-8404-0d9884161b9a"
      },
      "execution_count": 17,
      "outputs": [
        {
          "output_type": "stream",
          "name": "stdout",
          "text": [
            "/content/drive/MyDrive/Catalist/3_medical image segmentation/dataset/\n"
          ]
        }
      ]
    },
    {
      "cell_type": "code",
      "source": [
        "train_cases= open(os.path.join(dataset_path, 'train.txt')).read().replace('case', '').split('\\n')\n",
        "valid_cases= open(os.path.join(dataset_path, 'validation.txt')).read().replace('case', '').split('\\n')\n",
        "test_cases= open(os.path.join(dataset_path, 'test.txt')).read().replace('case', '').split('\\n')"
      ],
      "metadata": {
        "id": "C9XWIocr5fSC"
      },
      "execution_count": 18,
      "outputs": []
    },
    {
      "cell_type": "code",
      "source": [
        "df_train= df[df['case'].isin(train_cases)]\n",
        "df_valid= df[df['case'].isin(valid_cases)]\n",
        "df_test= df[df['case'].isin(test_cases)]\n",
        "\n",
        "display(df_train.head())\n",
        "df_train.shape"
      ],
      "metadata": {
        "id": "ZD3DWYcb50g7",
        "colab": {
          "base_uri": "https://localhost:8080/",
          "height": 697
        },
        "outputId": "9f4bd771-a508-4e26-b91e-ceaad2103030"
      },
      "execution_count": 19,
      "outputs": [
        {
          "output_type": "display_data",
          "data": {
            "text/plain": [
              "                         id large_bowel small_bowel  \\\n",
              "0  case101_day20_slice_0066                           \n",
              "1  case101_day20_slice_0067                           \n",
              "2  case101_day20_slice_0068                           \n",
              "3  case101_day20_slice_0069                           \n",
              "4  case101_day20_slice_0070                           \n",
              "\n",
              "                                             stomach  \\\n",
              "0  32107 5 32371 10 32635 13 32900 15 33165 17 33...   \n",
              "1  31313 2 31577 7 31841 10 32105 14 32369 17 326...   \n",
              "2  30517 2 30781 6 31046 9 31311 11 31575 15 3184...   \n",
              "3  29981 10 30246 13 30511 16 30776 19 31041 21 3...   \n",
              "4  28918 9 29182 14 29446 18 29711 21 29976 23 30...   \n",
              "\n",
              "                                                path case  day slice  width  \\\n",
              "0  /content/dataset/train/case101/case101_day20/s...  101   20  0066    266   \n",
              "1  /content/dataset/train/case101/case101_day20/s...  101   20  0067    266   \n",
              "2  /content/dataset/train/case101/case101_day20/s...  101   20  0068    266   \n",
              "3  /content/dataset/train/case101/case101_day20/s...  101   20  0069    266   \n",
              "4  /content/dataset/train/case101/case101_day20/s...  101   20  0070    266   \n",
              "\n",
              "   height  counts  \n",
              "0     266       1  \n",
              "1     266       1  \n",
              "2     266       1  \n",
              "3     266       1  \n",
              "4     266       1  "
            ],
            "text/html": [
              "\n",
              "  <div id=\"df-bb8b2119-ac82-488b-b08e-e2c865501e1d\" class=\"colab-df-container\">\n",
              "    <div>\n",
              "<style scoped>\n",
              "    .dataframe tbody tr th:only-of-type {\n",
              "        vertical-align: middle;\n",
              "    }\n",
              "\n",
              "    .dataframe tbody tr th {\n",
              "        vertical-align: top;\n",
              "    }\n",
              "\n",
              "    .dataframe thead th {\n",
              "        text-align: right;\n",
              "    }\n",
              "</style>\n",
              "<table border=\"1\" class=\"dataframe\">\n",
              "  <thead>\n",
              "    <tr style=\"text-align: right;\">\n",
              "      <th></th>\n",
              "      <th>id</th>\n",
              "      <th>large_bowel</th>\n",
              "      <th>small_bowel</th>\n",
              "      <th>stomach</th>\n",
              "      <th>path</th>\n",
              "      <th>case</th>\n",
              "      <th>day</th>\n",
              "      <th>slice</th>\n",
              "      <th>width</th>\n",
              "      <th>height</th>\n",
              "      <th>counts</th>\n",
              "    </tr>\n",
              "  </thead>\n",
              "  <tbody>\n",
              "    <tr>\n",
              "      <th>0</th>\n",
              "      <td>case101_day20_slice_0066</td>\n",
              "      <td></td>\n",
              "      <td></td>\n",
              "      <td>32107 5 32371 10 32635 13 32900 15 33165 17 33...</td>\n",
              "      <td>/content/dataset/train/case101/case101_day20/s...</td>\n",
              "      <td>101</td>\n",
              "      <td>20</td>\n",
              "      <td>0066</td>\n",
              "      <td>266</td>\n",
              "      <td>266</td>\n",
              "      <td>1</td>\n",
              "    </tr>\n",
              "    <tr>\n",
              "      <th>1</th>\n",
              "      <td>case101_day20_slice_0067</td>\n",
              "      <td></td>\n",
              "      <td></td>\n",
              "      <td>31313 2 31577 7 31841 10 32105 14 32369 17 326...</td>\n",
              "      <td>/content/dataset/train/case101/case101_day20/s...</td>\n",
              "      <td>101</td>\n",
              "      <td>20</td>\n",
              "      <td>0067</td>\n",
              "      <td>266</td>\n",
              "      <td>266</td>\n",
              "      <td>1</td>\n",
              "    </tr>\n",
              "    <tr>\n",
              "      <th>2</th>\n",
              "      <td>case101_day20_slice_0068</td>\n",
              "      <td></td>\n",
              "      <td></td>\n",
              "      <td>30517 2 30781 6 31046 9 31311 11 31575 15 3184...</td>\n",
              "      <td>/content/dataset/train/case101/case101_day20/s...</td>\n",
              "      <td>101</td>\n",
              "      <td>20</td>\n",
              "      <td>0068</td>\n",
              "      <td>266</td>\n",
              "      <td>266</td>\n",
              "      <td>1</td>\n",
              "    </tr>\n",
              "    <tr>\n",
              "      <th>3</th>\n",
              "      <td>case101_day20_slice_0069</td>\n",
              "      <td></td>\n",
              "      <td></td>\n",
              "      <td>29981 10 30246 13 30511 16 30776 19 31041 21 3...</td>\n",
              "      <td>/content/dataset/train/case101/case101_day20/s...</td>\n",
              "      <td>101</td>\n",
              "      <td>20</td>\n",
              "      <td>0069</td>\n",
              "      <td>266</td>\n",
              "      <td>266</td>\n",
              "      <td>1</td>\n",
              "    </tr>\n",
              "    <tr>\n",
              "      <th>4</th>\n",
              "      <td>case101_day20_slice_0070</td>\n",
              "      <td></td>\n",
              "      <td></td>\n",
              "      <td>28918 9 29182 14 29446 18 29711 21 29976 23 30...</td>\n",
              "      <td>/content/dataset/train/case101/case101_day20/s...</td>\n",
              "      <td>101</td>\n",
              "      <td>20</td>\n",
              "      <td>0070</td>\n",
              "      <td>266</td>\n",
              "      <td>266</td>\n",
              "      <td>1</td>\n",
              "    </tr>\n",
              "  </tbody>\n",
              "</table>\n",
              "</div>\n",
              "    <div class=\"colab-df-buttons\">\n",
              "\n",
              "  <div class=\"colab-df-container\">\n",
              "    <button class=\"colab-df-convert\" onclick=\"convertToInteractive('df-bb8b2119-ac82-488b-b08e-e2c865501e1d')\"\n",
              "            title=\"Convert this dataframe to an interactive table.\"\n",
              "            style=\"display:none;\">\n",
              "\n",
              "  <svg xmlns=\"http://www.w3.org/2000/svg\" height=\"24px\" viewBox=\"0 -960 960 960\">\n",
              "    <path d=\"M120-120v-720h720v720H120Zm60-500h600v-160H180v160Zm220 220h160v-160H400v160Zm0 220h160v-160H400v160ZM180-400h160v-160H180v160Zm440 0h160v-160H620v160ZM180-180h160v-160H180v160Zm440 0h160v-160H620v160Z\"/>\n",
              "  </svg>\n",
              "    </button>\n",
              "\n",
              "  <style>\n",
              "    .colab-df-container {\n",
              "      display:flex;\n",
              "      gap: 12px;\n",
              "    }\n",
              "\n",
              "    .colab-df-convert {\n",
              "      background-color: #E8F0FE;\n",
              "      border: none;\n",
              "      border-radius: 50%;\n",
              "      cursor: pointer;\n",
              "      display: none;\n",
              "      fill: #1967D2;\n",
              "      height: 32px;\n",
              "      padding: 0 0 0 0;\n",
              "      width: 32px;\n",
              "    }\n",
              "\n",
              "    .colab-df-convert:hover {\n",
              "      background-color: #E2EBFA;\n",
              "      box-shadow: 0px 1px 2px rgba(60, 64, 67, 0.3), 0px 1px 3px 1px rgba(60, 64, 67, 0.15);\n",
              "      fill: #174EA6;\n",
              "    }\n",
              "\n",
              "    .colab-df-buttons div {\n",
              "      margin-bottom: 4px;\n",
              "    }\n",
              "\n",
              "    [theme=dark] .colab-df-convert {\n",
              "      background-color: #3B4455;\n",
              "      fill: #D2E3FC;\n",
              "    }\n",
              "\n",
              "    [theme=dark] .colab-df-convert:hover {\n",
              "      background-color: #434B5C;\n",
              "      box-shadow: 0px 1px 3px 1px rgba(0, 0, 0, 0.15);\n",
              "      filter: drop-shadow(0px 1px 2px rgba(0, 0, 0, 0.3));\n",
              "      fill: #FFFFFF;\n",
              "    }\n",
              "  </style>\n",
              "\n",
              "    <script>\n",
              "      const buttonEl =\n",
              "        document.querySelector('#df-bb8b2119-ac82-488b-b08e-e2c865501e1d button.colab-df-convert');\n",
              "      buttonEl.style.display =\n",
              "        google.colab.kernel.accessAllowed ? 'block' : 'none';\n",
              "\n",
              "      async function convertToInteractive(key) {\n",
              "        const element = document.querySelector('#df-bb8b2119-ac82-488b-b08e-e2c865501e1d');\n",
              "        const dataTable =\n",
              "          await google.colab.kernel.invokeFunction('convertToInteractive',\n",
              "                                                    [key], {});\n",
              "        if (!dataTable) return;\n",
              "\n",
              "        const docLinkHtml = 'Like what you see? Visit the ' +\n",
              "          '<a target=\"_blank\" href=https://colab.research.google.com/notebooks/data_table.ipynb>data table notebook</a>'\n",
              "          + ' to learn more about interactive tables.';\n",
              "        element.innerHTML = '';\n",
              "        dataTable['output_type'] = 'display_data';\n",
              "        await google.colab.output.renderOutput(dataTable, element);\n",
              "        const docLink = document.createElement('div');\n",
              "        docLink.innerHTML = docLinkHtml;\n",
              "        element.appendChild(docLink);\n",
              "      }\n",
              "    </script>\n",
              "  </div>\n",
              "\n",
              "\n",
              "<div id=\"df-893fef0a-65b1-412f-98d3-6d8bf857e0f2\">\n",
              "  <button class=\"colab-df-quickchart\" onclick=\"quickchart('df-893fef0a-65b1-412f-98d3-6d8bf857e0f2')\"\n",
              "            title=\"Suggest charts\"\n",
              "            style=\"display:none;\">\n",
              "\n",
              "<svg xmlns=\"http://www.w3.org/2000/svg\" height=\"24px\"viewBox=\"0 0 24 24\"\n",
              "     width=\"24px\">\n",
              "    <g>\n",
              "        <path d=\"M19 3H5c-1.1 0-2 .9-2 2v14c0 1.1.9 2 2 2h14c1.1 0 2-.9 2-2V5c0-1.1-.9-2-2-2zM9 17H7v-7h2v7zm4 0h-2V7h2v10zm4 0h-2v-4h2v4z\"/>\n",
              "    </g>\n",
              "</svg>\n",
              "  </button>\n",
              "\n",
              "<style>\n",
              "  .colab-df-quickchart {\n",
              "      --bg-color: #E8F0FE;\n",
              "      --fill-color: #1967D2;\n",
              "      --hover-bg-color: #E2EBFA;\n",
              "      --hover-fill-color: #174EA6;\n",
              "      --disabled-fill-color: #AAA;\n",
              "      --disabled-bg-color: #DDD;\n",
              "  }\n",
              "\n",
              "  [theme=dark] .colab-df-quickchart {\n",
              "      --bg-color: #3B4455;\n",
              "      --fill-color: #D2E3FC;\n",
              "      --hover-bg-color: #434B5C;\n",
              "      --hover-fill-color: #FFFFFF;\n",
              "      --disabled-bg-color: #3B4455;\n",
              "      --disabled-fill-color: #666;\n",
              "  }\n",
              "\n",
              "  .colab-df-quickchart {\n",
              "    background-color: var(--bg-color);\n",
              "    border: none;\n",
              "    border-radius: 50%;\n",
              "    cursor: pointer;\n",
              "    display: none;\n",
              "    fill: var(--fill-color);\n",
              "    height: 32px;\n",
              "    padding: 0;\n",
              "    width: 32px;\n",
              "  }\n",
              "\n",
              "  .colab-df-quickchart:hover {\n",
              "    background-color: var(--hover-bg-color);\n",
              "    box-shadow: 0 1px 2px rgba(60, 64, 67, 0.3), 0 1px 3px 1px rgba(60, 64, 67, 0.15);\n",
              "    fill: var(--button-hover-fill-color);\n",
              "  }\n",
              "\n",
              "  .colab-df-quickchart-complete:disabled,\n",
              "  .colab-df-quickchart-complete:disabled:hover {\n",
              "    background-color: var(--disabled-bg-color);\n",
              "    fill: var(--disabled-fill-color);\n",
              "    box-shadow: none;\n",
              "  }\n",
              "\n",
              "  .colab-df-spinner {\n",
              "    border: 2px solid var(--fill-color);\n",
              "    border-color: transparent;\n",
              "    border-bottom-color: var(--fill-color);\n",
              "    animation:\n",
              "      spin 1s steps(1) infinite;\n",
              "  }\n",
              "\n",
              "  @keyframes spin {\n",
              "    0% {\n",
              "      border-color: transparent;\n",
              "      border-bottom-color: var(--fill-color);\n",
              "      border-left-color: var(--fill-color);\n",
              "    }\n",
              "    20% {\n",
              "      border-color: transparent;\n",
              "      border-left-color: var(--fill-color);\n",
              "      border-top-color: var(--fill-color);\n",
              "    }\n",
              "    30% {\n",
              "      border-color: transparent;\n",
              "      border-left-color: var(--fill-color);\n",
              "      border-top-color: var(--fill-color);\n",
              "      border-right-color: var(--fill-color);\n",
              "    }\n",
              "    40% {\n",
              "      border-color: transparent;\n",
              "      border-right-color: var(--fill-color);\n",
              "      border-top-color: var(--fill-color);\n",
              "    }\n",
              "    60% {\n",
              "      border-color: transparent;\n",
              "      border-right-color: var(--fill-color);\n",
              "    }\n",
              "    80% {\n",
              "      border-color: transparent;\n",
              "      border-right-color: var(--fill-color);\n",
              "      border-bottom-color: var(--fill-color);\n",
              "    }\n",
              "    90% {\n",
              "      border-color: transparent;\n",
              "      border-bottom-color: var(--fill-color);\n",
              "    }\n",
              "  }\n",
              "</style>\n",
              "\n",
              "  <script>\n",
              "    async function quickchart(key) {\n",
              "      const quickchartButtonEl =\n",
              "        document.querySelector('#' + key + ' button');\n",
              "      quickchartButtonEl.disabled = true;  // To prevent multiple clicks.\n",
              "      quickchartButtonEl.classList.add('colab-df-spinner');\n",
              "      try {\n",
              "        const charts = await google.colab.kernel.invokeFunction(\n",
              "            'suggestCharts', [key], {});\n",
              "      } catch (error) {\n",
              "        console.error('Error during call to suggestCharts:', error);\n",
              "      }\n",
              "      quickchartButtonEl.classList.remove('colab-df-spinner');\n",
              "      quickchartButtonEl.classList.add('colab-df-quickchart-complete');\n",
              "    }\n",
              "    (() => {\n",
              "      let quickchartButtonEl =\n",
              "        document.querySelector('#df-893fef0a-65b1-412f-98d3-6d8bf857e0f2 button');\n",
              "      quickchartButtonEl.style.display =\n",
              "        google.colab.kernel.accessAllowed ? 'block' : 'none';\n",
              "    })();\n",
              "  </script>\n",
              "</div>\n",
              "    </div>\n",
              "  </div>\n"
            ],
            "application/vnd.google.colaboratory.intrinsic+json": {
              "type": "dataframe",
              "summary": "{\n  \"name\": \"df_train\",\n  \"rows\": 5,\n  \"fields\": [\n    {\n      \"column\": \"id\",\n      \"properties\": {\n        \"dtype\": \"string\",\n        \"num_unique_values\": 5,\n        \"samples\": [\n          \"case101_day20_slice_0067\",\n          \"case101_day20_slice_0070\",\n          \"case101_day20_slice_0068\"\n        ],\n        \"semantic_type\": \"\",\n        \"description\": \"\"\n      }\n    },\n    {\n      \"column\": \"large_bowel\",\n      \"properties\": {\n        \"dtype\": \"object\",\n        \"num_unique_values\": 1,\n        \"samples\": [\n          \"\"\n        ],\n        \"semantic_type\": \"\",\n        \"description\": \"\"\n      }\n    },\n    {\n      \"column\": \"small_bowel\",\n      \"properties\": {\n        \"dtype\": \"object\",\n        \"num_unique_values\": 1,\n        \"samples\": [\n          \"\"\n        ],\n        \"semantic_type\": \"\",\n        \"description\": \"\"\n      }\n    },\n    {\n      \"column\": \"stomach\",\n      \"properties\": {\n        \"dtype\": \"string\",\n        \"num_unique_values\": 5,\n        \"samples\": [\n          \"31313 2 31577 7 31841 10 32105 14 32369 17 32633 20 32898 23 33164 24 33429 26 33695 26 33961 27 34227 27 34493 27 34759 27 35026 26 35292 26 35559 25 35825 25 36092 24 36358 23 36625 22 36891 21 37157 21 37424 19 37690 19 37956 18 38223 16 38490 14 38757 12 39024 10 39293 4\"\n        ],\n        \"semantic_type\": \"\",\n        \"description\": \"\"\n      }\n    },\n    {\n      \"column\": \"path\",\n      \"properties\": {\n        \"dtype\": \"string\",\n        \"num_unique_values\": 5,\n        \"samples\": [\n          \"/content/dataset/train/case101/case101_day20/scans/slice_0067_266_266_1.50_1.50.png\"\n        ],\n        \"semantic_type\": \"\",\n        \"description\": \"\"\n      }\n    },\n    {\n      \"column\": \"case\",\n      \"properties\": {\n        \"dtype\": \"category\",\n        \"num_unique_values\": 1,\n        \"samples\": [\n          \"101\"\n        ],\n        \"semantic_type\": \"\",\n        \"description\": \"\"\n      }\n    },\n    {\n      \"column\": \"day\",\n      \"properties\": {\n        \"dtype\": \"number\",\n        \"std\": 0,\n        \"min\": 20,\n        \"max\": 20,\n        \"num_unique_values\": 1,\n        \"samples\": [\n          20\n        ],\n        \"semantic_type\": \"\",\n        \"description\": \"\"\n      }\n    },\n    {\n      \"column\": \"slice\",\n      \"properties\": {\n        \"dtype\": \"string\",\n        \"num_unique_values\": 5,\n        \"samples\": [\n          \"0067\"\n        ],\n        \"semantic_type\": \"\",\n        \"description\": \"\"\n      }\n    },\n    {\n      \"column\": \"width\",\n      \"properties\": {\n        \"dtype\": \"number\",\n        \"std\": 0,\n        \"min\": 266,\n        \"max\": 266,\n        \"num_unique_values\": 1,\n        \"samples\": [\n          266\n        ],\n        \"semantic_type\": \"\",\n        \"description\": \"\"\n      }\n    },\n    {\n      \"column\": \"height\",\n      \"properties\": {\n        \"dtype\": \"number\",\n        \"std\": 0,\n        \"min\": 266,\n        \"max\": 266,\n        \"num_unique_values\": 1,\n        \"samples\": [\n          266\n        ],\n        \"semantic_type\": \"\",\n        \"description\": \"\"\n      }\n    },\n    {\n      \"column\": \"counts\",\n      \"properties\": {\n        \"dtype\": \"number\",\n        \"std\": 0,\n        \"min\": 1,\n        \"max\": 1,\n        \"num_unique_values\": 1,\n        \"samples\": [\n          1\n        ],\n        \"semantic_type\": \"\",\n        \"description\": \"\"\n      }\n    }\n  ]\n}"
            }
          },
          "metadata": {}
        },
        {
          "output_type": "execute_result",
          "data": {
            "text/plain": [
              "(12030, 11)"
            ]
          },
          "metadata": {},
          "execution_count": 19
        }
      ]
    },
    {
      "cell_type": "code",
      "source": [
        "df_train.to_csv(os.path.join(root_path, 'train-subset.csv'), index= False)\n",
        "df_valid.to_csv(os.path.join(root_path, 'valid-subset.csv'), index= False)\n",
        "df_test.to_csv(os.path.join(root_path, 'test-subset.csv'), index= False)"
      ],
      "metadata": {
        "id": "QrrtCeOX-Vvn"
      },
      "execution_count": 20,
      "outputs": []
    },
    {
      "cell_type": "markdown",
      "source": [
        "------------"
      ],
      "metadata": {
        "id": "PRe0yuoO6H2f"
      }
    },
    {
      "cell_type": "markdown",
      "source": [
        "## 3_3. EDA"
      ],
      "metadata": {
        "id": "HCx4oj5A6Jbw"
      }
    },
    {
      "cell_type": "code",
      "source": [
        "df_train= pd.read_csv(f'{root_path}train-subset.csv')"
      ],
      "metadata": {
        "id": "hwHY87B4DVAX"
      },
      "execution_count": 21,
      "outputs": []
    },
    {
      "cell_type": "markdown",
      "source": [
        "### show random sample"
      ],
      "metadata": {
        "id": "k61opERnDJ48"
      }
    },
    {
      "cell_type": "code",
      "source": [
        "def rle_decode(img_size, segments):\n",
        "  mask= torch.zeros(3, img_size[0] * img_size[1], dtype= torch.float32)\n",
        "  for i, segment in enumerate(segments):\n",
        "    if str(segment) != 'nan':\n",
        "      segment= segment.split()\n",
        "      starts= np.array(segment[::2], dtype= np.int32) - 1\n",
        "      ends= starts + np.array(segment[1::2], dtype= np.int32)\n",
        "      for s, e in zip(starts, ends):\n",
        "        mask[i, s:e]= 1\n",
        "  return mask.reshape((3, img_size[0], img_size[1]))"
      ],
      "metadata": {
        "id": "v9W14qsJDfYa"
      },
      "execution_count": 22,
      "outputs": []
    },
    {
      "cell_type": "code",
      "source": [
        "image_transform= transforms.Compose([transforms.Resize((224, 224)),\n",
        "                                     transforms.ToTensor(),\n",
        "                                     transforms.Lambda(lambda x: (x - x.min()) / (x.max() - x.min())),\n",
        "                                     transforms.Lambda(lambda x: x.repeat(3, 1, 1))])\n",
        "\n",
        "mask_transform= transforms.Compose([transforms.Resize((224, 224))])"
      ],
      "metadata": {
        "id": "cx9IGa6M6Ih7"
      },
      "execution_count": 23,
      "outputs": []
    },
    {
      "cell_type": "code",
      "source": [
        "item= random.randint(0, df_train.shape[0])\n",
        "sample= df_train.iloc[item]\n",
        "\n",
        "img= Image.open(sample['path'])\n",
        "mask= rle_decode(img.size[::-1], sample[['large_bowel', 'small_bowel', 'stomach']])\n",
        "\n",
        "img= image_transform(img)\n",
        "mask= mask_transform(mask)\n",
        "\n",
        "plt.imshow(img.permute(1, 2, 0), cmap= 'gray')\n",
        "plt.imshow(mask.permute(1, 2, 0), alpha= 0.5)\n",
        "print('red: large_bowel, green: small_bowel, blue: stomach');"
      ],
      "metadata": {
        "id": "8fmaxeSVEz4E",
        "colab": {
          "base_uri": "https://localhost:8080/",
          "height": 452
        },
        "outputId": "7b687399-ab5d-42e9-e8db-09fb3168b509"
      },
      "execution_count": 24,
      "outputs": [
        {
          "output_type": "stream",
          "name": "stdout",
          "text": [
            "red: large_bowel, green: small_bowel, blue: stomach\n"
          ]
        },
        {
          "output_type": "display_data",
          "data": {
            "text/plain": [
              "<Figure size 640x480 with 1 Axes>"
            ],
            "image/png": "[encoded data removed]"
          },
          "metadata": {}
        }
      ]
    },
    {
      "cell_type": "markdown",
      "source": [
        "### size of images histogram"
      ],
      "metadata": {
        "id": "y0_KOLXmFUIi"
      }
    },
    {
      "cell_type": "code",
      "source": [
        "img_sizes= df_train['height'].apply(lambda x: str(x)) + 'x' + df_train['width'].apply(lambda x: str(x))\n",
        "img_sizes.value_counts().plot(kind= 'bar');"
      ],
      "metadata": {
        "id": "XusjaSQ6Fmuy",
        "colab": {
          "base_uri": "https://localhost:8080/",
          "height": 54
        },
        "outputId": "473d642f-a963-4172-d362-618ada5550b1"
      },
      "execution_count": 25,
      "outputs": [
        {
          "output_type": "display_data",
          "data": {
            "text/plain": [
              "<Figure size 640x480 with 1 Axes>"
            ],
            "image/png": "[encoded data removed]"
          },
          "metadata": {}
        }
      ]
    },
    {
      "cell_type": "markdown",
      "source": [
        "### RAM consumption"
      ],
      "metadata": {
        "id": "KvPDYNzbGEj5"
      }
    },
    {
      "cell_type": "code",
      "source": [
        "total_nbytes= 0\n",
        "for path in df_train['path']:\n",
        "  img= cv2.imread(path)\n",
        "  total_nbytes += img.nbytes\n",
        "print(f'{total_nbytes/1e6:,.0f} Mb')"
      ],
      "metadata": {
        "id": "AjkHYLK_GMK7",
        "colab": {
          "base_uri": "https://localhost:8080/"
        },
        "outputId": "f9180512-c808-47f4-85a6-8a728dc34ca1"
      },
      "execution_count": 26,
      "outputs": [
        {
          "output_type": "stream",
          "name": "stdout",
          "text": [
            "3,016 Mb\n"
          ]
        }
      ]
    },
    {
      "cell_type": "markdown",
      "source": [
        "------------"
      ],
      "metadata": {
        "id": "CK0sw7DyGiBb"
      }
    },
    {
      "cell_type": "markdown",
      "source": [
        "# 04_Costum Dataset"
      ],
      "metadata": {
        "id": "PVuJnmBkGjcG"
      }
    },
    {
      "cell_type": "code",
      "source": [
        "def rle_decode(img_size, segments):\n",
        "  mask= torch.zeros(3, img_size[0] * img_size[1], dtype= torch.int32)\n",
        "  for i, segment in enumerate(segments):\n",
        "    if str(segment) != 'nan':\n",
        "      segment= segment.split()\n",
        "      starts= np.array(segment[::2], dtype= np.int32) - 1\n",
        "      ends= starts + np.array(segment[1::2], dtype= np.int32)\n",
        "      for s, e in zip(starts, ends):\n",
        "        mask[i, s:e]= 1\n",
        "  return mask.reshape((3, img_size[0], img_size[1]))"
      ],
      "metadata": {
        "id": "lzQWUozLfy5u"
      },
      "execution_count": 27,
      "outputs": []
    },
    {
      "cell_type": "code",
      "source": [
        "class UWMadisonDataset(VisionDataset):\n",
        "\n",
        "    def __init__(self, root: str, csv_file: str,\n",
        "                 transforms: Optional[Callable]= None,\n",
        "                 memory: Optional[bool]= False):\n",
        "\n",
        "        super().__init__(root, transforms= transforms)\n",
        "        self.df= pd.read_csv(os.path.join(root, csv_file))\n",
        "        self.classes= ['large_bowel', 'small_bowel', 'stomach']\n",
        "        self.memory= memory\n",
        "        if memory: self._save_memory()\n",
        "\n",
        "    def _save_memory(self):\n",
        "      self.imgs= []\n",
        "      for path in self.df['path']:\n",
        "        self.imgs.append(self._load_image(path))\n",
        "\n",
        "    def _load_image(self, path):\n",
        "      img= cv2.imread(path, cv2.IMREAD_UNCHANGED)\n",
        "      img= self._minmax_scaler(img)\n",
        "      return tv_tensors.Image(img)\n",
        "\n",
        "    def _minmax_scaler(self, x):\n",
        "      return np.array((x - x.min()) / (x.max() - x.min()), dtype= np.float32)\n",
        "\n",
        "    def __getitem__(self, item):\n",
        "        sample= self.df.iloc[item]\n",
        "        img= self.imgs[item] if self.memory else self._load_image(sample['path'])\n",
        "        mask= rle_decode(img.shape[1::], sample[self.classes])\n",
        "        mask= tv_tensors.Mask(mask)\n",
        "        img, mask= self.transforms(img, mask)\n",
        "        return img, mask.int()\n",
        "\n",
        "    def __len__(self):\n",
        "        return self.df.shape[0]"
      ],
      "metadata": {
        "id": "GhUiHSyLGipO"
      },
      "execution_count": 28,
      "outputs": []
    },
    {
      "cell_type": "markdown",
      "source": [
        "### transform"
      ],
      "metadata": {
        "id": "5NtsOq6IhELU"
      }
    },
    {
      "cell_type": "code",
      "source": [
        "transform_train= v2.Compose([\n",
        "    v2.Resize(size= (234,), antialias= True),\n",
        "    v2.RandomCrop(size= (224, 224)),\n",
        "    v2.RandomPhotometricDistort(p= 0.5),\n",
        "    v2.RandomHorizontalFlip(p= 0.5),\n",
        "    v2.Lambda(lambda x: (x - x.min()) / (x.max() - x.min())),\n",
        "    v2.Normalize(mean= (0.5,), std= (0.5,)),\n",
        "    v2.Lambda(lambda x: x.repeat(3, 1, 1)),\n",
        "    ])\n",
        "\n",
        "transform_eval= v2.Compose([\n",
        "    v2.Resize(size= (224, 224), antialias= True),\n",
        "    v2.Lambda(lambda x: (x - x.min()) / (x.max() - x.min())),\n",
        "    v2.Normalize(mean= (0.5,), std= (0.5,)),\n",
        "    v2.Lambda(lambda x: x.repeat(3, 1, 1)),\n",
        "    ])"
      ],
      "metadata": {
        "id": "IleG3PoWhFy6"
      },
      "execution_count": 29,
      "outputs": []
    },
    {
      "cell_type": "markdown",
      "source": [
        "### dataset"
      ],
      "metadata": {
        "id": "-iutWC_6hY4m"
      }
    },
    {
      "cell_type": "code",
      "source": [
        "train_set= UWMadisonDataset(root_path, 'train-subset.csv',\n",
        "                            transforms=transform_train, memory= True)\n",
        "valid_set= UWMadisonDataset(root_path, 'valid-subset.csv',\n",
        "                            transforms=transform_eval, memory= True)\n",
        "test_set= UWMadisonDataset(root_path, 'test-subset.csv',\n",
        "                           transforms=transform_eval)\n",
        "\n",
        "len(train_set), len(valid_set), len(test_set)"
      ],
      "metadata": {
        "id": "oy0jENfdhaHK",
        "colab": {
          "base_uri": "https://localhost:8080/"
        },
        "outputId": "9f7fa351-3126-45fa-d2eb-f9ca8192b74d"
      },
      "execution_count": 30,
      "outputs": [
        {
          "output_type": "execute_result",
          "data": {
            "text/plain": [
              "(12030, 1493, 3067)"
            ]
          },
          "metadata": {},
          "execution_count": 30
        }
      ]
    },
    {
      "cell_type": "markdown",
      "source": [
        "### show random samples"
      ],
      "metadata": {
        "id": "yyAM5-Jqh0F6"
      }
    },
    {
      "cell_type": "code",
      "source": [
        "item= random.randint(0, len(train_set))\n",
        "img, mask= train_set[item]\n",
        "print(img.shape, mask.shape, [img.min().item(), img.max().item()], mask.unique())\n",
        "\n",
        "plt.imshow(img[0], cmap= 'gray')\n",
        "plt.imshow(mask.permute(1, 2, 0).float(), alpha= 0.3);"
      ],
      "metadata": {
        "id": "R_QDaivwh2Zh",
        "colab": {
          "base_uri": "https://localhost:8080/",
          "height": 73
        },
        "outputId": "18fd9f83-ecf1-4385-f4b7-fad4f12ca515"
      },
      "execution_count": 31,
      "outputs": [
        {
          "output_type": "stream",
          "name": "stdout",
          "text": [
            "torch.Size([3, 224, 224]) torch.Size([3, 224, 224]) [-1.0, 1.0] tensor([0, 1], dtype=torch.int32)\n"
          ]
        },
        {
          "output_type": "display_data",
          "data": {
            "text/plain": [
              "<Figure size 640x480 with 1 Axes>"
            ],
            "image/png": "[encoded data removed]"
          },
          "metadata": {}
        }
      ]
    },
    {
      "cell_type": "code",
      "source": [
        "item= random.randint(0, len(test_set))\n",
        "img, mask= test_set[item]\n",
        "print(img.shape, mask.shape, [img.min().item(), img.max().item()], mask.unique())\n",
        "\n",
        "plt.imshow(img[0], cmap= 'gray')\n",
        "plt.imshow(mask.permute(1, 2, 0).float(), alpha= 0.3);"
      ],
      "metadata": {
        "id": "D2Oe2cHsiBjW",
        "colab": {
          "base_uri": "https://localhost:8080/",
          "height": 73
        },
        "outputId": "4d934d9f-e449-4104-de06-5288ac158786"
      },
      "execution_count": 32,
      "outputs": [
        {
          "output_type": "stream",
          "name": "stdout",
          "text": [
            "torch.Size([3, 224, 224]) torch.Size([3, 224, 224]) [-1.0, 1.0] tensor([0, 1], dtype=torch.int32)\n"
          ]
        },
        {
          "output_type": "display_data",
          "data": {
            "text/plain": [
              "<Figure size 640x480 with 1 Axes>"
            ],
            "image/png": "[encoded data removed]"
          },
          "metadata": {}
        }
      ]
    },
    {
      "cell_type": "markdown",
      "source": [
        "### dataloader"
      ],
      "metadata": {
        "id": "jMaSAIf4iOvl"
      }
    },
    {
      "cell_type": "code",
      "source": [
        "train_loader= DataLoader(train_set, batch_size= batch_size, shuffle= True)\n",
        "valid_loader= DataLoader(valid_set, batch_size= batch_size, shuffle= False)\n",
        "test_loader= DataLoader(test_set, batch_size= batch_size, shuffle= False)"
      ],
      "metadata": {
        "id": "m4-NuJPQiQGS"
      },
      "execution_count": 33,
      "outputs": []
    },
    {
      "cell_type": "code",
      "source": [
        "print(\"train batch size:\",train_loader.batch_size,\n",
        "     \", num of batch:\", len(train_loader))\n",
        "print(\"valid batch size:\",valid_loader.batch_size,\n",
        "     \", num of batch:\", len(valid_loader))\n",
        "print(\"Test batch size:\",test_loader.batch_size,\n",
        "     \", num of batch:\", len(test_loader))"
      ],
      "metadata": {
        "id": "PcEr7r-dilgY",
        "colab": {
          "base_uri": "https://localhost:8080/"
        },
        "outputId": "01c546df-0f3e-41d5-a7e1-13f1ad130468"
      },
      "execution_count": 34,
      "outputs": [
        {
          "output_type": "stream",
          "name": "stdout",
          "text": [
            "train batch size: 32 , num of batch: 376\n",
            "valid batch size: 32 , num of batch: 47\n",
            "Test batch size: 32 , num of batch: 96\n"
          ]
        }
      ]
    },
    {
      "cell_type": "markdown",
      "source": [
        "-----------"
      ],
      "metadata": {
        "id": "HMjWf28zMa7D"
      }
    },
    {
      "cell_type": "markdown",
      "source": [
        "# 05_Model"
      ],
      "metadata": {
        "id": "LgJ1BvMFMb55"
      }
    },
    {
      "cell_type": "code",
      "source": [
        "model= smp.Unet(encoder_name= backbone, encoder_weights= pretrain_weights,\n",
        "                in_channels= image_channels, classes= len(classes)).to(device)\n",
        "model"
      ],
      "metadata": {
        "id": "PcLdsRXhMbfk",
        "colab": {
          "base_uri": "https://localhost:8080/"
        },
        "outputId": "8ef83e0e-790b-4bac-f014-80ec9388a2e4"
      },
      "execution_count": 35,
      "outputs": [
        {
          "output_type": "stream",
          "name": "stderr",
          "text": [
            "Downloading: \"https://github.com/lukemelas/EfficientNet-PyTorch/releases/download/1.0/efficientnet-b1-f1951068.pth\" to /root/.cache/torch/hub/checkpoints/efficientnet-b1-f1951068.pth\n",
            "100%|██████████| 30.1M/30.1M [00:00<00:00, 119MB/s]\n"
          ]
        },
        {
          "output_type": "execute_result",
          "data": {
            "text/plain": [
              "Unet(\n",
              "  (encoder): EfficientNetEncoder(\n",
              "    (_conv_stem): Conv2dStaticSamePadding(\n",
              "      3, 32, kernel_size=(3, 3), stride=(2, 2), bias=False\n",
              "      (static_padding): ZeroPad2d((0, 1, 0, 1))\n",
              "    )\n",
              "    (_bn0): BatchNorm2d(32, eps=0.001, momentum=0.010000000000000009, affine=True, track_running_stats=True)\n",
              "    (_blocks): ModuleList(\n",
              "      (0): MBConvBlock(\n",
              "        (_depthwise_conv): Conv2dStaticSamePadding(\n",
              "          32, 32, kernel_size=(3, 3), stride=[1, 1], groups=32, bias=False\n",
              "          (static_padding): ZeroPad2d((1, 1, 1, 1))\n",
              "        )\n",
              "        (_bn1): BatchNorm2d(32, eps=0.001, momentum=0.010000000000000009, affine=True, track_running_stats=True)\n",
              "        (_se_reduce): Conv2dStaticSamePadding(\n",
              "          32, 8, kernel_size=(1, 1), stride=(1, 1)\n",
              "          (static_padding): Identity()\n",
              "        )\n",
              "        (_se_expand): Conv2dStaticSamePadding(\n",
              "          8, 32, kernel_size=(1, 1), stride=(1, 1)\n",
              "          (static_padding): Identity()\n",
              "        )\n",
              "        (_project_conv): Conv2dStaticSamePadding(\n",
              "          32, 16, kernel_size=(1, 1), stride=(1, 1), bias=False\n",
              "          (static_padding): Identity()\n",
              "        )\n",
              "        (_bn2): BatchNorm2d(16, eps=0.001, momentum=0.010000000000000009, affine=True, track_running_stats=True)\n",
              "        (_swish): MemoryEfficientSwish()\n",
              "      )\n",
              "      (1): MBConvBlock(\n",
              "        (_depthwise_conv): Conv2dStaticSamePadding(\n",
              "          16, 16, kernel_size=(3, 3), stride=(1, 1), groups=16, bias=False\n",
              "          (static_padding): ZeroPad2d((1, 1, 1, 1))\n",
              "        )\n",
              "        (_bn1): BatchNorm2d(16, eps=0.001, momentum=0.010000000000000009, affine=True, track_running_stats=True)\n",
              "        (_se_reduce): Conv2dStaticSamePadding(\n",
              "          16, 4, kernel_size=(1, 1), stride=(1, 1)\n",
              "          (static_padding): Identity()\n",
              "        )\n",
              "        (_se_expand): Conv2dStaticSamePadding(\n",
              "          4, 16, kernel_size=(1, 1), stride=(1, 1)\n",
              "          (static_padding): Identity()\n",
              "        )\n",
              "        (_project_conv): Conv2dStaticSamePadding(\n",
              "          16, 16, kernel_size=(1, 1), stride=(1, 1), bias=False\n",
              "          (static_padding): Identity()\n",
              "        )\n",
              "        (_bn2): BatchNorm2d(16, eps=0.001, momentum=0.010000000000000009, affine=True, track_running_stats=True)\n",
              "        (_swish): MemoryEfficientSwish()\n",
              "      )\n",
              "      (2): MBConvBlock(\n",
              "        (_expand_conv): Conv2dStaticSamePadding(\n",
              "          16, 96, kernel_size=(1, 1), stride=(1, 1), bias=False\n",
              "          (static_padding): Identity()\n",
              "        )\n",
              "        (_bn0): BatchNorm2d(96, eps=0.001, momentum=0.010000000000000009, affine=True, track_running_stats=True)\n",
              "        (_depthwise_conv): Conv2dStaticSamePadding(\n",
              "          96, 96, kernel_size=(3, 3), stride=[2, 2], groups=96, bias=False\n",
              "          (static_padding): ZeroPad2d((0, 1, 0, 1))\n",
              "        )\n",
              "        (_bn1): BatchNorm2d(96, eps=0.001, momentum=0.010000000000000009, affine=True, track_running_stats=True)\n",
              "        (_se_reduce): Conv2dStaticSamePadding(\n",
              "          96, 4, kernel_size=(1, 1), stride=(1, 1)\n",
              "          (static_padding): Identity()\n",
              "        )\n",
              "        (_se_expand): Conv2dStaticSamePadding(\n",
              "          4, 96, kernel_size=(1, 1), stride=(1, 1)\n",
              "          (static_padding): Identity()\n",
              "        )\n",
              "        (_project_conv): Conv2dStaticSamePadding(\n",
              "          96, 24, kernel_size=(1, 1), stride=(1, 1), bias=False\n",
              "          (static_padding): Identity()\n",
              "        )\n",
              "        (_bn2): BatchNorm2d(24, eps=0.001, momentum=0.010000000000000009, affine=True, track_running_stats=True)\n",
              "        (_swish): MemoryEfficientSwish()\n",
              "      )\n",
              "      (3-4): 2 x MBConvBlock(\n",
              "        (_expand_conv): Conv2dStaticSamePadding(\n",
              "          24, 144, kernel_size=(1, 1), stride=(1, 1), bias=False\n",
              "          (static_padding): Identity()\n",
              "        )\n",
              "        (_bn0): BatchNorm2d(144, eps=0.001, momentum=0.010000000000000009, affine=True, track_running_stats=True)\n",
              "        (_depthwise_conv): Conv2dStaticSamePadding(\n",
              "          144, 144, kernel_size=(3, 3), stride=(1, 1), groups=144, bias=False\n",
              "          (static_padding): ZeroPad2d((1, 1, 1, 1))\n",
              "        )\n",
              "        (_bn1): BatchNorm2d(144, eps=0.001, momentum=0.010000000000000009, affine=True, track_running_stats=True)\n",
              "        (_se_reduce): Conv2dStaticSamePadding(\n",
              "          144, 6, kernel_size=(1, 1), stride=(1, 1)\n",
              "          (static_padding): Identity()\n",
              "        )\n",
              "        (_se_expand): Conv2dStaticSamePadding(\n",
              "          6, 144, kernel_size=(1, 1), stride=(1, 1)\n",
              "          (static_padding): Identity()\n",
              "        )\n",
              "        (_project_conv): Conv2dStaticSamePadding(\n",
              "          144, 24, kernel_size=(1, 1), stride=(1, 1), bias=False\n",
              "          (static_padding): Identity()\n",
              "        )\n",
              "        (_bn2): BatchNorm2d(24, eps=0.001, momentum=0.010000000000000009, affine=True, track_running_stats=True)\n",
              "        (_swish): MemoryEfficientSwish()\n",
              "      )\n",
              "      (5): MBConvBlock(\n",
              "        (_expand_conv): Conv2dStaticSamePadding(\n",
              "          24, 144, kernel_size=(1, 1), stride=(1, 1), bias=False\n",
              "          (static_padding): Identity()\n",
              "        )\n",
              "        (_bn0): BatchNorm2d(144, eps=0.001, momentum=0.010000000000000009, affine=True, track_running_stats=True)\n",
              "        (_depthwise_conv): Conv2dStaticSamePadding(\n",
              "          144, 144, kernel_size=(5, 5), stride=[2, 2], groups=144, bias=False\n",
              "          (static_padding): ZeroPad2d((1, 2, 1, 2))\n",
              "        )\n",
              "        (_bn1): BatchNorm2d(144, eps=0.001, momentum=0.010000000000000009, affine=True, track_running_stats=True)\n",
              "        (_se_reduce): Conv2dStaticSamePadding(\n",
              "          144, 6, kernel_size=(1, 1), stride=(1, 1)\n",
              "          (static_padding): Identity()\n",
              "        )\n",
              "        (_se_expand): Conv2dStaticSamePadding(\n",
              "          6, 144, kernel_size=(1, 1), stride=(1, 1)\n",
              "          (static_padding): Identity()\n",
              "        )\n",
              "        (_project_conv): Conv2dStaticSamePadding(\n",
              "          144, 40, kernel_size=(1, 1), stride=(1, 1), bias=False\n",
              "          (static_padding): Identity()\n",
              "        )\n",
              "        (_bn2): BatchNorm2d(40, eps=0.001, momentum=0.010000000000000009, affine=True, track_running_stats=True)\n",
              "        (_swish): MemoryEfficientSwish()\n",
              "      )\n",
              "      (6-7): 2 x MBConvBlock(\n",
              "        (_expand_conv): Conv2dStaticSamePadding(\n",
              "          40, 240, kernel_size=(1, 1), stride=(1, 1), bias=False\n",
              "          (static_padding): Identity()\n",
              "        )\n",
              "        (_bn0): BatchNorm2d(240, eps=0.001, momentum=0.010000000000000009, affine=True, track_running_stats=True)\n",
              "        (_depthwise_conv): Conv2dStaticSamePadding(\n",
              "          240, 240, kernel_size=(5, 5), stride=(1, 1), groups=240, bias=False\n",
              "          (static_padding): ZeroPad2d((2, 2, 2, 2))\n",
              "        )\n",
              "        (_bn1): BatchNorm2d(240, eps=0.001, momentum=0.010000000000000009, affine=True, track_running_stats=True)\n",
              "        (_se_reduce): Conv2dStaticSamePadding(\n",
              "          240, 10, kernel_size=(1, 1), stride=(1, 1)\n",
              "          (static_padding): Identity()\n",
              "        )\n",
              "        (_se_expand): Conv2dStaticSamePadding(\n",
              "          10, 240, kernel_size=(1, 1), stride=(1, 1)\n",
              "          (static_padding): Identity()\n",
              "        )\n",
              "        (_project_conv): Conv2dStaticSamePadding(\n",
              "          240, 40, kernel_size=(1, 1), stride=(1, 1), bias=False\n",
              "          (static_padding): Identity()\n",
              "        )\n",
              "        (_bn2): BatchNorm2d(40, eps=0.001, momentum=0.010000000000000009, affine=True, track_running_stats=True)\n",
              "        (_swish): MemoryEfficientSwish()\n",
              "      )\n",
              "      (8): MBConvBlock(\n",
              "        (_expand_conv): Conv2dStaticSamePadding(\n",
              "          40, 240, kernel_size=(1, 1), stride=(1, 1), bias=False\n",
              "          (static_padding): Identity()\n",
              "        )\n",
              "        (_bn0): BatchNorm2d(240, eps=0.001, momentum=0.010000000000000009, affine=True, track_running_stats=True)\n",
              "        (_depthwise_conv): Conv2dStaticSamePadding(\n",
              "          240, 240, kernel_size=(3, 3), stride=[2, 2], groups=240, bias=False\n",
              "          (static_padding): ZeroPad2d((0, 1, 0, 1))\n",
              "        )\n",
              "        (_bn1): BatchNorm2d(240, eps=0.001, momentum=0.010000000000000009, affine=True, track_running_stats=True)\n",
              "        (_se_reduce): Conv2dStaticSamePadding(\n",
              "          240, 10, kernel_size=(1, 1), stride=(1, 1)\n",
              "          (static_padding): Identity()\n",
              "        )\n",
              "        (_se_expand): Conv2dStaticSamePadding(\n",
              "          10, 240, kernel_size=(1, 1), stride=(1, 1)\n",
              "          (static_padding): Identity()\n",
              "        )\n",
              "        (_project_conv): Conv2dStaticSamePadding(\n",
              "          240, 80, kernel_size=(1, 1), stride=(1, 1), bias=False\n",
              "          (static_padding): Identity()\n",
              "        )\n",
              "        (_bn2): BatchNorm2d(80, eps=0.001, momentum=0.010000000000000009, affine=True, track_running_stats=True)\n",
              "        (_swish): MemoryEfficientSwish()\n",
              "      )\n",
              "      (9-11): 3 x MBConvBlock(\n",
              "        (_expand_conv): Conv2dStaticSamePadding(\n",
              "          80, 480, kernel_size=(1, 1), stride=(1, 1), bias=False\n",
              "          (static_padding): Identity()\n",
              "        )\n",
              "        (_bn0): BatchNorm2d(480, eps=0.001, momentum=0.010000000000000009, affine=True, track_running_stats=True)\n",
              "        (_depthwise_conv): Conv2dStaticSamePadding(\n",
              "          480, 480, kernel_size=(3, 3), stride=(1, 1), groups=480, bias=False\n",
              "          (static_padding): ZeroPad2d((1, 1, 1, 1))\n",
              "        )\n",
              "        (_bn1): BatchNorm2d(480, eps=0.001, momentum=0.010000000000000009, affine=True, track_running_stats=True)\n",
              "        (_se_reduce): Conv2dStaticSamePadding(\n",
              "          480, 20, kernel_size=(1, 1), stride=(1, 1)\n",
              "          (static_padding): Identity()\n",
              "        )\n",
              "        (_se_expand): Conv2dStaticSamePadding(\n",
              "          20, 480, kernel_size=(1, 1), stride=(1, 1)\n",
              "          (static_padding): Identity()\n",
              "        )\n",
              "        (_project_conv): Conv2dStaticSamePadding(\n",
              "          480, 80, kernel_size=(1, 1), stride=(1, 1), bias=False\n",
              "          (static_padding): Identity()\n",
              "        )\n",
              "        (_bn2): BatchNorm2d(80, eps=0.001, momentum=0.010000000000000009, affine=True, track_running_stats=True)\n",
              "        (_swish): MemoryEfficientSwish()\n",
              "      )\n",
              "      (12): MBConvBlock(\n",
              "        (_expand_conv): Conv2dStaticSamePadding(\n",
              "          80, 480, kernel_size=(1, 1), stride=(1, 1), bias=False\n",
              "          (static_padding): Identity()\n",
              "        )\n",
              "        (_bn0): BatchNorm2d(480, eps=0.001, momentum=0.010000000000000009, affine=True, track_running_stats=True)\n",
              "        (_depthwise_conv): Conv2dStaticSamePadding(\n",
              "          480, 480, kernel_size=(5, 5), stride=[1, 1], groups=480, bias=False\n",
              "          (static_padding): ZeroPad2d((2, 2, 2, 2))\n",
              "        )\n",
              "        (_bn1): BatchNorm2d(480, eps=0.001, momentum=0.010000000000000009, affine=True, track_running_stats=True)\n",
              "        (_se_reduce): Conv2dStaticSamePadding(\n",
              "          480, 20, kernel_size=(1, 1), stride=(1, 1)\n",
              "          (static_padding): Identity()\n",
              "        )\n",
              "        (_se_expand): Conv2dStaticSamePadding(\n",
              "          20, 480, kernel_size=(1, 1), stride=(1, 1)\n",
              "          (static_padding): Identity()\n",
              "        )\n",
              "        (_project_conv): Conv2dStaticSamePadding(\n",
              "          480, 112, kernel_size=(1, 1), stride=(1, 1), bias=False\n",
              "          (static_padding): Identity()\n",
              "        )\n",
              "        (_bn2): BatchNorm2d(112, eps=0.001, momentum=0.010000000000000009, affine=True, track_running_stats=True)\n",
              "        (_swish): MemoryEfficientSwish()\n",
              "      )\n",
              "      (13-15): 3 x MBConvBlock(\n",
              "        (_expand_conv): Conv2dStaticSamePadding(\n",
              "          112, 672, kernel_size=(1, 1), stride=(1, 1), bias=False\n",
              "          (static_padding): Identity()\n",
              "        )\n",
              "        (_bn0): BatchNorm2d(672, eps=0.001, momentum=0.010000000000000009, affine=True, track_running_stats=True)\n",
              "        (_depthwise_conv): Conv2dStaticSamePadding(\n",
              "          672, 672, kernel_size=(5, 5), stride=(1, 1), groups=672, bias=False\n",
              "          (static_padding): ZeroPad2d((2, 2, 2, 2))\n",
              "        )\n",
              "        (_bn1): BatchNorm2d(672, eps=0.001, momentum=0.010000000000000009, affine=True, track_running_stats=True)\n",
              "        (_se_reduce): Conv2dStaticSamePadding(\n",
              "          672, 28, kernel_size=(1, 1), stride=(1, 1)\n",
              "          (static_padding): Identity()\n",
              "        )\n",
              "        (_se_expand): Conv2dStaticSamePadding(\n",
              "          28, 672, kernel_size=(1, 1), stride=(1, 1)\n",
              "          (static_padding): Identity()\n",
              "        )\n",
              "        (_project_conv): Conv2dStaticSamePadding(\n",
              "          672, 112, kernel_size=(1, 1), stride=(1, 1), bias=False\n",
              "          (static_padding): Identity()\n",
              "        )\n",
              "        (_bn2): BatchNorm2d(112, eps=0.001, momentum=0.010000000000000009, affine=True, track_running_stats=True)\n",
              "        (_swish): MemoryEfficientSwish()\n",
              "      )\n",
              "      (16): MBConvBlock(\n",
              "        (_expand_conv): Conv2dStaticSamePadding(\n",
              "          112, 672, kernel_size=(1, 1), stride=(1, 1), bias=False\n",
              "          (static_padding): Identity()\n",
              "        )\n",
              "        (_bn0): BatchNorm2d(672, eps=0.001, momentum=0.010000000000000009, affine=True, track_running_stats=True)\n",
              "        (_depthwise_conv): Conv2dStaticSamePadding(\n",
              "          672, 672, kernel_size=(5, 5), stride=[2, 2], groups=672, bias=False\n",
              "          (static_padding): ZeroPad2d((2, 2, 2, 2))\n",
              "        )\n",
              "        (_bn1): BatchNorm2d(672, eps=0.001, momentum=0.010000000000000009, affine=True, track_running_stats=True)\n",
              "        (_se_reduce): Conv2dStaticSamePadding(\n",
              "          672, 28, kernel_size=(1, 1), stride=(1, 1)\n",
              "          (static_padding): Identity()\n",
              "        )\n",
              "        (_se_expand): Conv2dStaticSamePadding(\n",
              "          28, 672, kernel_size=(1, 1), stride=(1, 1)\n",
              "          (static_padding): Identity()\n",
              "        )\n",
              "        (_project_conv): Conv2dStaticSamePadding(\n",
              "          672, 192, kernel_size=(1, 1), stride=(1, 1), bias=False\n",
              "          (static_padding): Identity()\n",
              "        )\n",
              "        (_bn2): BatchNorm2d(192, eps=0.001, momentum=0.010000000000000009, affine=True, track_running_stats=True)\n",
              "        (_swish): MemoryEfficientSwish()\n",
              "      )\n",
              "      (17-20): 4 x MBConvBlock(\n",
              "        (_expand_conv): Conv2dStaticSamePadding(\n",
              "          192, 1152, kernel_size=(1, 1), stride=(1, 1), bias=False\n",
              "          (static_padding): Identity()\n",
              "        )\n",
              "        (_bn0): BatchNorm2d(1152, eps=0.001, momentum=0.010000000000000009, affine=True, track_running_stats=True)\n",
              "        (_depthwise_conv): Conv2dStaticSamePadding(\n",
              "          1152, 1152, kernel_size=(5, 5), stride=(1, 1), groups=1152, bias=False\n",
              "          (static_padding): ZeroPad2d((2, 2, 2, 2))\n",
              "        )\n",
              "        (_bn1): BatchNorm2d(1152, eps=0.001, momentum=0.010000000000000009, affine=True, track_running_stats=True)\n",
              "        (_se_reduce): Conv2dStaticSamePadding(\n",
              "          1152, 48, kernel_size=(1, 1), stride=(1, 1)\n",
              "          (static_padding): Identity()\n",
              "        )\n",
              "        (_se_expand): Conv2dStaticSamePadding(\n",
              "          48, 1152, kernel_size=(1, 1), stride=(1, 1)\n",
              "          (static_padding): Identity()\n",
              "        )\n",
              "        (_project_conv): Conv2dStaticSamePadding(\n",
              "          1152, 192, kernel_size=(1, 1), stride=(1, 1), bias=False\n",
              "          (static_padding): Identity()\n",
              "        )\n",
              "        (_bn2): BatchNorm2d(192, eps=0.001, momentum=0.010000000000000009, affine=True, track_running_stats=True)\n",
              "        (_swish): MemoryEfficientSwish()\n",
              "      )\n",
              "      (21): MBConvBlock(\n",
              "        (_expand_conv): Conv2dStaticSamePadding(\n",
              "          192, 1152, kernel_size=(1, 1), stride=(1, 1), bias=False\n",
              "          (static_padding): Identity()\n",
              "        )\n",
              "        (_bn0): BatchNorm2d(1152, eps=0.001, momentum=0.010000000000000009, affine=True, track_running_stats=True)\n",
              "        (_depthwise_conv): Conv2dStaticSamePadding(\n",
              "          1152, 1152, kernel_size=(3, 3), stride=[1, 1], groups=1152, bias=False\n",
              "          (static_padding): ZeroPad2d((1, 1, 1, 1))\n",
              "        )\n",
              "        (_bn1): BatchNorm2d(1152, eps=0.001, momentum=0.010000000000000009, affine=True, track_running_stats=True)\n",
              "        (_se_reduce): Conv2dStaticSamePadding(\n",
              "          1152, 48, kernel_size=(1, 1), stride=(1, 1)\n",
              "          (static_padding): Identity()\n",
              "        )\n",
              "        (_se_expand): Conv2dStaticSamePadding(\n",
              "          48, 1152, kernel_size=(1, 1), stride=(1, 1)\n",
              "          (static_padding): Identity()\n",
              "        )\n",
              "        (_project_conv): Conv2dStaticSamePadding(\n",
              "          1152, 320, kernel_size=(1, 1), stride=(1, 1), bias=False\n",
              "          (static_padding): Identity()\n",
              "        )\n",
              "        (_bn2): BatchNorm2d(320, eps=0.001, momentum=0.010000000000000009, affine=True, track_running_stats=True)\n",
              "        (_swish): MemoryEfficientSwish()\n",
              "      )\n",
              "      (22): MBConvBlock(\n",
              "        (_expand_conv): Conv2dStaticSamePadding(\n",
              "          320, 1920, kernel_size=(1, 1), stride=(1, 1), bias=False\n",
              "          (static_padding): Identity()\n",
              "        )\n",
              "        (_bn0): BatchNorm2d(1920, eps=0.001, momentum=0.010000000000000009, affine=True, track_running_stats=True)\n",
              "        (_depthwise_conv): Conv2dStaticSamePadding(\n",
              "          1920, 1920, kernel_size=(3, 3), stride=(1, 1), groups=1920, bias=False\n",
              "          (static_padding): ZeroPad2d((1, 1, 1, 1))\n",
              "        )\n",
              "        (_bn1): BatchNorm2d(1920, eps=0.001, momentum=0.010000000000000009, affine=True, track_running_stats=True)\n",
              "        (_se_reduce): Conv2dStaticSamePadding(\n",
              "          1920, 80, kernel_size=(1, 1), stride=(1, 1)\n",
              "          (static_padding): Identity()\n",
              "        )\n",
              "        (_se_expand): Conv2dStaticSamePadding(\n",
              "          80, 1920, kernel_size=(1, 1), stride=(1, 1)\n",
              "          (static_padding): Identity()\n",
              "        )\n",
              "        (_project_conv): Conv2dStaticSamePadding(\n",
              "          1920, 320, kernel_size=(1, 1), stride=(1, 1), bias=False\n",
              "          (static_padding): Identity()\n",
              "        )\n",
              "        (_bn2): BatchNorm2d(320, eps=0.001, momentum=0.010000000000000009, affine=True, track_running_stats=True)\n",
              "        (_swish): MemoryEfficientSwish()\n",
              "      )\n",
              "    )\n",
              "    (_conv_head): Conv2dStaticSamePadding(\n",
              "      320, 1280, kernel_size=(1, 1), stride=(1, 1), bias=False\n",
              "      (static_padding): Identity()\n",
              "    )\n",
              "    (_bn1): BatchNorm2d(1280, eps=0.001, momentum=0.010000000000000009, affine=True, track_running_stats=True)\n",
              "    (_avg_pooling): AdaptiveAvgPool2d(output_size=1)\n",
              "    (_dropout): Dropout(p=0.2, inplace=False)\n",
              "    (_swish): MemoryEfficientSwish()\n",
              "  )\n",
              "  (decoder): UnetDecoder(\n",
              "    (center): Identity()\n",
              "    (blocks): ModuleList(\n",
              "      (0): DecoderBlock(\n",
              "        (conv1): Conv2dReLU(\n",
              "          (0): Conv2d(432, 256, kernel_size=(3, 3), stride=(1, 1), padding=(1, 1), bias=False)\n",
              "          (1): BatchNorm2d(256, eps=1e-05, momentum=0.1, affine=True, track_running_stats=True)\n",
              "          (2): ReLU(inplace=True)\n",
              "        )\n",
              "        (attention1): Attention(\n",
              "          (attention): Identity()\n",
              "        )\n",
              "        (conv2): Conv2dReLU(\n",
              "          (0): Conv2d(256, 256, kernel_size=(3, 3), stride=(1, 1), padding=(1, 1), bias=False)\n",
              "          (1): BatchNorm2d(256, eps=1e-05, momentum=0.1, affine=True, track_running_stats=True)\n",
              "          (2): ReLU(inplace=True)\n",
              "        )\n",
              "        (attention2): Attention(\n",
              "          (attention): Identity()\n",
              "        )\n",
              "      )\n",
              "      (1): DecoderBlock(\n",
              "        (conv1): Conv2dReLU(\n",
              "          (0): Conv2d(296, 128, kernel_size=(3, 3), stride=(1, 1), padding=(1, 1), bias=False)\n",
              "          (1): BatchNorm2d(128, eps=1e-05, momentum=0.1, affine=True, track_running_stats=True)\n",
              "          (2): ReLU(inplace=True)\n",
              "        )\n",
              "        (attention1): Attention(\n",
              "          (attention): Identity()\n",
              "        )\n",
              "        (conv2): Conv2dReLU(\n",
              "          (0): Conv2d(128, 128, kernel_size=(3, 3), stride=(1, 1), padding=(1, 1), bias=False)\n",
              "          (1): BatchNorm2d(128, eps=1e-05, momentum=0.1, affine=True, track_running_stats=True)\n",
              "          (2): ReLU(inplace=True)\n",
              "        )\n",
              "        (attention2): Attention(\n",
              "          (attention): Identity()\n",
              "        )\n",
              "      )\n",
              "      (2): DecoderBlock(\n",
              "        (conv1): Conv2dReLU(\n",
              "          (0): Conv2d(152, 64, kernel_size=(3, 3), stride=(1, 1), padding=(1, 1), bias=False)\n",
              "          (1): BatchNorm2d(64, eps=1e-05, momentum=0.1, affine=True, track_running_stats=True)\n",
              "          (2): ReLU(inplace=True)\n",
              "        )\n",
              "        (attention1): Attention(\n",
              "          (attention): Identity()\n",
              "        )\n",
              "        (conv2): Conv2dReLU(\n",
              "          (0): Conv2d(64, 64, kernel_size=(3, 3), stride=(1, 1), padding=(1, 1), bias=False)\n",
              "          (1): BatchNorm2d(64, eps=1e-05, momentum=0.1, affine=True, track_running_stats=True)\n",
              "          (2): ReLU(inplace=True)\n",
              "        )\n",
              "        (attention2): Attention(\n",
              "          (attention): Identity()\n",
              "        )\n",
              "      )\n",
              "      (3): DecoderBlock(\n",
              "        (conv1): Conv2dReLU(\n",
              "          (0): Conv2d(96, 32, kernel_size=(3, 3), stride=(1, 1), padding=(1, 1), bias=False)\n",
              "          (1): BatchNorm2d(32, eps=1e-05, momentum=0.1, affine=True, track_running_stats=True)\n",
              "          (2): ReLU(inplace=True)\n",
              "        )\n",
              "        (attention1): Attention(\n",
              "          (attention): Identity()\n",
              "        )\n",
              "        (conv2): Conv2dReLU(\n",
              "          (0): Conv2d(32, 32, kernel_size=(3, 3), stride=(1, 1), padding=(1, 1), bias=False)\n",
              "          (1): BatchNorm2d(32, eps=1e-05, momentum=0.1, affine=True, track_running_stats=True)\n",
              "          (2): ReLU(inplace=True)\n",
              "        )\n",
              "        (attention2): Attention(\n",
              "          (attention): Identity()\n",
              "        )\n",
              "      )\n",
              "      (4): DecoderBlock(\n",
              "        (conv1): Conv2dReLU(\n",
              "          (0): Conv2d(32, 16, kernel_size=(3, 3), stride=(1, 1), padding=(1, 1), bias=False)\n",
              "          (1): BatchNorm2d(16, eps=1e-05, momentum=0.1, affine=True, track_running_stats=True)\n",
              "          (2): ReLU(inplace=True)\n",
              "        )\n",
              "        (attention1): Attention(\n",
              "          (attention): Identity()\n",
              "        )\n",
              "        (conv2): Conv2dReLU(\n",
              "          (0): Conv2d(16, 16, kernel_size=(3, 3), stride=(1, 1), padding=(1, 1), bias=False)\n",
              "          (1): BatchNorm2d(16, eps=1e-05, momentum=0.1, affine=True, track_running_stats=True)\n",
              "          (2): ReLU(inplace=True)\n",
              "        )\n",
              "        (attention2): Attention(\n",
              "          (attention): Identity()\n",
              "        )\n",
              "      )\n",
              "    )\n",
              "  )\n",
              "  (segmentation_head): SegmentationHead(\n",
              "    (0): Conv2d(16, 3, kernel_size=(3, 3), stride=(1, 1), padding=(1, 1))\n",
              "    (1): Identity()\n",
              "    (2): Activation(\n",
              "      (activation): Identity()\n",
              "    )\n",
              "  )\n",
              ")"
            ]
          },
          "metadata": {},
          "execution_count": 35
        }
      ]
    },
    {
      "cell_type": "markdown",
      "source": [
        "## config"
      ],
      "metadata": {
        "id": "_VDcg1O4N6LV"
      }
    },
    {
      "cell_type": "code",
      "source": [
        "if wandb_enable:\n",
        "  key_file= os.path.join(project_path, 'key.txt')\n",
        "  if os.path.exists(key_file):\n",
        "      with open(key_file) as f:\n",
        "          key= f.readline().strip()\n",
        "      wandb.login(key= key)\n",
        "  else:\n",
        "      print(\"Key file does not exist. \",\n",
        "          \"Please create the key file with your wandb API key.\")"
      ],
      "metadata": {
        "id": "JmxeOadGN782",
        "colab": {
          "base_uri": "https://localhost:8080/"
        },
        "outputId": "e2aa6731-d8ea-4899-8175-0675b628d85a"
      },
      "execution_count": 36,
      "outputs": [
        {
          "output_type": "stream",
          "name": "stderr",
          "text": [
            "\u001b[34m\u001b[1mwandb\u001b[0m: Using wandb-core as the SDK backend.  Please refer to https://wandb.me/wandb-core for more information.\n",
            "\u001b[34m\u001b[1mwandb\u001b[0m: \u001b[33mWARNING\u001b[0m If you're specifying your api key in code, ensure this code is not shared publicly.\n",
            "\u001b[34m\u001b[1mwandb\u001b[0m: \u001b[33mWARNING\u001b[0m Consider setting the WANDB_API_KEY environment variable, or running `wandb login` from the command line.\n",
            "\u001b[34m\u001b[1mwandb\u001b[0m: No netrc file found, creating one.\n",
            "\u001b[34m\u001b[1mwandb\u001b[0m: Appending key for api.wandb.ai to your netrc file: /root/.netrc\n",
            "\u001b[34m\u001b[1mwandb\u001b[0m: Currently logged in as: \u001b[33mamirhossien922\u001b[0m to \u001b[32mhttps://api.wandb.ai\u001b[0m. Use \u001b[1m`wandb login --relogin`\u001b[0m to force relogin\n"
          ]
        }
      ]
    },
    {
      "cell_type": "code",
      "source": [
        "loss_fn= smp.losses.DiceLoss(mode= 'multilabel')\n",
        "metric= Dice().to(device)"
      ],
      "metadata": {
        "id": "idCkNwt_OYYl"
      },
      "execution_count": 37,
      "outputs": []
    },
    {
      "cell_type": "markdown",
      "source": [
        "-------------"
      ],
      "metadata": {
        "id": "11SV9tnTOy7q"
      }
    },
    {
      "cell_type": "markdown",
      "source": [
        "# 06_one epoch fn"
      ],
      "metadata": {
        "id": "wI0s6R16O0K_"
      }
    },
    {
      "cell_type": "code",
      "source": [
        "def train_one_epoch(model, train_loader, loss_fn,\n",
        "                    optimizer, metric, epoch= None):\n",
        "  model.train()\n",
        "  loss_train= MeanMetric()\n",
        "  metric.reset()\n",
        "\n",
        "  with tqdm.tqdm(train_loader, unit= 'batch') as tepoch:\n",
        "    for inputs, targets in tepoch:\n",
        "      if epoch:\n",
        "        tepoch.set_description(f'Epoch {epoch}')\n",
        "\n",
        "      inputs, targets= inputs.to(device), targets.to(device)\n",
        "      outputs= model(inputs)\n",
        "      loss= loss_fn(outputs, targets)\n",
        "\n",
        "      loss.backward()\n",
        "      optimizer.step()\n",
        "      optimizer.zero_grad()\n",
        "\n",
        "      loss_train.update(loss.item(), weight= len(targets))\n",
        "      metric.update(outputs, targets)\n",
        "      tepoch.set_postfix(loss= loss_train.compute().item(),\n",
        "                         metric= metric.compute().item())\n",
        "\n",
        "  return model, loss_train.compute().item(), metric.compute().item()"
      ],
      "metadata": {
        "id": "iBpJe2fxOzp3"
      },
      "execution_count": 38,
      "outputs": []
    },
    {
      "cell_type": "code",
      "source": [
        "def evaluate(model, test_loader, loss_fn, metric):\n",
        "  model.eval()\n",
        "  loss_eval= MeanMetric()\n",
        "  metric.reset()\n",
        "\n",
        "  with torch.inference_mode():\n",
        "    for inputs, targets in test_loader:\n",
        "      inputs, targets= inputs.to(device), targets.to(device)\n",
        "      outputs= model(inputs)\n",
        "      loss= loss_fn(outputs, targets)\n",
        "\n",
        "      loss_eval.update(loss.item(), weight= len(targets))\n",
        "      metric(outputs, targets)\n",
        "\n",
        "  return loss_eval.compute().item(), metric.compute().item()"
      ],
      "metadata": {
        "id": "-zYXWX5APpaX"
      },
      "execution_count": 39,
      "outputs": []
    },
    {
      "cell_type": "markdown",
      "source": [
        "-------------"
      ],
      "metadata": {
        "id": "PWygAvCtP4VQ"
      }
    },
    {
      "cell_type": "markdown",
      "source": [
        "# 07_Set Hyperparameters"
      ],
      "metadata": {
        "id": "YtfMohQ5P5ad"
      }
    },
    {
      "cell_type": "markdown",
      "source": [
        "## base loss"
      ],
      "metadata": {
        "id": "LUhgpr9MQI4Z"
      }
    },
    {
      "cell_type": "code",
      "source": [
        "model= smp.Unet(encoder_name= backbone, encoder_weights= pretrain_weights,\n",
        "                in_channels= image_channels, classes= len(classes)).to(device)\n",
        "\n",
        "loss_base, metric_base= evaluate(model, valid_loader, loss_fn, metric)\n",
        "print(f'loss base: {loss_base:.2f}, metric base: {metric_base:.2f}')"
      ],
      "metadata": {
        "id": "RR2QD8Q_P49M",
        "colab": {
          "base_uri": "https://localhost:8080/"
        },
        "outputId": "0fac78dd-a6ba-457f-e797-54efcedd1ac5"
      },
      "execution_count": null,
      "outputs": [
        {
          "output_type": "stream",
          "name": "stdout",
          "text": [
            "loss base: 0.96, metric base: 0.02\n"
          ]
        }
      ]
    },
    {
      "cell_type": "markdown",
      "source": [
        "## grid search"
      ],
      "metadata": {
        "id": "TDa2IhEmRAhk"
      }
    },
    {
      "cell_type": "code",
      "source": [
        "num_epochs= 3\n",
        "\n",
        "for lr in [1, 0.1, 0.01]:\n",
        "  print(f'LR={lr}')\n",
        "\n",
        "  model= smp.Unet(encoder_name= backbone, encoder_weights= pretrain_weights,\n",
        "                  in_channels= image_channels, classes= len(classes)).to(device)\n",
        "  optimizer= optim.SGD(model.parameters(), lr= lr,\n",
        "                       weight_decay= wd, momentum= momentum)\n",
        "\n",
        "  for epoch in range(num_epochs):\n",
        "    model, _, _= train_one_epoch(model, valid_loader, loss_fn, optimizer, metric, epoch+1)\n",
        "  loss_grid, metric_grid= evaluate(model, valid_loader, loss_fn, metric)\n",
        "  print(f'loss: {loss_grid:.2f}, metric: {metric_grid:.2f}')\n",
        "  print()"
      ],
      "metadata": {
        "id": "KEUkrRNJREjG",
        "colab": {
          "base_uri": "https://localhost:8080/"
        },
        "outputId": "963dd0c4-ec58-4721-f121-cb1641ad9f75"
      },
      "execution_count": null,
      "outputs": [
        {
          "output_type": "stream",
          "name": "stdout",
          "text": [
            "LR=1\n"
          ]
        },
        {
          "output_type": "stream",
          "name": "stderr",
          "text": [
            "Epoch 1: 100%|██████████| 47/47 [00:28<00:00,  1.65batch/s, loss=0.873, metric=0.0832]\n",
            "Epoch 2: 100%|██████████| 47/47 [00:30<00:00,  1.53batch/s, loss=0.781, metric=0.276]\n",
            "Epoch 3: 100%|██████████| 47/47 [00:28<00:00,  1.63batch/s, loss=0.768, metric=0.298]\n"
          ]
        },
        {
          "output_type": "stream",
          "name": "stdout",
          "text": [
            "loss: 0.95, metric: 0.03\n",
            "\n",
            "LR=0.1\n"
          ]
        },
        {
          "output_type": "stream",
          "name": "stderr",
          "text": [
            "Epoch 1: 100%|██████████| 47/47 [00:29<00:00,  1.60batch/s, loss=0.93, metric=0.0694]\n",
            "Epoch 2: 100%|██████████| 47/47 [00:29<00:00,  1.61batch/s, loss=0.787, metric=0.167]\n",
            "Epoch 3: 100%|██████████| 47/47 [00:32<00:00,  1.44batch/s, loss=0.638, metric=0.353]\n"
          ]
        },
        {
          "output_type": "stream",
          "name": "stdout",
          "text": [
            "loss: 0.67, metric: 0.32\n",
            "\n",
            "LR=0.01\n"
          ]
        },
        {
          "output_type": "stream",
          "name": "stderr",
          "text": [
            "Epoch 1: 100%|██████████| 47/47 [00:29<00:00,  1.61batch/s, loss=0.949, metric=0.0463]\n",
            "Epoch 2: 100%|██████████| 47/47 [00:29<00:00,  1.59batch/s, loss=0.943, metric=0.0659]\n",
            "Epoch 3: 100%|██████████| 47/47 [00:29<00:00,  1.61batch/s, loss=0.935, metric=0.0757]\n"
          ]
        },
        {
          "output_type": "stream",
          "name": "stdout",
          "text": [
            "loss: 0.94, metric: 0.07\n",
            "\n"
          ]
        }
      ]
    },
    {
      "cell_type": "markdown",
      "source": [
        "---------"
      ],
      "metadata": {
        "id": "MAecYCWlSI2p"
      }
    },
    {
      "cell_type": "markdown",
      "source": [
        "# 08_Training"
      ],
      "metadata": {
        "id": "-IJjd56WSMl7"
      }
    },
    {
      "cell_type": "markdown",
      "source": [
        "## create new model"
      ],
      "metadata": {
        "id": "z0GEUEkHVnJG"
      }
    },
    {
      "cell_type": "code",
      "source": [
        "loss_train_hist, loss_valid_hist= [], []\n",
        "metric_train_hist, metric_valid_hist= [], []\n",
        "best_loss_valid= torch.inf\n",
        "epoch_counter= 0\n",
        "\n",
        "if seed: set_seed(seed)\n",
        "\n",
        "model= smp.Unet(encoder_name= backbone, encoder_weights= pretrain_weights,\n",
        "                in_channels= image_channels, classes= len(classes)).to(device)"
      ],
      "metadata": {
        "id": "6OhEKaxJSJik"
      },
      "execution_count": 40,
      "outputs": []
    },
    {
      "cell_type": "markdown",
      "source": [
        "## set optimizer"
      ],
      "metadata": {
        "id": "rs6Ku_QTVh4a"
      }
    },
    {
      "cell_type": "code",
      "source": [
        "lr= 0.3\n",
        "num_epochs= 15\n",
        "# model= torch.load(f'{project_path}model.pt', map_location= device)\n",
        "optimizer= optim.SGD(model.parameters(), lr= lr,\n",
        "                     weight_decay= wd, momentum= momentum)\n",
        "\n",
        "lr_scheduler= optim.lr_scheduler.MultiStepLR(optimizer,\n",
        "                                             milestones= [5, 10, 15],\n",
        "                                             gamma= 0.1)"
      ],
      "metadata": {
        "id": "GeX-jlJuSvKd"
      },
      "execution_count": 41,
      "outputs": []
    },
    {
      "cell_type": "markdown",
      "source": [
        "## initialize wandb"
      ],
      "metadata": {
        "id": "Hf3EPyhFVd_l"
      }
    },
    {
      "cell_type": "code",
      "source": [
        "if wandb_enable:\n",
        "  wandb.init(\n",
        "      project= 'GMI Segmentation',\n",
        "      name=wandb_arg_name,\n",
        "      config={\n",
        "          'backbone': backbone,\n",
        "          'pretrain_weights': pretrain_weights,\n",
        "          'lr': lr,\n",
        "          'momentum': momentum,\n",
        "          'wd': 1e-4,\n",
        "          'batch_size': batch_size,\n",
        "          'num_epochs': num_epochs,\n",
        "          'lr_scheduler': [5, 10, 15],\n",
        "          'gamma': 0.1}\n",
        "  )"
      ],
      "metadata": {
        "id": "9rvIfQJdTOMN",
        "colab": {
          "base_uri": "https://localhost:8080/",
          "height": 105
        },
        "outputId": "63943b07-8a7e-4741-f1bb-c90e501346c4"
      },
      "execution_count": 44,
      "outputs": [
        {
          "output_type": "display_data",
          "data": {
            "text/plain": [
              "<IPython.core.display.HTML object>"
            ],
            "text/html": [
              "Tracking run with wandb version 0.19.8"
            ]
          },
          "metadata": {}
        },
        {
          "output_type": "display_data",
          "data": {
            "text/plain": [
              "<IPython.core.display.HTML object>"
            ],
            "text/html": [
              "Run data is saved locally in <code>/content/wandb/run-20250327_063751-6rca2b2q</code>"
            ]
          },
          "metadata": {}
        },
        {
          "output_type": "display_data",
          "data": {
            "text/plain": [
              "<IPython.core.display.HTML object>"
            ],
            "text/html": [
              "Syncing run <strong><a href='https://wandb.ai/amirhossien922/GMI%20Segmentation/runs/6rca2b2q' target=\"_blank\">Medical_Image_Segmentation</a></strong> to <a href='https://wandb.ai/amirhossien922/GMI%20Segmentation' target=\"_blank\">Weights & Biases</a> (<a href='https://wandb.me/developer-guide' target=\"_blank\">docs</a>)<br>"
            ]
          },
          "metadata": {}
        },
        {
          "output_type": "display_data",
          "data": {
            "text/plain": [
              "<IPython.core.display.HTML object>"
            ],
            "text/html": [
              " View project at <a href='https://wandb.ai/amirhossien922/GMI%20Segmentation' target=\"_blank\">https://wandb.ai/amirhossien922/GMI%20Segmentation</a>"
            ]
          },
          "metadata": {}
        },
        {
          "output_type": "display_data",
          "data": {
            "text/plain": [
              "<IPython.core.display.HTML object>"
            ],
            "text/html": [
              " View run at <a href='https://wandb.ai/amirhossien922/GMI%20Segmentation/runs/6rca2b2q' target=\"_blank\">https://wandb.ai/amirhossien922/GMI%20Segmentation/runs/6rca2b2q</a>"
            ]
          },
          "metadata": {}
        }
      ]
    },
    {
      "cell_type": "markdown",
      "source": [
        "## main loop"
      ],
      "metadata": {
        "id": "9ttQR1erU5rY"
      }
    },
    {
      "cell_type": "code",
      "source": [
        "for epoch in range(num_epochs):\n",
        "  model, loss_train, metric_train= train_one_epoch(model, train_loader,\n",
        "                                                   loss_fn, optimizer,\n",
        "                                                   metric, epoch+1)\n",
        "  loss_valid, metric_valid= evaluate(model, valid_loader, loss_fn, metric)\n",
        "\n",
        "  loss_train_hist.append(loss_train)\n",
        "  loss_valid_hist.append(loss_valid)\n",
        "  metric_train_hist.append(metric_train)\n",
        "  metric_valid_hist.append(metric_valid)\n",
        "\n",
        "  if loss_valid < best_loss_valid:\n",
        "    torch.save(model, f'{project_path}model.pt')\n",
        "    best_loss_valid= loss_valid\n",
        "    print('Model Saved!')\n",
        "\n",
        "  if wandb_enable:\n",
        "    wandb.log({\"metric_train\": metric_train, \"loss_train\": loss_train,\n",
        "                \"metric_valid\": metric_valid, \"loss_valid\": loss_valid})\n",
        "\n",
        "  print(f'Valid: Loss = {loss_valid:.4}, Metric = {metric_valid:.4}')\n",
        "  print(f'LR = {lr_scheduler.get_last_lr()[0]}')\n",
        "  print()\n",
        "\n",
        "  lr_scheduler.step()\n",
        "\n",
        "  epoch_counter += 1"
      ],
      "metadata": {
        "id": "rNlnG5DCUtHB",
        "colab": {
          "base_uri": "https://localhost:8080/"
        },
        "outputId": "a65d9279-c533-4df4-fd6b-44da130c531c"
      },
      "execution_count": 45,
      "outputs": [
        {
          "metadata": {
            "tags": null
          },
          "name": "stderr",
          "output_type": "stream",
          "text": [
            "Epoch 1: 100%|██████████| 376/376 [04:07<00:00,  1.52batch/s, loss=0.428, metric=0.324]\n"
          ]
        },
        {
          "metadata": {
            "tags": null
          },
          "name": "stdout",
          "output_type": "stream",
          "text": [
            "Model Saved!\n",
            "Valid: Loss = 0.3598, Metric = 0.6918\n",
            "LR = 0.3\n",
            "\n"
          ]
        },
        {
          "metadata": {
            "tags": null
          },
          "name": "stderr",
          "output_type": "stream",
          "text": [
            "Epoch 2: 100%|██████████| 376/376 [04:05<00:00,  1.53batch/s, loss=0.207, metric=0.787]\n"
          ]
        },
        {
          "metadata": {
            "tags": null
          },
          "name": "stdout",
          "output_type": "stream",
          "text": [
            "Model Saved!\n",
            "Valid: Loss = 0.3307, Metric = 0.7229\n",
            "LR = 0.3\n",
            "\n"
          ]
        },
        {
          "metadata": {
            "tags": null
          },
          "name": "stderr",
          "output_type": "stream",
          "text": [
            "Epoch 3: 100%|██████████| 376/376 [04:04<00:00,  1.54batch/s, loss=0.186, metric=0.808]\n"
          ]
        },
        {
          "metadata": {
            "tags": null
          },
          "name": "stdout",
          "output_type": "stream",
          "text": [
            "Valid: Loss = 0.4089, Metric = 0.6596\n",
            "LR = 0.3\n",
            "\n"
          ]
        },
        {
          "metadata": {
            "tags": null
          },
          "name": "stderr",
          "output_type": "stream",
          "text": [
            "Epoch 4: 100%|██████████| 376/376 [04:05<00:00,  1.53batch/s, loss=0.176, metric=0.818]\n"
          ]
        },
        {
          "metadata": {
            "tags": null
          },
          "name": "stdout",
          "output_type": "stream",
          "text": [
            "Valid: Loss = 0.456, Metric = 0.5897\n",
            "LR = 0.3\n",
            "\n"
          ]
        },
        {
          "metadata": {
            "tags": null
          },
          "name": "stderr",
          "output_type": "stream",
          "text": [
            "Epoch 5: 100%|██████████| 376/376 [04:04<00:00,  1.54batch/s, loss=0.175, metric=0.819]\n"
          ]
        },
        {
          "metadata": {
            "tags": null
          },
          "name": "stdout",
          "output_type": "stream",
          "text": [
            "Valid: Loss = 0.3328, Metric = 0.7214\n",
            "LR = 0.3\n",
            "\n"
          ]
        },
        {
          "metadata": {
            "tags": null
          },
          "name": "stderr",
          "output_type": "stream",
          "text": [
            "Epoch 6: 100%|██████████| 376/376 [04:16<00:00,  1.47batch/s, loss=0.144, metric=0.85]\n"
          ]
        },
        {
          "metadata": {
            "tags": null
          },
          "name": "stdout",
          "output_type": "stream",
          "text": [
            "Model Saved!\n",
            "Valid: Loss = 0.2423, Metric = 0.7997\n",
            "LR = 0.03\n",
            "\n"
          ]
        },
        {
          "metadata": {
            "tags": null
          },
          "name": "stderr",
          "output_type": "stream",
          "text": [
            "Epoch 7: 100%|██████████| 376/376 [04:12<00:00,  1.49batch/s, loss=0.135, metric=0.86]\n"
          ]
        },
        {
          "metadata": {
            "tags": null
          },
          "name": "stdout",
          "output_type": "stream",
          "text": [
            "Model Saved!\n",
            "Valid: Loss = 0.2345, Metric = 0.7977\n",
            "LR = 0.03\n",
            "\n"
          ]
        },
        {
          "metadata": {
            "tags": null
          },
          "name": "stderr",
          "output_type": "stream",
          "text": [
            "Epoch 8: 100%|██████████| 376/376 [04:05<00:00,  1.53batch/s, loss=0.131, metric=0.864]\n"
          ]
        },
        {
          "metadata": {
            "tags": null
          },
          "name": "stdout",
          "output_type": "stream",
          "text": [
            "Model Saved!\n",
            "Valid: Loss = 0.2343, Metric = 0.7934\n",
            "LR = 0.03\n",
            "\n"
          ]
        },
        {
          "metadata": {
            "tags": null
          },
          "name": "stderr",
          "output_type": "stream",
          "text": [
            "Epoch 9: 100%|██████████| 376/376 [04:05<00:00,  1.53batch/s, loss=0.127, metric=0.868]\n"
          ]
        },
        {
          "metadata": {
            "tags": null
          },
          "name": "stdout",
          "output_type": "stream",
          "text": [
            "Valid: Loss = 0.2391, Metric = 0.8009\n",
            "LR = 0.03\n",
            "\n"
          ]
        },
        {
          "metadata": {
            "tags": null
          },
          "name": "stderr",
          "output_type": "stream",
          "text": [
            "Epoch 10: 100%|██████████| 376/376 [04:05<00:00,  1.53batch/s, loss=0.125, metric=0.87]\n"
          ]
        },
        {
          "metadata": {
            "tags": null
          },
          "name": "stdout",
          "output_type": "stream",
          "text": [
            "Valid: Loss = 0.2434, Metric = 0.7918\n",
            "LR = 0.03\n",
            "\n"
          ]
        },
        {
          "metadata": {
            "tags": null
          },
          "name": "stderr",
          "output_type": "stream",
          "text": [
            "Epoch 11: 100%|██████████| 376/376 [04:04<00:00,  1.54batch/s, loss=0.122, metric=0.873]\n"
          ]
        },
        {
          "metadata": {
            "tags": null
          },
          "name": "stdout",
          "output_type": "stream",
          "text": [
            "Valid: Loss = 0.2347, Metric = 0.7986\n",
            "LR = 0.003\n",
            "\n"
          ]
        },
        {
          "output_type": "stream",
          "name": "stderr",
          "text": [
            "Epoch 12: 100%|██████████| 376/376 [04:03<00:00,  1.54batch/s, loss=0.121, metric=0.874]\n"
          ]
        },
        {
          "output_type": "stream",
          "name": "stdout",
          "text": [
            "Model Saved!\n",
            "Valid: Loss = 0.2337, Metric = 0.8001\n",
            "LR = 0.003\n",
            "\n"
          ]
        },
        {
          "output_type": "stream",
          "name": "stderr",
          "text": [
            "Epoch 13: 100%|██████████| 376/376 [04:03<00:00,  1.54batch/s, loss=0.121, metric=0.874]\n"
          ]
        },
        {
          "output_type": "stream",
          "name": "stdout",
          "text": [
            "Valid: Loss = 0.2344, Metric = 0.7996\n",
            "LR = 0.003\n",
            "\n"
          ]
        },
        {
          "output_type": "stream",
          "name": "stderr",
          "text": [
            "Epoch 14: 100%|██████████| 376/376 [04:03<00:00,  1.55batch/s, loss=0.12, metric=0.875]\n"
          ]
        },
        {
          "output_type": "stream",
          "name": "stdout",
          "text": [
            "Valid: Loss = 0.2345, Metric = 0.8005\n",
            "LR = 0.003\n",
            "\n"
          ]
        },
        {
          "output_type": "stream",
          "name": "stderr",
          "text": [
            "Epoch 15: 100%|██████████| 376/376 [04:03<00:00,  1.54batch/s, loss=0.12, metric=0.875]\n"
          ]
        },
        {
          "output_type": "stream",
          "name": "stdout",
          "text": [
            "Valid: Loss = 0.2347, Metric = 0.8\n",
            "LR = 0.003\n",
            "\n"
          ]
        }
      ]
    },
    {
      "cell_type": "code",
      "source": [
        "if wandb_enable: wandb.finish()"
      ],
      "metadata": {
        "id": "xhbl3hPbU9sN",
        "colab": {
          "base_uri": "https://localhost:8080/",
          "height": 465
        },
        "outputId": "266ec991-8309-4504-c45d-89f3fc602987"
      },
      "execution_count": 46,
      "outputs": [
        {
          "output_type": "display_data",
          "data": {
            "text/plain": [
              "<IPython.core.display.HTML object>"
            ],
            "text/html": []
          },
          "metadata": {}
        },
        {
          "output_type": "display_data",
          "data": {
            "text/plain": [
              "<IPython.core.display.HTML object>"
            ],
            "text/html": [
              "<br>    <style><br>        .wandb-row {<br>            display: flex;<br>            flex-direction: row;<br>            flex-wrap: wrap;<br>            justify-content: flex-start;<br>            width: 100%;<br>        }<br>        .wandb-col {<br>            display: flex;<br>            flex-direction: column;<br>            flex-basis: 100%;<br>            flex: 1;<br>            padding: 10px;<br>        }<br>    </style><br><div class=\"wandb-row\"><div class=\"wandb-col\"><h3>Run history:</h3><br/><table class=\"wandb\"><tr><td>loss_train</td><td>█▃▂▂▂▂▁▁▁▁▁▁▁▁▁</td></tr><tr><td>loss_valid</td><td>▅▄▇█▄▁▁▁▁▁▁▁▁▁▁</td></tr><tr><td>metric_train</td><td>▁▇▇▇▇██████████</td></tr><tr><td>metric_valid</td><td>▄▅▃▁▅██████████</td></tr></table><br/></div><div class=\"wandb-col\"><h3>Run summary:</h3><br/><table class=\"wandb\"><tr><td>loss_train</td><td>0.1201</td></tr><tr><td>loss_valid</td><td>0.23469</td></tr><tr><td>metric_train</td><td>0.87513</td></tr><tr><td>metric_valid</td><td>0.79998</td></tr></table><br/></div></div>"
            ]
          },
          "metadata": {}
        },
        {
          "output_type": "display_data",
          "data": {
            "text/plain": [
              "<IPython.core.display.HTML object>"
            ],
            "text/html": [
              " View run <strong style=\"color:#cdcd00\">Medical_Image_Segmentation</strong> at: <a href='https://wandb.ai/amirhossien922/GMI%20Segmentation/runs/6rca2b2q' target=\"_blank\">https://wandb.ai/amirhossien922/GMI%20Segmentation/runs/6rca2b2q</a><br> View project at: <a href='https://wandb.ai/amirhossien922/GMI%20Segmentation' target=\"_blank\">https://wandb.ai/amirhossien922/GMI%20Segmentation</a><br>Synced 5 W&B file(s), 0 media file(s), 0 artifact file(s) and 0 other file(s)"
            ]
          },
          "metadata": {}
        },
        {
          "output_type": "display_data",
          "data": {
            "text/plain": [
              "<IPython.core.display.HTML object>"
            ],
            "text/html": [
              "Find logs at: <code>./wandb/run-20250327_063751-6rca2b2q/logs</code>"
            ]
          },
          "metadata": {}
        }
      ]
    },
    {
      "cell_type": "markdown",
      "source": [
        "--------"
      ],
      "metadata": {
        "id": "UsAe8o8MWng7"
      }
    },
    {
      "cell_type": "markdown",
      "source": [
        "# 09_Learning curve"
      ],
      "metadata": {
        "id": "K2X5H9BcWo6M"
      }
    },
    {
      "cell_type": "code",
      "source": [
        "plt.plot(range(len(loss_train_hist)), loss_train_hist, 'k-', label= 'Train')\n",
        "plt.plot(range(len(loss_valid_hist)), loss_valid_hist, 'b-', label= 'Validation')\n",
        "\n",
        "plt.xlabel('Epoch')\n",
        "plt.ylabel('DiceLoss')\n",
        "plt.grid(True)\n",
        "plt.legend()"
      ],
      "metadata": {
        "id": "r9OaIY3UWoWl",
        "colab": {
          "base_uri": "https://localhost:8080/",
          "height": 467
        },
        "outputId": "e1715d9e-f64c-4ef0-f843-c03657d410b7"
      },
      "execution_count": 47,
      "outputs": [
        {
          "output_type": "execute_result",
          "data": {
            "text/plain": [
              "<matplotlib.legend.Legend at 0x793e0c2b0c10>"
            ]
          },
          "metadata": {},
          "execution_count": 47
        },
        {
          "output_type": "display_data",
          "data": {
            "text/plain": [
              "<Figure size 640x480 with 1 Axes>"
            ],
            "image/png": "[encoded data removed]"
          },
          "metadata": {}
        }
      ]
    },
    {
      "cell_type": "code",
      "source": [
        "plt.plot(range(len(metric_train_hist)), metric_train_hist, 'k-', label= 'Train')\n",
        "plt.plot(range(len(metric_valid_hist)), metric_valid_hist, 'b-', label= 'Validation')\n",
        "\n",
        "plt.xlabel('Epoch')\n",
        "plt.ylabel('Dice Metric')\n",
        "plt.grid(True)\n",
        "plt.legend()"
      ],
      "metadata": {
        "id": "CJnbGqjYehFI",
        "colab": {
          "base_uri": "https://localhost:8080/",
          "height": 471
        },
        "outputId": "da689e37-ba33-419c-d1a0-bbbf7c755518"
      },
      "execution_count": 48,
      "outputs": [
        {
          "output_type": "execute_result",
          "data": {
            "text/plain": [
              "<matplotlib.legend.Legend at 0x793e0c2d4ad0>"
            ]
          },
          "metadata": {},
          "execution_count": 48
        },
        {
          "output_type": "display_data",
          "data": {
            "text/plain": [
              "<Figure size 640x480 with 1 Axes>"
            ],
            "image/png": "[encoded data removed]"
          },
          "metadata": {}
        }
      ]
    },
    {
      "cell_type": "markdown",
      "source": [
        "-------"
      ],
      "metadata": {
        "id": "zuWUwdm4Z7K_"
      }
    },
    {
      "cell_type": "markdown",
      "source": [
        "# 10_Test"
      ],
      "metadata": {
        "id": "8M36hpW5Z8L7"
      }
    },
    {
      "cell_type": "code",
      "source": [
        "model= torch.load(f'{project_path}model.pt', map_location= device,\n",
        "                  weights_only= False)\n",
        "model.eval()\n",
        "loss_test, metric_test= evaluate(model, test_loader, loss_fn, metric)\n",
        "print(f'loss: {loss_test:.2f}, metric: {metric_test:.2f}')"
      ],
      "metadata": {
        "id": "qnXqtwyOZ7yQ",
        "colab": {
          "base_uri": "https://localhost:8080/"
        },
        "outputId": "89cb078d-c2f5-49d8-dd8f-bbae3de27fa3"
      },
      "execution_count": 55,
      "outputs": [
        {
          "output_type": "stream",
          "name": "stdout",
          "text": [
            "loss: 0.23, metric: 0.79\n"
          ]
        }
      ]
    },
    {
      "cell_type": "markdown",
      "source": [
        "## show sample"
      ],
      "metadata": {
        "id": "4KfrjayVayR_"
      }
    },
    {
      "cell_type": "code",
      "source": [
        "def segment(image, model):\n",
        "  with torch.inference_mode():\n",
        "    prediction= model(image)\n",
        "    return torch.sigmoid(prediction).cpu()"
      ],
      "metadata": {
        "id": "3yR4KUUjc7cq"
      },
      "execution_count": 56,
      "outputs": []
    },
    {
      "cell_type": "code",
      "source": [
        "def sample_genertor(dataloader):\n",
        "  batch_num= random.randint(0, len(dataloader) - 2)\n",
        "  sample_num= random.randint(0, dataloader.batch_size - 1)\n",
        "  print(f\"sample {sample_num} from batch {batch_num}\")\n",
        "  for batch_idx, (inputs, labels) in enumerate(dataloader):\n",
        "    if batch_idx == batch_num:\n",
        "      break\n",
        "    return inputs[sample_num], labels[sample_num]"
      ],
      "metadata": {
        "id": "-9_94XcVmVT0"
      },
      "execution_count": 76,
      "outputs": []
    },
    {
      "cell_type": "code",
      "source": [
        "img, mask= sample_genertor(test_loader)\n",
        "img, mask= img.unsqueeze(0), mask.unsqueeze(0)\n",
        "output= segment(img.to(device), model)\n",
        "\n",
        "plt.figure(figsize= (18, 6))\n",
        "plt.subplot(1, 3, 1)\n",
        "plt.imshow(img[0, 0], cmap= 'gray');\n",
        "plt.title('Input')\n",
        "\n",
        "plt.subplot(1, 3, 2)\n",
        "plt.imshow(img[0, 0], cmap= 'gray');\n",
        "plt.imshow(output[0].permute(1, 2, 0), alpha= 0.3);\n",
        "plt.title('Model')\n",
        "\n",
        "plt.subplot(1, 3, 3)\n",
        "plt.imshow(img[0, 0], cmap= 'gray');\n",
        "plt.imshow(mask[0].permute(1, 2, 0).float(), alpha= 0.3);\n",
        "plt.title('Target');"
      ],
      "metadata": {
        "id": "WCcZb_bVdElI",
        "colab": {
          "base_uri": "https://localhost:8080/",
          "height": 261
        },
        "outputId": "fb2f451d-16f5-4029-dd36-8da079150e81"
      },
      "execution_count": 78,
      "outputs": [
        {
          "output_type": "stream",
          "name": "stdout",
          "text": [
            "sample 23 from batch 28\n"
          ]
        },
        {
          "output_type": "display_data",
          "data": {
            "text/plain": [
              "<Figure size 1800x600 with 3 Axes>"
            ],
            "image/png": "[encoded data removed]"
          },
          "metadata": {}
        }
      ]
    },
    {
      "cell_type": "markdown",
      "source": [
        "## class-wise dice"
      ],
      "metadata": {
        "id": "0yQ-BLnlaq9z"
      }
    },
    {
      "cell_type": "code",
      "source": [
        "outputs= []\n",
        "for img, mask in test_loader:\n",
        "  output= segment(img.to(device), model)\n",
        "  outputs.append(output)\n",
        "\n",
        "large_bowel_dice, small_bowel_dice, stomach_dice= Dice(), Dice(), Dice()\n",
        "\n",
        "for output, (_, mask) in zip(outputs, test_loader):\n",
        "  large_bowel_dice.update(output[0, 0], mask[0, 0])\n",
        "  small_bowel_dice.update(output[0, 1], mask[0, 1])\n",
        "  stomach_dice.update(output[0, 2], mask[0, 2])\n",
        "\n",
        "print(f'Large Bowel Dice: {large_bowel_dice.compute().item()}')\n",
        "print(f'Small Bowel Dice: {small_bowel_dice.compute().item()}')\n",
        "print(f'Stomach Dice: {stomach_dice.compute().item()}')"
      ],
      "metadata": {
        "colab": {
          "base_uri": "https://localhost:8080/"
        },
        "id": "3owOI5GnVMPu",
        "outputId": "af0eccd1-7560-4559-f136-061d9b4bdc23"
      },
      "execution_count": 60,
      "outputs": [
        {
          "output_type": "stream",
          "name": "stdout",
          "text": [
            "Large Bowel Dice: 0.8228875398635864\n",
            "Small Bowel Dice: 0.7152706384658813\n",
            "Stomach Dice: 0.8490214347839355\n"
          ]
        }
      ]
    }
  ]
}